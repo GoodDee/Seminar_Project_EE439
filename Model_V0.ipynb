{
 "cells": [
  {
   "cell_type": "markdown",
   "metadata": {},
   "source": [
    "## PART 1: Data Cleaning and Feature Engineering\n",
    "\n",
    "In this notebook, I will walkthrough the process of inputting SET data file and generating a number of features, including the classification predictions.\n",
    "The purpose is to get data ready for model building in the next part."
   ]
  },
  {
   "cell_type": "code",
   "execution_count": 1,
   "metadata": {},
   "outputs": [],
   "source": [
    "import pandas as pd\n",
    "import numpy as np\n",
    "\n",
    "import statsmodels.api as sm\n",
    "import matplotlib.pyplot as plt\n",
    "\n",
    "from datetime import datetime"
   ]
  },
  {
   "cell_type": "code",
   "execution_count": 2,
   "metadata": {},
   "outputs": [
    {
     "data": {
      "text/html": [
       "<div>\n",
       "<style scoped>\n",
       "    .dataframe tbody tr th:only-of-type {\n",
       "        vertical-align: middle;\n",
       "    }\n",
       "\n",
       "    .dataframe tbody tr th {\n",
       "        vertical-align: top;\n",
       "    }\n",
       "\n",
       "    .dataframe thead th {\n",
       "        text-align: right;\n",
       "    }\n",
       "</style>\n",
       "<table border=\"1\" class=\"dataframe\">\n",
       "  <thead>\n",
       "    <tr style=\"text-align: right;\">\n",
       "      <th></th>\n",
       "      <th>Date</th>\n",
       "      <th>Close</th>\n",
       "    </tr>\n",
       "  </thead>\n",
       "  <tbody>\n",
       "    <tr>\n",
       "      <th>0</th>\n",
       "      <td>2001-01-01</td>\n",
       "      <td>269.19</td>\n",
       "    </tr>\n",
       "    <tr>\n",
       "      <th>1</th>\n",
       "      <td>2001-01-02</td>\n",
       "      <td>269.19</td>\n",
       "    </tr>\n",
       "    <tr>\n",
       "      <th>2</th>\n",
       "      <td>2001-01-03</td>\n",
       "      <td>272.03</td>\n",
       "    </tr>\n",
       "    <tr>\n",
       "      <th>3</th>\n",
       "      <td>2001-01-04</td>\n",
       "      <td>278.75</td>\n",
       "    </tr>\n",
       "    <tr>\n",
       "      <th>4</th>\n",
       "      <td>2001-01-05</td>\n",
       "      <td>286.76</td>\n",
       "    </tr>\n",
       "  </tbody>\n",
       "</table>\n",
       "</div>"
      ],
      "text/plain": [
       "        Date   Close\n",
       "0 2001-01-01  269.19\n",
       "1 2001-01-02  269.19\n",
       "2 2001-01-03  272.03\n",
       "3 2001-01-04  278.75\n",
       "4 2001-01-05  286.76"
      ]
     },
     "execution_count": 2,
     "metadata": {},
     "output_type": "execute_result"
    }
   ],
   "source": [
    "# Read SET index price file & rename columns\n",
    "# This file contains SET index from 2001 to the end of 2020 retrieved from Thomson Reuter Datastream\n",
    "# Shape of this dataframe = (5220, 2)\n",
    "# Properties: 1) Date (datetime64[ns]); 2) Close (float64)\n",
    "\n",
    "SET_IDX_PRICE = pd.read_csv('data/SET/SET_Price.csv', parse_dates = True)\n",
    "SET_IDX_PRICE = SET_IDX_PRICE.rename(columns = {'Name': 'Date', 'BNGKSET_P': 'Close'})\n",
    "SET_IDX_PRICE['Date'] = pd.to_datetime(SET_IDX_PRICE['Date'])\n",
    "SET_IDX_PRICE.head()"
   ]
  },
  {
   "cell_type": "code",
   "execution_count": 3,
   "metadata": {},
   "outputs": [
    {
     "data": {
      "text/html": [
       "<div>\n",
       "<style scoped>\n",
       "    .dataframe tbody tr th:only-of-type {\n",
       "        vertical-align: middle;\n",
       "    }\n",
       "\n",
       "    .dataframe tbody tr th {\n",
       "        vertical-align: top;\n",
       "    }\n",
       "\n",
       "    .dataframe thead th {\n",
       "        text-align: right;\n",
       "    }\n",
       "</style>\n",
       "<table border=\"1\" class=\"dataframe\">\n",
       "  <thead>\n",
       "    <tr style=\"text-align: right;\">\n",
       "      <th></th>\n",
       "      <th>Date</th>\n",
       "      <th>Volume</th>\n",
       "    </tr>\n",
       "  </thead>\n",
       "  <tbody>\n",
       "    <tr>\n",
       "      <th>0</th>\n",
       "      <td>2001-01-01</td>\n",
       "      <td>NaN</td>\n",
       "    </tr>\n",
       "    <tr>\n",
       "      <th>1</th>\n",
       "      <td>2001-01-02</td>\n",
       "      <td>NaN</td>\n",
       "    </tr>\n",
       "    <tr>\n",
       "      <th>2</th>\n",
       "      <td>2001-01-03</td>\n",
       "      <td>90861.75</td>\n",
       "    </tr>\n",
       "    <tr>\n",
       "      <th>3</th>\n",
       "      <td>2001-01-04</td>\n",
       "      <td>329329.70</td>\n",
       "    </tr>\n",
       "    <tr>\n",
       "      <th>4</th>\n",
       "      <td>2001-01-05</td>\n",
       "      <td>344688.40</td>\n",
       "    </tr>\n",
       "  </tbody>\n",
       "</table>\n",
       "</div>"
      ],
      "text/plain": [
       "        Date     Volume\n",
       "0 2001-01-01        NaN\n",
       "1 2001-01-02        NaN\n",
       "2 2001-01-03   90861.75\n",
       "3 2001-01-04  329329.70\n",
       "4 2001-01-05  344688.40"
      ]
     },
     "execution_count": 3,
     "metadata": {},
     "output_type": "execute_result"
    }
   ],
   "source": [
    "# Read SET index volume file & rename columns\n",
    "# This file contains volume traded associated with SET index from 2001 to the end of 2020 retrieved from Thomson Reuter Datastream\n",
    "# Shape of this dataframe = (5220, 2)\n",
    "# Properties: 1) Date (datetime64[ns] ); 2) Volume (float64)\n",
    "\n",
    "# Caveat: On some rows, the volume shows NaN because there is no trade occurred (for example, holidays)\n",
    "\n",
    "SET_IDX_VOL = pd.read_csv('data/SET/SET_VO.csv', parse_dates = True)\n",
    "SET_IDX_VOL = SET_IDX_VOL.rename(columns = {'Code': 'Date', 'BNGKSET(VO)': 'Volume'})\n",
    "SET_IDX_VOL['Date'] = pd.to_datetime(SET_IDX_VOL['Date'])\n",
    "SET_IDX_VOL.head()"
   ]
  },
  {
   "cell_type": "code",
   "execution_count": 4,
   "metadata": {},
   "outputs": [
    {
     "data": {
      "text/html": [
       "<div>\n",
       "<style scoped>\n",
       "    .dataframe tbody tr th:only-of-type {\n",
       "        vertical-align: middle;\n",
       "    }\n",
       "\n",
       "    .dataframe tbody tr th {\n",
       "        vertical-align: top;\n",
       "    }\n",
       "\n",
       "    .dataframe thead th {\n",
       "        text-align: right;\n",
       "    }\n",
       "</style>\n",
       "<table border=\"1\" class=\"dataframe\">\n",
       "  <thead>\n",
       "    <tr style=\"text-align: right;\">\n",
       "      <th></th>\n",
       "      <th>Date</th>\n",
       "      <th>Close</th>\n",
       "      <th>Volume</th>\n",
       "    </tr>\n",
       "  </thead>\n",
       "  <tbody>\n",
       "    <tr>\n",
       "      <th>2</th>\n",
       "      <td>2001-01-03</td>\n",
       "      <td>272.03</td>\n",
       "      <td>90861.75</td>\n",
       "    </tr>\n",
       "    <tr>\n",
       "      <th>3</th>\n",
       "      <td>2001-01-04</td>\n",
       "      <td>278.75</td>\n",
       "      <td>329329.70</td>\n",
       "    </tr>\n",
       "    <tr>\n",
       "      <th>4</th>\n",
       "      <td>2001-01-05</td>\n",
       "      <td>286.76</td>\n",
       "      <td>344688.40</td>\n",
       "    </tr>\n",
       "    <tr>\n",
       "      <th>5</th>\n",
       "      <td>2001-01-08</td>\n",
       "      <td>295.84</td>\n",
       "      <td>934483.00</td>\n",
       "    </tr>\n",
       "    <tr>\n",
       "      <th>6</th>\n",
       "      <td>2001-01-09</td>\n",
       "      <td>298.37</td>\n",
       "      <td>1361737.00</td>\n",
       "    </tr>\n",
       "  </tbody>\n",
       "</table>\n",
       "</div>"
      ],
      "text/plain": [
       "        Date   Close      Volume\n",
       "2 2001-01-03  272.03    90861.75\n",
       "3 2001-01-04  278.75   329329.70\n",
       "4 2001-01-05  286.76   344688.40\n",
       "5 2001-01-08  295.84   934483.00\n",
       "6 2001-01-09  298.37  1361737.00"
      ]
     },
     "execution_count": 4,
     "metadata": {},
     "output_type": "execute_result"
    }
   ],
   "source": [
    "# Time to merge the dataframe!\n",
    "# Notice that the shape of df is now (5220, 3). That is great because we do not lose any observations from joining dfs\n",
    "# In addition, I remove all the rows with missing volume (e.g. holidays)\n",
    "# Finally, we get the SET_IDX of shape (4882, 3)\n",
    "\n",
    "SET_IDX = pd.merge(SET_IDX_PRICE, SET_IDX_VOL, how='inner', on ='Date')\n",
    "SET_IDX = SET_IDX.dropna()\n",
    "SET_IDX = SET_IDX[SET_IDX['Volume'] > 0]\n",
    "SET_IDX.head()"
   ]
  },
  {
   "cell_type": "markdown",
   "metadata": {},
   "source": [
    "### Feature Generation 1: find 14-day SMA and EMA to extract the trend from the data\n",
    "Source: https://www.datacamp.com/community/tutorials/moving-averages-in-pandas  \n",
    "Source: https://pandas.pydata.org/pandas-docs/stable/reference/api/pandas.DataFrame.ewm.html"
   ]
  },
  {
   "cell_type": "code",
   "execution_count": 9,
   "metadata": {},
   "outputs": [
    {
     "data": {
      "text/plain": [
       "[<matplotlib.lines.Line2D at 0x22788647648>]"
      ]
     },
     "execution_count": 9,
     "metadata": {},
     "output_type": "execute_result"
    },
    {
     "data": {
      "image/png": "[encoded data removed]",
      "text/plain": [
       "<Figure size 432x288 with 1 Axes>"
      ]
     },
     "metadata": {
      "needs_background": "light"
     },
     "output_type": "display_data"
    }
   ],
   "source": [
    "import matplotlib.pyplot as plt\n",
    "MA_14 = SET_IDX.loc[:,'Close'].rolling(window=14).mean()\n",
    "fig, ax = plt.subplots()\n",
    "ax.plot(SET_IDX['Date'], MA_14)"
   ]
  },
  {
   "cell_type": "code",
   "execution_count": 10,
   "metadata": {},
   "outputs": [
    {
     "data": {
      "text/plain": [
       "[<matplotlib.lines.Line2D at 0x2278863ed08>]"
      ]
     },
     "execution_count": 10,
     "metadata": {},
     "output_type": "execute_result"
    },
    {
     "data": {
      "image/png": "[encoded data removed]",
      "text/plain": [
       "<Figure size 432x288 with 1 Axes>"
      ]
     },
     "metadata": {
      "needs_background": "light"
     },
     "output_type": "display_data"
    }
   ],
   "source": [
    "import matplotlib.pyplot as plt\n",
    "EMA = SET_IDX.loc[:, 'Close'].ewm(span=19, adjust=False).mean()\n",
    "fig, ax = plt.subplots()\n",
    "ax.plot(SET_IDX['Date'], EMA)"
   ]
  },
  {
   "cell_type": "code",
   "execution_count": 11,
   "metadata": {},
   "outputs": [
    {
     "data": {
      "text/plain": [
       "[<matplotlib.lines.Line2D at 0x227885c3448>]"
      ]
     },
     "execution_count": 11,
     "metadata": {},
     "output_type": "execute_result"
    },
    {
     "data": {
      "image/png": "[encoded data removed]",
      "text/plain": [
       "<Figure size 432x288 with 1 Axes>"
      ]
     },
     "metadata": {
      "needs_background": "light"
     },
     "output_type": "display_data"
    }
   ],
   "source": [
    "MA_14_diff = MA_14.diff()\n",
    "fig, ax = plt.subplots()\n",
    "ax.plot(SET_IDX['Date'], MA_14_diff)"
   ]
  },
  {
   "cell_type": "code",
   "execution_count": 12,
   "metadata": {},
   "outputs": [
    {
     "data": {
      "text/plain": [
       "[<matplotlib.lines.Line2D at 0x22787d7c4c8>]"
      ]
     },
     "execution_count": 12,
     "metadata": {},
     "output_type": "execute_result"
    },
    {
     "data": {
      "image/png": "[encoded data removed]",
      "text/plain": [
       "<Figure size 432x288 with 1 Axes>"
      ]
     },
     "metadata": {
      "needs_background": "light"
     },
     "output_type": "display_data"
    }
   ],
   "source": [
    "EMA_diff = EMA.diff()\n",
    "fig, ax = plt.subplots()\n",
    "ax.plot(SET_IDX['Date'], EMA_diff)"
   ]
  },
  {
   "cell_type": "markdown",
   "metadata": {},
   "source": [
    "#### Observations\n",
    "- Trend data using either MA or EMA are non-stationary (increase over time). This will cause trouble for our prediction esp when we predict in the future.\n",
    "- First-differenced MA or EMA seems stationary because they fluctuated around zeros. \n",
    "- Notice that in some period, MA and EMA swing wildly, and we need to address that."
   ]
  },
  {
   "cell_type": "code",
   "execution_count": 13,
   "metadata": {},
   "outputs": [
    {
     "data": {
      "text/html": [
       "<div>\n",
       "<style scoped>\n",
       "    .dataframe tbody tr th:only-of-type {\n",
       "        vertical-align: middle;\n",
       "    }\n",
       "\n",
       "    .dataframe tbody tr th {\n",
       "        vertical-align: top;\n",
       "    }\n",
       "\n",
       "    .dataframe thead th {\n",
       "        text-align: right;\n",
       "    }\n",
       "</style>\n",
       "<table border=\"1\" class=\"dataframe\">\n",
       "  <thead>\n",
       "    <tr style=\"text-align: right;\">\n",
       "      <th></th>\n",
       "      <th>Date</th>\n",
       "      <th>Close</th>\n",
       "      <th>Volume</th>\n",
       "      <th>MA_diff_3</th>\n",
       "      <th>MA_diff_5</th>\n",
       "      <th>MA_diff_14</th>\n",
       "      <th>EMA_diff</th>\n",
       "    </tr>\n",
       "  </thead>\n",
       "  <tbody>\n",
       "    <tr>\n",
       "      <th>2</th>\n",
       "      <td>2001-01-03</td>\n",
       "      <td>272.03</td>\n",
       "      <td>90861.75</td>\n",
       "      <td>NaN</td>\n",
       "      <td>NaN</td>\n",
       "      <td>NaN</td>\n",
       "      <td>NaN</td>\n",
       "    </tr>\n",
       "    <tr>\n",
       "      <th>3</th>\n",
       "      <td>2001-01-04</td>\n",
       "      <td>278.75</td>\n",
       "      <td>329329.70</td>\n",
       "      <td>NaN</td>\n",
       "      <td>NaN</td>\n",
       "      <td>NaN</td>\n",
       "      <td>0.672000</td>\n",
       "    </tr>\n",
       "    <tr>\n",
       "      <th>4</th>\n",
       "      <td>2001-01-05</td>\n",
       "      <td>286.76</td>\n",
       "      <td>344688.40</td>\n",
       "      <td>NaN</td>\n",
       "      <td>NaN</td>\n",
       "      <td>NaN</td>\n",
       "      <td>1.405800</td>\n",
       "    </tr>\n",
       "    <tr>\n",
       "      <th>5</th>\n",
       "      <td>2001-01-08</td>\n",
       "      <td>295.84</td>\n",
       "      <td>934483.00</td>\n",
       "      <td>7.936667</td>\n",
       "      <td>NaN</td>\n",
       "      <td>NaN</td>\n",
       "      <td>2.173220</td>\n",
       "    </tr>\n",
       "    <tr>\n",
       "      <th>6</th>\n",
       "      <td>2001-01-09</td>\n",
       "      <td>298.37</td>\n",
       "      <td>1361737.00</td>\n",
       "      <td>6.540000</td>\n",
       "      <td>NaN</td>\n",
       "      <td>NaN</td>\n",
       "      <td>2.208898</td>\n",
       "    </tr>\n",
       "  </tbody>\n",
       "</table>\n",
       "</div>"
      ],
      "text/plain": [
       "        Date   Close      Volume  MA_diff_3  MA_diff_5  MA_diff_14  EMA_diff\n",
       "2 2001-01-03  272.03    90861.75        NaN        NaN         NaN       NaN\n",
       "3 2001-01-04  278.75   329329.70        NaN        NaN         NaN  0.672000\n",
       "4 2001-01-05  286.76   344688.40        NaN        NaN         NaN  1.405800\n",
       "5 2001-01-08  295.84   934483.00   7.936667        NaN         NaN  2.173220\n",
       "6 2001-01-09  298.37  1361737.00   6.540000        NaN         NaN  2.208898"
      ]
     },
     "execution_count": 13,
     "metadata": {},
     "output_type": "execute_result"
    }
   ],
   "source": [
    "## Here, we generate SMA of 3 periods, 5 periods and 14 periods, together with EMA of alpha around 0.9.\n",
    "## We use first-differenced variables into our model.\n",
    "\n",
    "MA_3 = SET_IDX.loc[:,'Close'].rolling(window=3).mean()\n",
    "MA_5 = SET_IDX.loc[:,'Close'].rolling(window=5).mean()\n",
    "MA_14 = SET_IDX.loc[:,'Close'].rolling(window=14).mean()\n",
    "EMA = SET_IDX.loc[:, 'Close'].ewm(span=19, adjust=False).mean()\n",
    "\n",
    "SET_IDX['MA_diff_3'] = MA_3.diff()\n",
    "SET_IDX['MA_diff_5'] = MA_5.diff()\n",
    "SET_IDX['MA_diff_14'] = MA_14.diff()\n",
    "SET_IDX['EMA_diff'] = EMA.diff()\n",
    "\n",
    "SET_IDX.head()"
   ]
  },
  {
   "cell_type": "markdown",
   "metadata": {},
   "source": [
    "### Feature Generation 2: find MACD to account for trend and momentum\n",
    "Source: https://www.finnomena.com/daddy-trader/macd/"
   ]
  },
  {
   "cell_type": "code",
   "execution_count": 14,
   "metadata": {},
   "outputs": [
    {
     "data": {
      "text/plain": [
       "[<matplotlib.lines.Line2D at 0x2278873f808>]"
      ]
     },
     "execution_count": 14,
     "metadata": {},
     "output_type": "execute_result"
    },
    {
     "data": {
      "image/png": "[encoded data removed]",
      "text/plain": [
       "<Figure size 432x288 with 1 Axes>"
      ]
     },
     "metadata": {
      "needs_background": "light"
     },
     "output_type": "display_data"
    }
   ],
   "source": [
    "## We use the default parameters of 12 and 26 in MACD calculation here.\n",
    "EMA_12 = SET_IDX.loc[:, 'Close'].ewm(span=12, adjust=False).mean()\n",
    "EMA_26 = SET_IDX.loc[:, 'Close'].ewm(span=26, adjust=False).mean()\n",
    "MACD = EMA_12 - EMA_26\n",
    "\n",
    "fig, ax = plt.subplots()\n",
    "ax.plot(SET_IDX['Date'], MACD)"
   ]
  },
  {
   "cell_type": "code",
   "execution_count": 15,
   "metadata": {},
   "outputs": [
    {
     "data": {
      "text/plain": [
       "[<matplotlib.lines.Line2D at 0x227887ac748>]"
      ]
     },
     "execution_count": 15,
     "metadata": {},
     "output_type": "execute_result"
    },
    {
     "data": {
      "image/png": "[encoded data removed]",
      "text/plain": [
       "<Figure size 432x288 with 1 Axes>"
      ]
     },
     "metadata": {
      "needs_background": "light"
     },
     "output_type": "display_data"
    }
   ],
   "source": [
    "fig, ax = plt.subplots()\n",
    "ax.plot(SET_IDX['Date'], MACD.diff())"
   ]
  },
  {
   "cell_type": "markdown",
   "metadata": {},
   "source": [
    "#### Observations\n",
    "- If we use just EMA(12) - EMA(26), what we observed is short-run fluctuation from medium-run trend. In other words, by subtracting out the trend, what fluctuations do we get.\n",
    "- If we use delta(EMA(12) - EMA(26)) instead, what we observed is the signed speed of price changes, or simply momentum. This would capture how fast/slow EMA(12) and EMA(26) converged toward each other and diverged from each other."
   ]
  },
  {
   "cell_type": "code",
   "execution_count": 16,
   "metadata": {},
   "outputs": [
    {
     "data": {
      "text/html": [
       "<div>\n",
       "<style scoped>\n",
       "    .dataframe tbody tr th:only-of-type {\n",
       "        vertical-align: middle;\n",
       "    }\n",
       "\n",
       "    .dataframe tbody tr th {\n",
       "        vertical-align: top;\n",
       "    }\n",
       "\n",
       "    .dataframe thead th {\n",
       "        text-align: right;\n",
       "    }\n",
       "</style>\n",
       "<table border=\"1\" class=\"dataframe\">\n",
       "  <thead>\n",
       "    <tr style=\"text-align: right;\">\n",
       "      <th></th>\n",
       "      <th>Date</th>\n",
       "      <th>Close</th>\n",
       "      <th>Volume</th>\n",
       "      <th>MA_diff_3</th>\n",
       "      <th>MA_diff_5</th>\n",
       "      <th>MA_diff_14</th>\n",
       "      <th>EMA_diff</th>\n",
       "      <th>MACD</th>\n",
       "      <th>MACD_diff</th>\n",
       "    </tr>\n",
       "  </thead>\n",
       "  <tbody>\n",
       "    <tr>\n",
       "      <th>2</th>\n",
       "      <td>2001-01-03</td>\n",
       "      <td>272.03</td>\n",
       "      <td>90861.75</td>\n",
       "      <td>NaN</td>\n",
       "      <td>NaN</td>\n",
       "      <td>NaN</td>\n",
       "      <td>NaN</td>\n",
       "      <td>0.000000</td>\n",
       "      <td>NaN</td>\n",
       "    </tr>\n",
       "    <tr>\n",
       "      <th>3</th>\n",
       "      <td>2001-01-04</td>\n",
       "      <td>278.75</td>\n",
       "      <td>329329.70</td>\n",
       "      <td>NaN</td>\n",
       "      <td>NaN</td>\n",
       "      <td>NaN</td>\n",
       "      <td>0.672000</td>\n",
       "      <td>0.536068</td>\n",
       "      <td>0.536068</td>\n",
       "    </tr>\n",
       "    <tr>\n",
       "      <th>4</th>\n",
       "      <td>2001-01-05</td>\n",
       "      <td>286.76</td>\n",
       "      <td>344688.40</td>\n",
       "      <td>NaN</td>\n",
       "      <td>NaN</td>\n",
       "      <td>NaN</td>\n",
       "      <td>1.405800</td>\n",
       "      <td>1.588930</td>\n",
       "      <td>1.052862</td>\n",
       "    </tr>\n",
       "    <tr>\n",
       "      <th>5</th>\n",
       "      <td>2001-01-08</td>\n",
       "      <td>295.84</td>\n",
       "      <td>934483.00</td>\n",
       "      <td>7.936667</td>\n",
       "      <td>NaN</td>\n",
       "      <td>NaN</td>\n",
       "      <td>2.173220</td>\n",
       "      <td>3.120045</td>\n",
       "      <td>1.531115</td>\n",
       "    </tr>\n",
       "    <tr>\n",
       "      <th>6</th>\n",
       "      <td>2001-01-09</td>\n",
       "      <td>298.37</td>\n",
       "      <td>1361737.00</td>\n",
       "      <td>6.540000</td>\n",
       "      <td>NaN</td>\n",
       "      <td>NaN</td>\n",
       "      <td>2.208898</td>\n",
       "      <td>4.485904</td>\n",
       "      <td>1.365859</td>\n",
       "    </tr>\n",
       "  </tbody>\n",
       "</table>\n",
       "</div>"
      ],
      "text/plain": [
       "        Date   Close      Volume  MA_diff_3  MA_diff_5  MA_diff_14  EMA_diff  \\\n",
       "2 2001-01-03  272.03    90861.75        NaN        NaN         NaN       NaN   \n",
       "3 2001-01-04  278.75   329329.70        NaN        NaN         NaN  0.672000   \n",
       "4 2001-01-05  286.76   344688.40        NaN        NaN         NaN  1.405800   \n",
       "5 2001-01-08  295.84   934483.00   7.936667        NaN         NaN  2.173220   \n",
       "6 2001-01-09  298.37  1361737.00   6.540000        NaN         NaN  2.208898   \n",
       "\n",
       "       MACD  MACD_diff  \n",
       "2  0.000000        NaN  \n",
       "3  0.536068   0.536068  \n",
       "4  1.588930   1.052862  \n",
       "5  3.120045   1.531115  \n",
       "6  4.485904   1.365859  "
      ]
     },
     "execution_count": 16,
     "metadata": {},
     "output_type": "execute_result"
    }
   ],
   "source": [
    "# Feature Generation 2: Find MACD and RSI to account for the trend strength\n",
    "\n",
    "EMA_12 = SET_IDX.loc[:, 'Close'].ewm(span=12, adjust=False).mean()\n",
    "EMA_26 = SET_IDX.loc[:, 'Close'].ewm(span=26, adjust=False).mean()\n",
    "SET_IDX['MACD'] = EMA_12 - EMA_26\n",
    "SET_IDX['MACD_diff'] = SET_IDX['MACD'].diff()\n",
    "SET_IDX.head()"
   ]
  },
  {
   "cell_type": "markdown",
   "metadata": {},
   "source": [
    "### Feature Generation 3: find RSI to account for momentum\n",
    "Source: https://www.investopedia.com/terms/r/rsi.asp"
   ]
  },
  {
   "cell_type": "code",
   "execution_count": 25,
   "metadata": {},
   "outputs": [],
   "source": [
    "## Define a custom function for calculating RSI\n",
    "## Source: https://stackoverflow.com/a/29400434\n",
    "\n",
    "def RSI(close, window_length, SMA = False):\n",
    "    ''' Arguments: close (Pandas series object, indicating the price inputted to calculate RSI)\n",
    "                         window_length (the length needed to calculate simple moving average or input to the parameter of alpha in EMA)\n",
    "                         SMA (if True, use SMA; otherwise, use EMA)\n",
    "        Returns: Pandas series containing RSI (value between 0 to 100) except for the first entry outputting the string 'NaN'\n",
    "                     because we lose one observation in calculating first-order difference in close\n",
    "    '''\n",
    "    \n",
    "    delta = close.diff()\n",
    "    # Take out the first row, be careful!\n",
    "    delta = delta[1:]\n",
    "    \n",
    "    up, down = delta.copy(), delta.copy()\n",
    "    up[up < 0] = 0\n",
    "    down[down > 0] = 0\n",
    "    \n",
    "    NaN = float(\"NaN\")\n",
    "    \n",
    "    if SMA == False:\n",
    "        \n",
    "        # Calculate Exponential Moving Average\n",
    "        # Note that alpha = 2/(window_length + 1)\n",
    "        roll_up1 = up.ewm(span=window_length).mean()\n",
    "        roll_down1 = down.abs().ewm(span=window_length).mean()\n",
    "        \n",
    "        # Calculate the RSI based on EWMA\n",
    "        RS1 = roll_up1 / roll_down1\n",
    "        RSI1 = 100.0 - (100.0 / (1.0 + RS1))\n",
    "        return pd.concat([pd.Series([NaN]), RSI1])\n",
    "\n",
    "    else:\n",
    "        # Calculate the SMA\n",
    "        roll_up2 = up.rolling(window_length).mean()\n",
    "        roll_down2 = down.abs().rolling(window_length).mean()\n",
    "        \n",
    "        # Calculate the RSI based on SMA\n",
    "        RS2 = roll_up2 / roll_down2\n",
    "        RSI2 = 100.0 - (100.0 / (1.0 + RS2))\n",
    "        return pd.concat([pd.Series([NaN]), RSI2])"
   ]
  },
  {
   "cell_type": "code",
   "execution_count": 27,
   "metadata": {},
   "outputs": [
    {
     "data": {
      "text/plain": [
       "[<matplotlib.lines.Line2D at 0x22789ac2d88>]"
      ]
     },
     "execution_count": 27,
     "metadata": {},
     "output_type": "execute_result"
    },
    {
     "data": {
      "image/png": "[encoded data removed]",
      "text/plain": [
       "<Figure size 432x288 with 1 Axes>"
      ]
     },
     "metadata": {
      "needs_background": "light"
     },
     "output_type": "display_data"
    }
   ],
   "source": [
    "# 14 is the default parameter.\n",
    "RSI_SMA = RSI(SET_IDX.loc[:, 'Close'], 14, SMA = True)\n",
    "fig, ax = plt.subplots()\n",
    "ax.plot(SET_IDX['Date'], RSI_SMA)"
   ]
  },
  {
   "cell_type": "code",
   "execution_count": 28,
   "metadata": {},
   "outputs": [
    {
     "data": {
      "text/plain": [
       "[<matplotlib.lines.Line2D at 0x22789b0cb08>]"
      ]
     },
     "execution_count": 28,
     "metadata": {},
     "output_type": "execute_result"
    },
    {
     "data": {
      "image/png": "[encoded data removed]",
      "text/plain": [
       "<Figure size 432x288 with 1 Axes>"
      ]
     },
     "metadata": {
      "needs_background": "light"
     },
     "output_type": "display_data"
    }
   ],
   "source": [
    "# 14 is the default parameter.\n",
    "RSI_EMA = RSI(SET_IDX.loc[:, 'Close'], 14, SMA = False)\n",
    "fig, ax = plt.subplots()\n",
    "ax.plot(SET_IDX['Date'], RSI_EMA)"
   ]
  },
  {
   "cell_type": "markdown",
   "metadata": {},
   "source": [
    "#### Observations\n",
    "- RSI measures the proportion of average gain against average loss over the window length. RSI ranges between 0 and 100.\n",
    "- From illustration, RSI looks nice as it is clustered around 50, and roughly and equally distributed to both sides."
   ]
  },
  {
   "cell_type": "code",
   "execution_count": 29,
   "metadata": {},
   "outputs": [
    {
     "data": {
      "text/html": [
       "<div>\n",
       "<style scoped>\n",
       "    .dataframe tbody tr th:only-of-type {\n",
       "        vertical-align: middle;\n",
       "    }\n",
       "\n",
       "    .dataframe tbody tr th {\n",
       "        vertical-align: top;\n",
       "    }\n",
       "\n",
       "    .dataframe thead th {\n",
       "        text-align: right;\n",
       "    }\n",
       "</style>\n",
       "<table border=\"1\" class=\"dataframe\">\n",
       "  <thead>\n",
       "    <tr style=\"text-align: right;\">\n",
       "      <th></th>\n",
       "      <th>Date</th>\n",
       "      <th>Close</th>\n",
       "      <th>Volume</th>\n",
       "      <th>MA_diff_3</th>\n",
       "      <th>MA_diff_5</th>\n",
       "      <th>MA_diff_14</th>\n",
       "      <th>EMA_diff</th>\n",
       "      <th>MACD</th>\n",
       "      <th>MACD_diff</th>\n",
       "      <th>RSI</th>\n",
       "    </tr>\n",
       "  </thead>\n",
       "  <tbody>\n",
       "    <tr>\n",
       "      <th>2</th>\n",
       "      <td>2001-01-03</td>\n",
       "      <td>272.03</td>\n",
       "      <td>90861.75</td>\n",
       "      <td>NaN</td>\n",
       "      <td>NaN</td>\n",
       "      <td>NaN</td>\n",
       "      <td>NaN</td>\n",
       "      <td>0.000000</td>\n",
       "      <td>NaN</td>\n",
       "      <td>NaN</td>\n",
       "    </tr>\n",
       "    <tr>\n",
       "      <th>3</th>\n",
       "      <td>2001-01-04</td>\n",
       "      <td>278.75</td>\n",
       "      <td>329329.70</td>\n",
       "      <td>NaN</td>\n",
       "      <td>NaN</td>\n",
       "      <td>NaN</td>\n",
       "      <td>0.672000</td>\n",
       "      <td>0.536068</td>\n",
       "      <td>0.536068</td>\n",
       "      <td>NaN</td>\n",
       "    </tr>\n",
       "    <tr>\n",
       "      <th>4</th>\n",
       "      <td>2001-01-05</td>\n",
       "      <td>286.76</td>\n",
       "      <td>344688.40</td>\n",
       "      <td>NaN</td>\n",
       "      <td>NaN</td>\n",
       "      <td>NaN</td>\n",
       "      <td>1.405800</td>\n",
       "      <td>1.588930</td>\n",
       "      <td>1.052862</td>\n",
       "      <td>NaN</td>\n",
       "    </tr>\n",
       "    <tr>\n",
       "      <th>5</th>\n",
       "      <td>2001-01-08</td>\n",
       "      <td>295.84</td>\n",
       "      <td>934483.00</td>\n",
       "      <td>7.936667</td>\n",
       "      <td>NaN</td>\n",
       "      <td>NaN</td>\n",
       "      <td>2.173220</td>\n",
       "      <td>3.120045</td>\n",
       "      <td>1.531115</td>\n",
       "      <td>NaN</td>\n",
       "    </tr>\n",
       "    <tr>\n",
       "      <th>6</th>\n",
       "      <td>2001-01-09</td>\n",
       "      <td>298.37</td>\n",
       "      <td>1361737.00</td>\n",
       "      <td>6.540000</td>\n",
       "      <td>NaN</td>\n",
       "      <td>NaN</td>\n",
       "      <td>2.208898</td>\n",
       "      <td>4.485904</td>\n",
       "      <td>1.365859</td>\n",
       "      <td>NaN</td>\n",
       "    </tr>\n",
       "  </tbody>\n",
       "</table>\n",
       "</div>"
      ],
      "text/plain": [
       "        Date   Close      Volume  MA_diff_3  MA_diff_5  MA_diff_14  EMA_diff  \\\n",
       "2 2001-01-03  272.03    90861.75        NaN        NaN         NaN       NaN   \n",
       "3 2001-01-04  278.75   329329.70        NaN        NaN         NaN  0.672000   \n",
       "4 2001-01-05  286.76   344688.40        NaN        NaN         NaN  1.405800   \n",
       "5 2001-01-08  295.84   934483.00   7.936667        NaN         NaN  2.173220   \n",
       "6 2001-01-09  298.37  1361737.00   6.540000        NaN         NaN  2.208898   \n",
       "\n",
       "       MACD  MACD_diff  RSI  \n",
       "2  0.000000        NaN  NaN  \n",
       "3  0.536068   0.536068  NaN  \n",
       "4  1.588930   1.052862  NaN  \n",
       "5  3.120045   1.531115  NaN  \n",
       "6  4.485904   1.365859  NaN  "
      ]
     },
     "execution_count": 29,
     "metadata": {},
     "output_type": "execute_result"
    }
   ],
   "source": [
    "SET_IDX['RSI'] = RSI(SET_IDX.loc[:, 'Close'], 14, SMA = True)\n",
    "SET_IDX.head()"
   ]
  },
  {
   "cell_type": "markdown",
   "metadata": {},
   "source": [
    "### Feature Generation 4: direct momentum measures\n"
   ]
  },
  {
   "cell_type": "code",
   "execution_count": 30,
   "metadata": {},
   "outputs": [
    {
     "data": {
      "text/plain": [
       "[<matplotlib.lines.Line2D at 0x22789b71108>]"
      ]
     },
     "execution_count": 30,
     "metadata": {},
     "output_type": "execute_result"
    },
    {
     "data": {
      "image/png": "[encoded data removed]",
      "text/plain": [
       "<Figure size 432x288 with 1 Axes>"
      ]
     },
     "metadata": {
      "needs_background": "light"
     },
     "output_type": "display_data"
    }
   ],
   "source": [
    "MOM1 = SET_IDX.loc[:, 'Close'].pct_change(periods = 1)\n",
    "MOM3 = SET_IDX.loc[:, 'Close'].pct_change(periods = 3)\n",
    "MOM5 = SET_IDX.loc[:, 'Close'].pct_change(periods = 5)\n",
    "MOM14 = SET_IDX.loc[:, 'Close'].pct_change(periods = 14)\n",
    "\n",
    "fig, ax = plt.subplots()\n",
    "ax.plot(SET_IDX['Date'], MOM1)"
   ]
  },
  {
   "cell_type": "code",
   "execution_count": 31,
   "metadata": {},
   "outputs": [
    {
     "data": {
      "text/plain": [
       "[<matplotlib.lines.Line2D at 0x22789bb8648>]"
      ]
     },
     "execution_count": 31,
     "metadata": {},
     "output_type": "execute_result"
    },
    {
     "data": {
      "image/png": "[encoded data removed]",
      "text/plain": [
       "<Figure size 432x288 with 1 Axes>"
      ]
     },
     "metadata": {
      "needs_background": "light"
     },
     "output_type": "display_data"
    }
   ],
   "source": [
    "fig, ax = plt.subplots()\n",
    "ax.plot(SET_IDX['Date'], MOM3)"
   ]
  },
  {
   "cell_type": "code",
   "execution_count": 32,
   "metadata": {},
   "outputs": [
    {
     "data": {
      "text/plain": [
       "[<matplotlib.lines.Line2D at 0x2278ac040c8>]"
      ]
     },
     "execution_count": 32,
     "metadata": {},
     "output_type": "execute_result"
    },
    {
     "data": {
      "image/png": "[encoded data removed]",
      "text/plain": [
       "<Figure size 432x288 with 1 Axes>"
      ]
     },
     "metadata": {
      "needs_background": "light"
     },
     "output_type": "display_data"
    }
   ],
   "source": [
    "fig, ax = plt.subplots()\n",
    "ax.plot(SET_IDX['Date'], MOM5)"
   ]
  },
  {
   "cell_type": "code",
   "execution_count": 33,
   "metadata": {},
   "outputs": [
    {
     "data": {
      "text/plain": [
       "[<matplotlib.lines.Line2D at 0x2278ac5e748>]"
      ]
     },
     "execution_count": 33,
     "metadata": {},
     "output_type": "execute_result"
    },
    {
     "data": {
      "image/png": "[encoded data removed]",
      "text/plain": [
       "<Figure size 432x288 with 1 Axes>"
      ]
     },
     "metadata": {
      "needs_background": "light"
     },
     "output_type": "display_data"
    }
   ],
   "source": [
    "fig, ax = plt.subplots()\n",
    "ax.plot(SET_IDX['Date'], MOM14)"
   ]
  },
  {
   "cell_type": "markdown",
   "metadata": {},
   "source": [
    "#### Observations\n",
    "- Momentum is clustered around zero, implying that percentage change of price (return) on average is around zero.\n",
    "- There are tail risks (usually negative) associated with investing where we could see extremely negative return in a few periods."
   ]
  },
  {
   "cell_type": "code",
   "execution_count": 34,
   "metadata": {},
   "outputs": [
    {
     "data": {
      "text/html": [
       "<div>\n",
       "<style scoped>\n",
       "    .dataframe tbody tr th:only-of-type {\n",
       "        vertical-align: middle;\n",
       "    }\n",
       "\n",
       "    .dataframe tbody tr th {\n",
       "        vertical-align: top;\n",
       "    }\n",
       "\n",
       "    .dataframe thead th {\n",
       "        text-align: right;\n",
       "    }\n",
       "</style>\n",
       "<table border=\"1\" class=\"dataframe\">\n",
       "  <thead>\n",
       "    <tr style=\"text-align: right;\">\n",
       "      <th></th>\n",
       "      <th>Date</th>\n",
       "      <th>Close</th>\n",
       "      <th>Volume</th>\n",
       "      <th>MA_diff_3</th>\n",
       "      <th>MA_diff_5</th>\n",
       "      <th>MA_diff_14</th>\n",
       "      <th>EMA_diff</th>\n",
       "      <th>MACD</th>\n",
       "      <th>MACD_diff</th>\n",
       "      <th>RSI</th>\n",
       "      <th>MOM1</th>\n",
       "      <th>MOM3</th>\n",
       "      <th>MOM5</th>\n",
       "      <th>MOM14</th>\n",
       "    </tr>\n",
       "  </thead>\n",
       "  <tbody>\n",
       "    <tr>\n",
       "      <th>2</th>\n",
       "      <td>2001-01-03</td>\n",
       "      <td>272.03</td>\n",
       "      <td>90861.75</td>\n",
       "      <td>NaN</td>\n",
       "      <td>NaN</td>\n",
       "      <td>NaN</td>\n",
       "      <td>NaN</td>\n",
       "      <td>0.000000</td>\n",
       "      <td>NaN</td>\n",
       "      <td>NaN</td>\n",
       "      <td>NaN</td>\n",
       "      <td>NaN</td>\n",
       "      <td>NaN</td>\n",
       "      <td>NaN</td>\n",
       "    </tr>\n",
       "    <tr>\n",
       "      <th>3</th>\n",
       "      <td>2001-01-04</td>\n",
       "      <td>278.75</td>\n",
       "      <td>329329.70</td>\n",
       "      <td>NaN</td>\n",
       "      <td>NaN</td>\n",
       "      <td>NaN</td>\n",
       "      <td>0.672000</td>\n",
       "      <td>0.536068</td>\n",
       "      <td>0.536068</td>\n",
       "      <td>NaN</td>\n",
       "      <td>0.024703</td>\n",
       "      <td>NaN</td>\n",
       "      <td>NaN</td>\n",
       "      <td>NaN</td>\n",
       "    </tr>\n",
       "    <tr>\n",
       "      <th>4</th>\n",
       "      <td>2001-01-05</td>\n",
       "      <td>286.76</td>\n",
       "      <td>344688.40</td>\n",
       "      <td>NaN</td>\n",
       "      <td>NaN</td>\n",
       "      <td>NaN</td>\n",
       "      <td>1.405800</td>\n",
       "      <td>1.588930</td>\n",
       "      <td>1.052862</td>\n",
       "      <td>NaN</td>\n",
       "      <td>0.028735</td>\n",
       "      <td>NaN</td>\n",
       "      <td>NaN</td>\n",
       "      <td>NaN</td>\n",
       "    </tr>\n",
       "    <tr>\n",
       "      <th>5</th>\n",
       "      <td>2001-01-08</td>\n",
       "      <td>295.84</td>\n",
       "      <td>934483.00</td>\n",
       "      <td>7.936667</td>\n",
       "      <td>NaN</td>\n",
       "      <td>NaN</td>\n",
       "      <td>2.173220</td>\n",
       "      <td>3.120045</td>\n",
       "      <td>1.531115</td>\n",
       "      <td>NaN</td>\n",
       "      <td>0.031664</td>\n",
       "      <td>0.087527</td>\n",
       "      <td>NaN</td>\n",
       "      <td>NaN</td>\n",
       "    </tr>\n",
       "    <tr>\n",
       "      <th>6</th>\n",
       "      <td>2001-01-09</td>\n",
       "      <td>298.37</td>\n",
       "      <td>1361737.00</td>\n",
       "      <td>6.540000</td>\n",
       "      <td>NaN</td>\n",
       "      <td>NaN</td>\n",
       "      <td>2.208898</td>\n",
       "      <td>4.485904</td>\n",
       "      <td>1.365859</td>\n",
       "      <td>NaN</td>\n",
       "      <td>0.008552</td>\n",
       "      <td>0.070386</td>\n",
       "      <td>NaN</td>\n",
       "      <td>NaN</td>\n",
       "    </tr>\n",
       "  </tbody>\n",
       "</table>\n",
       "</div>"
      ],
      "text/plain": [
       "        Date   Close      Volume  MA_diff_3  MA_diff_5  MA_diff_14  EMA_diff  \\\n",
       "2 2001-01-03  272.03    90861.75        NaN        NaN         NaN       NaN   \n",
       "3 2001-01-04  278.75   329329.70        NaN        NaN         NaN  0.672000   \n",
       "4 2001-01-05  286.76   344688.40        NaN        NaN         NaN  1.405800   \n",
       "5 2001-01-08  295.84   934483.00   7.936667        NaN         NaN  2.173220   \n",
       "6 2001-01-09  298.37  1361737.00   6.540000        NaN         NaN  2.208898   \n",
       "\n",
       "       MACD  MACD_diff  RSI      MOM1      MOM3  MOM5  MOM14  \n",
       "2  0.000000        NaN  NaN       NaN       NaN   NaN    NaN  \n",
       "3  0.536068   0.536068  NaN  0.024703       NaN   NaN    NaN  \n",
       "4  1.588930   1.052862  NaN  0.028735       NaN   NaN    NaN  \n",
       "5  3.120045   1.531115  NaN  0.031664  0.087527   NaN    NaN  \n",
       "6  4.485904   1.365859  NaN  0.008552  0.070386   NaN    NaN  "
      ]
     },
     "execution_count": 34,
     "metadata": {},
     "output_type": "execute_result"
    }
   ],
   "source": [
    "# Feature Generation 4: Momentum (use 1, 3, 5, 14 days)\n",
    "SET_IDX['MOM1'] = SET_IDX.loc[:, 'Close'].pct_change(periods = 1)\n",
    "SET_IDX['MOM3'] = SET_IDX.loc[:, 'Close'].pct_change(periods = 3)\n",
    "SET_IDX['MOM5'] = SET_IDX.loc[:, 'Close'].pct_change(periods = 5)\n",
    "SET_IDX['MOM14'] = SET_IDX.loc[:, 'Close'].pct_change(periods = 14)\n",
    "\n",
    "SET_IDX.head()"
   ]
  },
  {
   "cell_type": "markdown",
   "metadata": {},
   "source": [
    "### Feature Generation 5: Commodity channel index (CCI)\n",
    "Source: https://school.stockcharts.com/doku.php?id=technical_indicators:commodity_channel_index_cci"
   ]
  },
  {
   "cell_type": "code",
   "execution_count": 35,
   "metadata": {},
   "outputs": [],
   "source": [
    "# Feature Generation 5: CCI\n",
    "# Define custom function named CCI\n",
    "def CCI(close, window_length, epsilon = 10**(-7)): \n",
    "    ''' This function only uses close price in calculating CCI, which could be an alternative version to (high + low + close)/3\n",
    "        Arguments: close (Pandas series object, indicating the price inputted to calculate CCI)\n",
    "                         window_length (the length needed to calculate simple moving average and standard deviation)\n",
    "                         epsilon (prevent numerical problems where the denominator is very close to zero, default = 10^-7)\n",
    "        Returns: Pandas series containing CCI\n",
    "    '''\n",
    "    CCI = pd.Series((close - close.rolling(window_length).mean()) / (epsilon + 0.015 * close.rolling(window_length).std())) \n",
    "\n",
    "    return CCI"
   ]
  },
  {
   "cell_type": "code",
   "execution_count": 37,
   "metadata": {},
   "outputs": [
    {
     "data": {
      "text/plain": [
       "[<matplotlib.lines.Line2D at 0x2278acd7548>]"
      ]
     },
     "execution_count": 37,
     "metadata": {},
     "output_type": "execute_result"
    },
    {
     "data": {
      "image/png": "[encoded data removed]",
      "text/plain": [
       "<Figure size 432x288 with 1 Axes>"
      ]
     },
     "metadata": {
      "needs_background": "light"
     },
     "output_type": "display_data"
    }
   ],
   "source": [
    "# We use default parameter of 20\n",
    "CCI_20 = CCI(SET_IDX.loc[:, 'Close'], 20)\n",
    "fig, ax = plt.subplots()\n",
    "ax.plot(SET_IDX['Date'], CCI_20)"
   ]
  },
  {
   "cell_type": "markdown",
   "metadata": {},
   "source": [
    "#### Observations\n",
    "- CCI is clustered around zero, and roughly evenly distributed to both negative and positive sides.\n",
    "- The good thing about CCI is that we see less of outlier observations (compared to previous ones). That is because we account for the price change by recent volatilities. In other words, an equal price change in low-volatility period and high-volatility period would be discounted differently."
   ]
  },
  {
   "cell_type": "code",
   "execution_count": 38,
   "metadata": {},
   "outputs": [
    {
     "data": {
      "text/html": [
       "<div>\n",
       "<style scoped>\n",
       "    .dataframe tbody tr th:only-of-type {\n",
       "        vertical-align: middle;\n",
       "    }\n",
       "\n",
       "    .dataframe tbody tr th {\n",
       "        vertical-align: top;\n",
       "    }\n",
       "\n",
       "    .dataframe thead th {\n",
       "        text-align: right;\n",
       "    }\n",
       "</style>\n",
       "<table border=\"1\" class=\"dataframe\">\n",
       "  <thead>\n",
       "    <tr style=\"text-align: right;\">\n",
       "      <th></th>\n",
       "      <th>Date</th>\n",
       "      <th>Close</th>\n",
       "      <th>Volume</th>\n",
       "      <th>MA_diff_3</th>\n",
       "      <th>MA_diff_5</th>\n",
       "      <th>MA_diff_14</th>\n",
       "      <th>EMA_diff</th>\n",
       "      <th>MACD</th>\n",
       "      <th>MACD_diff</th>\n",
       "      <th>RSI</th>\n",
       "      <th>MOM1</th>\n",
       "      <th>MOM3</th>\n",
       "      <th>MOM5</th>\n",
       "      <th>MOM14</th>\n",
       "      <th>CCI_20</th>\n",
       "      <th>STD_14</th>\n",
       "    </tr>\n",
       "  </thead>\n",
       "  <tbody>\n",
       "    <tr>\n",
       "      <th>2</th>\n",
       "      <td>2001-01-03</td>\n",
       "      <td>272.03</td>\n",
       "      <td>90861.75</td>\n",
       "      <td>NaN</td>\n",
       "      <td>NaN</td>\n",
       "      <td>NaN</td>\n",
       "      <td>NaN</td>\n",
       "      <td>0.000000</td>\n",
       "      <td>NaN</td>\n",
       "      <td>NaN</td>\n",
       "      <td>NaN</td>\n",
       "      <td>NaN</td>\n",
       "      <td>NaN</td>\n",
       "      <td>NaN</td>\n",
       "      <td>NaN</td>\n",
       "      <td>NaN</td>\n",
       "    </tr>\n",
       "    <tr>\n",
       "      <th>3</th>\n",
       "      <td>2001-01-04</td>\n",
       "      <td>278.75</td>\n",
       "      <td>329329.70</td>\n",
       "      <td>NaN</td>\n",
       "      <td>NaN</td>\n",
       "      <td>NaN</td>\n",
       "      <td>0.672000</td>\n",
       "      <td>0.536068</td>\n",
       "      <td>0.536068</td>\n",
       "      <td>NaN</td>\n",
       "      <td>0.024703</td>\n",
       "      <td>NaN</td>\n",
       "      <td>NaN</td>\n",
       "      <td>NaN</td>\n",
       "      <td>NaN</td>\n",
       "      <td>NaN</td>\n",
       "    </tr>\n",
       "    <tr>\n",
       "      <th>4</th>\n",
       "      <td>2001-01-05</td>\n",
       "      <td>286.76</td>\n",
       "      <td>344688.40</td>\n",
       "      <td>NaN</td>\n",
       "      <td>NaN</td>\n",
       "      <td>NaN</td>\n",
       "      <td>1.405800</td>\n",
       "      <td>1.588930</td>\n",
       "      <td>1.052862</td>\n",
       "      <td>NaN</td>\n",
       "      <td>0.028735</td>\n",
       "      <td>NaN</td>\n",
       "      <td>NaN</td>\n",
       "      <td>NaN</td>\n",
       "      <td>NaN</td>\n",
       "      <td>NaN</td>\n",
       "    </tr>\n",
       "    <tr>\n",
       "      <th>5</th>\n",
       "      <td>2001-01-08</td>\n",
       "      <td>295.84</td>\n",
       "      <td>934483.00</td>\n",
       "      <td>7.936667</td>\n",
       "      <td>NaN</td>\n",
       "      <td>NaN</td>\n",
       "      <td>2.173220</td>\n",
       "      <td>3.120045</td>\n",
       "      <td>1.531115</td>\n",
       "      <td>NaN</td>\n",
       "      <td>0.031664</td>\n",
       "      <td>0.087527</td>\n",
       "      <td>NaN</td>\n",
       "      <td>NaN</td>\n",
       "      <td>NaN</td>\n",
       "      <td>NaN</td>\n",
       "    </tr>\n",
       "    <tr>\n",
       "      <th>6</th>\n",
       "      <td>2001-01-09</td>\n",
       "      <td>298.37</td>\n",
       "      <td>1361737.00</td>\n",
       "      <td>6.540000</td>\n",
       "      <td>NaN</td>\n",
       "      <td>NaN</td>\n",
       "      <td>2.208898</td>\n",
       "      <td>4.485904</td>\n",
       "      <td>1.365859</td>\n",
       "      <td>NaN</td>\n",
       "      <td>0.008552</td>\n",
       "      <td>0.070386</td>\n",
       "      <td>NaN</td>\n",
       "      <td>NaN</td>\n",
       "      <td>NaN</td>\n",
       "      <td>NaN</td>\n",
       "    </tr>\n",
       "  </tbody>\n",
       "</table>\n",
       "</div>"
      ],
      "text/plain": [
       "        Date   Close      Volume  MA_diff_3  MA_diff_5  MA_diff_14  EMA_diff  \\\n",
       "2 2001-01-03  272.03    90861.75        NaN        NaN         NaN       NaN   \n",
       "3 2001-01-04  278.75   329329.70        NaN        NaN         NaN  0.672000   \n",
       "4 2001-01-05  286.76   344688.40        NaN        NaN         NaN  1.405800   \n",
       "5 2001-01-08  295.84   934483.00   7.936667        NaN         NaN  2.173220   \n",
       "6 2001-01-09  298.37  1361737.00   6.540000        NaN         NaN  2.208898   \n",
       "\n",
       "       MACD  MACD_diff  RSI      MOM1      MOM3  MOM5  MOM14  CCI_20  STD_14  \n",
       "2  0.000000        NaN  NaN       NaN       NaN   NaN    NaN     NaN     NaN  \n",
       "3  0.536068   0.536068  NaN  0.024703       NaN   NaN    NaN     NaN     NaN  \n",
       "4  1.588930   1.052862  NaN  0.028735       NaN   NaN    NaN     NaN     NaN  \n",
       "5  3.120045   1.531115  NaN  0.031664  0.087527   NaN    NaN     NaN     NaN  \n",
       "6  4.485904   1.365859  NaN  0.008552  0.070386   NaN    NaN     NaN     NaN  "
      ]
     },
     "execution_count": 38,
     "metadata": {},
     "output_type": "execute_result"
    }
   ],
   "source": [
    "SET_IDX['CCI_20'] = CCI(SET_IDX.loc[:, 'Close'], 20)\n",
    "# Just add another feature to account for 14-day volatilities\n",
    "SET_IDX['STD_14'] = SET_IDX.loc[:, 'Close'].rolling(window = 14).std()\n",
    "SET_IDX.head(5)"
   ]
  },
  {
   "cell_type": "code",
   "execution_count": 40,
   "metadata": {},
   "outputs": [
    {
     "data": {
      "text/html": [
       "<div>\n",
       "<style scoped>\n",
       "    .dataframe tbody tr th:only-of-type {\n",
       "        vertical-align: middle;\n",
       "    }\n",
       "\n",
       "    .dataframe tbody tr th {\n",
       "        vertical-align: top;\n",
       "    }\n",
       "\n",
       "    .dataframe thead th {\n",
       "        text-align: right;\n",
       "    }\n",
       "</style>\n",
       "<table border=\"1\" class=\"dataframe\">\n",
       "  <thead>\n",
       "    <tr style=\"text-align: right;\">\n",
       "      <th></th>\n",
       "      <th>Date</th>\n",
       "      <th>Close</th>\n",
       "      <th>Volume</th>\n",
       "      <th>MA_diff_3</th>\n",
       "      <th>MA_diff_5</th>\n",
       "      <th>MA_diff_14</th>\n",
       "      <th>EMA_diff</th>\n",
       "      <th>MACD</th>\n",
       "      <th>MACD_diff</th>\n",
       "      <th>RSI</th>\n",
       "      <th>MOM1</th>\n",
       "      <th>MOM3</th>\n",
       "      <th>MOM5</th>\n",
       "      <th>MOM14</th>\n",
       "      <th>CCI_20</th>\n",
       "      <th>STD_14</th>\n",
       "    </tr>\n",
       "  </thead>\n",
       "  <tbody>\n",
       "    <tr>\n",
       "      <th>2</th>\n",
       "      <td>NaT</td>\n",
       "      <td>NaN</td>\n",
       "      <td>NaN</td>\n",
       "      <td>NaN</td>\n",
       "      <td>NaN</td>\n",
       "      <td>NaN</td>\n",
       "      <td>NaN</td>\n",
       "      <td>NaN</td>\n",
       "      <td>NaN</td>\n",
       "      <td>NaN</td>\n",
       "      <td>NaN</td>\n",
       "      <td>NaN</td>\n",
       "      <td>NaN</td>\n",
       "      <td>NaN</td>\n",
       "      <td>NaN</td>\n",
       "      <td>NaN</td>\n",
       "    </tr>\n",
       "    <tr>\n",
       "      <th>3</th>\n",
       "      <td>2001-01-03</td>\n",
       "      <td>272.03</td>\n",
       "      <td>90861.75</td>\n",
       "      <td>NaN</td>\n",
       "      <td>NaN</td>\n",
       "      <td>NaN</td>\n",
       "      <td>NaN</td>\n",
       "      <td>0.000000</td>\n",
       "      <td>NaN</td>\n",
       "      <td>NaN</td>\n",
       "      <td>NaN</td>\n",
       "      <td>NaN</td>\n",
       "      <td>NaN</td>\n",
       "      <td>NaN</td>\n",
       "      <td>NaN</td>\n",
       "      <td>NaN</td>\n",
       "    </tr>\n",
       "    <tr>\n",
       "      <th>4</th>\n",
       "      <td>2001-01-04</td>\n",
       "      <td>278.75</td>\n",
       "      <td>329329.70</td>\n",
       "      <td>NaN</td>\n",
       "      <td>NaN</td>\n",
       "      <td>NaN</td>\n",
       "      <td>0.67200</td>\n",
       "      <td>0.536068</td>\n",
       "      <td>0.536068</td>\n",
       "      <td>NaN</td>\n",
       "      <td>0.024703</td>\n",
       "      <td>NaN</td>\n",
       "      <td>NaN</td>\n",
       "      <td>NaN</td>\n",
       "      <td>NaN</td>\n",
       "      <td>NaN</td>\n",
       "    </tr>\n",
       "    <tr>\n",
       "      <th>5</th>\n",
       "      <td>2001-01-05</td>\n",
       "      <td>286.76</td>\n",
       "      <td>344688.40</td>\n",
       "      <td>NaN</td>\n",
       "      <td>NaN</td>\n",
       "      <td>NaN</td>\n",
       "      <td>1.40580</td>\n",
       "      <td>1.588930</td>\n",
       "      <td>1.052862</td>\n",
       "      <td>NaN</td>\n",
       "      <td>0.028735</td>\n",
       "      <td>NaN</td>\n",
       "      <td>NaN</td>\n",
       "      <td>NaN</td>\n",
       "      <td>NaN</td>\n",
       "      <td>NaN</td>\n",
       "    </tr>\n",
       "    <tr>\n",
       "      <th>6</th>\n",
       "      <td>2001-01-08</td>\n",
       "      <td>295.84</td>\n",
       "      <td>934483.00</td>\n",
       "      <td>7.936667</td>\n",
       "      <td>NaN</td>\n",
       "      <td>NaN</td>\n",
       "      <td>2.17322</td>\n",
       "      <td>3.120045</td>\n",
       "      <td>1.531115</td>\n",
       "      <td>NaN</td>\n",
       "      <td>0.031664</td>\n",
       "      <td>0.087527</td>\n",
       "      <td>NaN</td>\n",
       "      <td>NaN</td>\n",
       "      <td>NaN</td>\n",
       "      <td>NaN</td>\n",
       "    </tr>\n",
       "  </tbody>\n",
       "</table>\n",
       "</div>"
      ],
      "text/plain": [
       "        Date   Close     Volume  MA_diff_3  MA_diff_5  MA_diff_14  EMA_diff  \\\n",
       "2        NaT     NaN        NaN        NaN        NaN         NaN       NaN   \n",
       "3 2001-01-03  272.03   90861.75        NaN        NaN         NaN       NaN   \n",
       "4 2001-01-04  278.75  329329.70        NaN        NaN         NaN   0.67200   \n",
       "5 2001-01-05  286.76  344688.40        NaN        NaN         NaN   1.40580   \n",
       "6 2001-01-08  295.84  934483.00   7.936667        NaN         NaN   2.17322   \n",
       "\n",
       "       MACD  MACD_diff  RSI      MOM1      MOM3  MOM5  MOM14  CCI_20  STD_14  \n",
       "2       NaN        NaN  NaN       NaN       NaN   NaN    NaN     NaN     NaN  \n",
       "3  0.000000        NaN  NaN       NaN       NaN   NaN    NaN     NaN     NaN  \n",
       "4  0.536068   0.536068  NaN  0.024703       NaN   NaN    NaN     NaN     NaN  \n",
       "5  1.588930   1.052862  NaN  0.028735       NaN   NaN    NaN     NaN     NaN  \n",
       "6  3.120045   1.531115  NaN  0.031664  0.087527   NaN    NaN     NaN     NaN  "
      ]
     },
     "execution_count": 40,
     "metadata": {},
     "output_type": "execute_result"
    }
   ],
   "source": [
    "# Just for debugging on how shift method works ;)\n",
    "SET_IDX.shift(1).head()"
   ]
  },
  {
   "cell_type": "markdown",
   "metadata": {},
   "source": [
    "### Feature Generation 6: Volume Agent\n",
    "Source: Predicting Stock Prices Using Technical Analysis and Machine Learning written by Jan Ivar Larsen"
   ]
  },
  {
   "cell_type": "code",
   "execution_count": 41,
   "metadata": {},
   "outputs": [
    {
     "data": {
      "text/plain": [
       "[<matplotlib.lines.Line2D at 0x227897faf48>]"
      ]
     },
     "execution_count": 41,
     "metadata": {},
     "output_type": "execute_result"
    },
    {
     "data": {
      "image/png": "[encoded data removed]",
      "text/plain": [
       "<Figure size 432x288 with 1 Axes>"
      ]
     },
     "metadata": {
      "needs_background": "light"
     },
     "output_type": "display_data"
    }
   ],
   "source": [
    "# We will use default parameters used in the above paper (2, 14)\n",
    "VA_2 = SET_IDX.loc[:,'Volume'].rolling(window=2).mean()\n",
    "VA_14 = SET_IDX.loc[:,'Volume'].rolling(window=14).mean()\n",
    "\n",
    "fig, ax = plt.subplots()\n",
    "ax.plot(SET_IDX['Date'], VA_2 - VA_14)"
   ]
  },
  {
   "cell_type": "markdown",
   "metadata": {},
   "source": [
    "#### Observations\n",
    "- Note that volume indicator is just supporting indicator. To confirm that there is enough volume to support momentum and trend changes.\n",
    "- We could see tailed observations in volume change. Does not matter as long as we flatten it out to be dummy variable."
   ]
  },
  {
   "cell_type": "code",
   "execution_count": 43,
   "metadata": {},
   "outputs": [],
   "source": [
    "VA_2 = SET_IDX.loc[:,'Volume'].rolling(window=2).mean()\n",
    "VA_14 = SET_IDX.loc[:,'Volume'].rolling(window=14).mean()\n",
    "VA_diff = VA_2 - VA_14\n",
    "\n",
    "# Encode dummy variable using apply method\n",
    "SET_IDX['Volume_Agent'] = VA_diff.apply(lambda x: 1 if x > 0 else 0)\n"
   ]
  },
  {
   "cell_type": "code",
   "execution_count": 46,
   "metadata": {},
   "outputs": [
    {
     "data": {
      "text/plain": [
       "count    4882.000000\n",
       "mean        0.465998\n",
       "std         0.498894\n",
       "min         0.000000\n",
       "25%         0.000000\n",
       "50%         0.000000\n",
       "75%         1.000000\n",
       "max         1.000000\n",
       "Name: Volume_Agent, dtype: float64"
      ]
     },
     "execution_count": 46,
     "metadata": {},
     "output_type": "execute_result"
    }
   ],
   "source": [
    "SET_IDX['Volume_Agent'].describe()\n",
    "# Interesting to see on average, what is proportion of VA_2 > VA_14 over all observations (answer: mean is not different from 0.5)"
   ]
  },
  {
   "cell_type": "markdown",
   "metadata": {},
   "source": [
    "### Time to generate the predictions and split observations to Train, Validate, Test split\n",
    "The below visualization shows the framework of thought (I took it from a Medium article)"
   ]
  },
  {
   "cell_type": "code",
   "execution_count": 47,
   "metadata": {},
   "outputs": [
    {
     "data": {
      "text/html": [
       "<img src = \"./Prediction_scheme.jpeg\", width = 400 />\n"
      ],
      "text/plain": [
       "<IPython.core.display.HTML object>"
      ]
     },
     "metadata": {},
     "output_type": "display_data"
    }
   ],
   "source": [
    "%%HTML\n",
    "<img src = \"./Prediction_scheme.jpeg\", width = 400 />"
   ]
  },
  {
   "cell_type": "code",
   "execution_count": 48,
   "metadata": {},
   "outputs": [],
   "source": [
    "## Time to generate y: the prediction is separated into three classes:\n",
    "## Up (1): if the price in prediction period (e.g. 1, 3, 5, 14 days) increases by more than 0.5% of today index\n",
    "## Down (-1): if the price in prediction period (e.g. 1, 3, 5, 14 days) decreases by more than 0.5% of today index\n",
    "## Sideway (0): if the price in prediction period (e.g. 1, 3, 5, 14 days) is between -0.5% to 0.5% of today index\n",
    "\n",
    "# The number 0.5% comes from the paper \"Performance of technical trading rules: evidence from Southeast Asian stock markets\"\n",
    "# written by Piyapas Tharavanij*, Vasan Siraprapasiri and Kittichai Rajchamaha\n",
    "\n",
    "def generatePrediction(close, prediction_interval):\n",
    "    ''' Arguments: close (Pandas series containing the close price)\n",
    "        Returns: Pandas series containing true Y\n",
    "    '''\n",
    "    series = np.where(close.shift(-prediction_interval) > 1.005*close, 1, \n",
    "                                    np.where(close.shift(-prediction_interval) < 0.995*close, -1, 0))\n",
    "    return series"
   ]
  },
  {
   "cell_type": "code",
   "execution_count": 49,
   "metadata": {},
   "outputs": [
    {
     "data": {
      "text/html": [
       "<div>\n",
       "<style scoped>\n",
       "    .dataframe tbody tr th:only-of-type {\n",
       "        vertical-align: middle;\n",
       "    }\n",
       "\n",
       "    .dataframe tbody tr th {\n",
       "        vertical-align: top;\n",
       "    }\n",
       "\n",
       "    .dataframe thead th {\n",
       "        text-align: right;\n",
       "    }\n",
       "</style>\n",
       "<table border=\"1\" class=\"dataframe\">\n",
       "  <thead>\n",
       "    <tr style=\"text-align: right;\">\n",
       "      <th></th>\n",
       "      <th>Date</th>\n",
       "      <th>Close</th>\n",
       "      <th>Volume</th>\n",
       "      <th>MA_diff_3</th>\n",
       "      <th>MA_diff_5</th>\n",
       "      <th>MA_diff_14</th>\n",
       "      <th>EMA_diff</th>\n",
       "      <th>MACD</th>\n",
       "      <th>MACD_diff</th>\n",
       "      <th>RSI</th>\n",
       "      <th>...</th>\n",
       "      <th>MOM3</th>\n",
       "      <th>MOM5</th>\n",
       "      <th>MOM14</th>\n",
       "      <th>CCI_20</th>\n",
       "      <th>STD_14</th>\n",
       "      <th>Volume_Agent</th>\n",
       "      <th>Y_1</th>\n",
       "      <th>Y_3</th>\n",
       "      <th>Y_5</th>\n",
       "      <th>Y_14</th>\n",
       "    </tr>\n",
       "  </thead>\n",
       "  <tbody>\n",
       "    <tr>\n",
       "      <th>2</th>\n",
       "      <td>2001-01-03</td>\n",
       "      <td>272.03</td>\n",
       "      <td>90861.75</td>\n",
       "      <td>NaN</td>\n",
       "      <td>NaN</td>\n",
       "      <td>NaN</td>\n",
       "      <td>NaN</td>\n",
       "      <td>0.000000</td>\n",
       "      <td>NaN</td>\n",
       "      <td>NaN</td>\n",
       "      <td>...</td>\n",
       "      <td>NaN</td>\n",
       "      <td>NaN</td>\n",
       "      <td>NaN</td>\n",
       "      <td>NaN</td>\n",
       "      <td>NaN</td>\n",
       "      <td>0</td>\n",
       "      <td>1</td>\n",
       "      <td>1</td>\n",
       "      <td>1</td>\n",
       "      <td>1</td>\n",
       "    </tr>\n",
       "    <tr>\n",
       "      <th>3</th>\n",
       "      <td>2001-01-04</td>\n",
       "      <td>278.75</td>\n",
       "      <td>329329.70</td>\n",
       "      <td>NaN</td>\n",
       "      <td>NaN</td>\n",
       "      <td>NaN</td>\n",
       "      <td>0.672000</td>\n",
       "      <td>0.536068</td>\n",
       "      <td>0.536068</td>\n",
       "      <td>NaN</td>\n",
       "      <td>...</td>\n",
       "      <td>NaN</td>\n",
       "      <td>NaN</td>\n",
       "      <td>NaN</td>\n",
       "      <td>NaN</td>\n",
       "      <td>NaN</td>\n",
       "      <td>0</td>\n",
       "      <td>1</td>\n",
       "      <td>1</td>\n",
       "      <td>1</td>\n",
       "      <td>1</td>\n",
       "    </tr>\n",
       "    <tr>\n",
       "      <th>4</th>\n",
       "      <td>2001-01-05</td>\n",
       "      <td>286.76</td>\n",
       "      <td>344688.40</td>\n",
       "      <td>NaN</td>\n",
       "      <td>NaN</td>\n",
       "      <td>NaN</td>\n",
       "      <td>1.405800</td>\n",
       "      <td>1.588930</td>\n",
       "      <td>1.052862</td>\n",
       "      <td>NaN</td>\n",
       "      <td>...</td>\n",
       "      <td>NaN</td>\n",
       "      <td>NaN</td>\n",
       "      <td>NaN</td>\n",
       "      <td>NaN</td>\n",
       "      <td>NaN</td>\n",
       "      <td>0</td>\n",
       "      <td>1</td>\n",
       "      <td>1</td>\n",
       "      <td>1</td>\n",
       "      <td>1</td>\n",
       "    </tr>\n",
       "    <tr>\n",
       "      <th>5</th>\n",
       "      <td>2001-01-08</td>\n",
       "      <td>295.84</td>\n",
       "      <td>934483.00</td>\n",
       "      <td>7.936667</td>\n",
       "      <td>NaN</td>\n",
       "      <td>NaN</td>\n",
       "      <td>2.173220</td>\n",
       "      <td>3.120045</td>\n",
       "      <td>1.531115</td>\n",
       "      <td>NaN</td>\n",
       "      <td>...</td>\n",
       "      <td>0.087527</td>\n",
       "      <td>NaN</td>\n",
       "      <td>NaN</td>\n",
       "      <td>NaN</td>\n",
       "      <td>NaN</td>\n",
       "      <td>0</td>\n",
       "      <td>1</td>\n",
       "      <td>0</td>\n",
       "      <td>1</td>\n",
       "      <td>1</td>\n",
       "    </tr>\n",
       "    <tr>\n",
       "      <th>6</th>\n",
       "      <td>2001-01-09</td>\n",
       "      <td>298.37</td>\n",
       "      <td>1361737.00</td>\n",
       "      <td>6.540000</td>\n",
       "      <td>NaN</td>\n",
       "      <td>NaN</td>\n",
       "      <td>2.208898</td>\n",
       "      <td>4.485904</td>\n",
       "      <td>1.365859</td>\n",
       "      <td>NaN</td>\n",
       "      <td>...</td>\n",
       "      <td>0.070386</td>\n",
       "      <td>NaN</td>\n",
       "      <td>NaN</td>\n",
       "      <td>NaN</td>\n",
       "      <td>NaN</td>\n",
       "      <td>0</td>\n",
       "      <td>-1</td>\n",
       "      <td>1</td>\n",
       "      <td>1</td>\n",
       "      <td>1</td>\n",
       "    </tr>\n",
       "    <tr>\n",
       "      <th>7</th>\n",
       "      <td>2001-01-10</td>\n",
       "      <td>293.65</td>\n",
       "      <td>684156.20</td>\n",
       "      <td>2.296667</td>\n",
       "      <td>4.324</td>\n",
       "      <td>NaN</td>\n",
       "      <td>1.516008</td>\n",
       "      <td>5.128375</td>\n",
       "      <td>0.642472</td>\n",
       "      <td>NaN</td>\n",
       "      <td>...</td>\n",
       "      <td>0.024027</td>\n",
       "      <td>0.079477</td>\n",
       "      <td>NaN</td>\n",
       "      <td>NaN</td>\n",
       "      <td>NaN</td>\n",
       "      <td>0</td>\n",
       "      <td>0</td>\n",
       "      <td>1</td>\n",
       "      <td>1</td>\n",
       "      <td>1</td>\n",
       "    </tr>\n",
       "    <tr>\n",
       "      <th>8</th>\n",
       "      <td>2001-01-11</td>\n",
       "      <td>295.06</td>\n",
       "      <td>734011.40</td>\n",
       "      <td>-0.260000</td>\n",
       "      <td>3.262</td>\n",
       "      <td>NaN</td>\n",
       "      <td>1.505407</td>\n",
       "      <td>5.685772</td>\n",
       "      <td>0.557397</td>\n",
       "      <td>NaN</td>\n",
       "      <td>...</td>\n",
       "      <td>-0.002637</td>\n",
       "      <td>0.058511</td>\n",
       "      <td>NaN</td>\n",
       "      <td>NaN</td>\n",
       "      <td>NaN</td>\n",
       "      <td>0</td>\n",
       "      <td>1</td>\n",
       "      <td>1</td>\n",
       "      <td>1</td>\n",
       "      <td>1</td>\n",
       "    </tr>\n",
       "    <tr>\n",
       "      <th>9</th>\n",
       "      <td>2001-01-12</td>\n",
       "      <td>311.25</td>\n",
       "      <td>1536920.00</td>\n",
       "      <td>4.293333</td>\n",
       "      <td>4.898</td>\n",
       "      <td>NaN</td>\n",
       "      <td>2.973867</td>\n",
       "      <td>7.349193</td>\n",
       "      <td>1.663422</td>\n",
       "      <td>NaN</td>\n",
       "      <td>...</td>\n",
       "      <td>0.043168</td>\n",
       "      <td>0.085402</td>\n",
       "      <td>NaN</td>\n",
       "      <td>NaN</td>\n",
       "      <td>NaN</td>\n",
       "      <td>0</td>\n",
       "      <td>1</td>\n",
       "      <td>1</td>\n",
       "      <td>1</td>\n",
       "      <td>1</td>\n",
       "    </tr>\n",
       "    <tr>\n",
       "      <th>10</th>\n",
       "      <td>2001-01-15</td>\n",
       "      <td>317.51</td>\n",
       "      <td>1541838.00</td>\n",
       "      <td>7.953333</td>\n",
       "      <td>4.334</td>\n",
       "      <td>NaN</td>\n",
       "      <td>3.302480</td>\n",
       "      <td>9.068066</td>\n",
       "      <td>1.718872</td>\n",
       "      <td>NaN</td>\n",
       "      <td>...</td>\n",
       "      <td>0.081253</td>\n",
       "      <td>0.073249</td>\n",
       "      <td>NaN</td>\n",
       "      <td>NaN</td>\n",
       "      <td>NaN</td>\n",
       "      <td>0</td>\n",
       "      <td>-1</td>\n",
       "      <td>-1</td>\n",
       "      <td>0</td>\n",
       "      <td>1</td>\n",
       "    </tr>\n",
       "    <tr>\n",
       "      <th>11</th>\n",
       "      <td>2001-01-16</td>\n",
       "      <td>308.42</td>\n",
       "      <td>800220.10</td>\n",
       "      <td>4.453333</td>\n",
       "      <td>2.010</td>\n",
       "      <td>NaN</td>\n",
       "      <td>2.063232</td>\n",
       "      <td>9.586292</td>\n",
       "      <td>0.518227</td>\n",
       "      <td>NaN</td>\n",
       "      <td>...</td>\n",
       "      <td>0.045279</td>\n",
       "      <td>0.033683</td>\n",
       "      <td>NaN</td>\n",
       "      <td>NaN</td>\n",
       "      <td>NaN</td>\n",
       "      <td>0</td>\n",
       "      <td>1</td>\n",
       "      <td>1</td>\n",
       "      <td>1</td>\n",
       "      <td>1</td>\n",
       "    </tr>\n",
       "  </tbody>\n",
       "</table>\n",
       "<p>10 rows × 21 columns</p>\n",
       "</div>"
      ],
      "text/plain": [
       "         Date   Close      Volume  MA_diff_3  MA_diff_5  MA_diff_14  EMA_diff  \\\n",
       "2  2001-01-03  272.03    90861.75        NaN        NaN         NaN       NaN   \n",
       "3  2001-01-04  278.75   329329.70        NaN        NaN         NaN  0.672000   \n",
       "4  2001-01-05  286.76   344688.40        NaN        NaN         NaN  1.405800   \n",
       "5  2001-01-08  295.84   934483.00   7.936667        NaN         NaN  2.173220   \n",
       "6  2001-01-09  298.37  1361737.00   6.540000        NaN         NaN  2.208898   \n",
       "7  2001-01-10  293.65   684156.20   2.296667      4.324         NaN  1.516008   \n",
       "8  2001-01-11  295.06   734011.40  -0.260000      3.262         NaN  1.505407   \n",
       "9  2001-01-12  311.25  1536920.00   4.293333      4.898         NaN  2.973867   \n",
       "10 2001-01-15  317.51  1541838.00   7.953333      4.334         NaN  3.302480   \n",
       "11 2001-01-16  308.42   800220.10   4.453333      2.010         NaN  2.063232   \n",
       "\n",
       "        MACD  MACD_diff  RSI  ...      MOM3      MOM5  MOM14  CCI_20  STD_14  \\\n",
       "2   0.000000        NaN  NaN  ...       NaN       NaN    NaN     NaN     NaN   \n",
       "3   0.536068   0.536068  NaN  ...       NaN       NaN    NaN     NaN     NaN   \n",
       "4   1.588930   1.052862  NaN  ...       NaN       NaN    NaN     NaN     NaN   \n",
       "5   3.120045   1.531115  NaN  ...  0.087527       NaN    NaN     NaN     NaN   \n",
       "6   4.485904   1.365859  NaN  ...  0.070386       NaN    NaN     NaN     NaN   \n",
       "7   5.128375   0.642472  NaN  ...  0.024027  0.079477    NaN     NaN     NaN   \n",
       "8   5.685772   0.557397  NaN  ... -0.002637  0.058511    NaN     NaN     NaN   \n",
       "9   7.349193   1.663422  NaN  ...  0.043168  0.085402    NaN     NaN     NaN   \n",
       "10  9.068066   1.718872  NaN  ...  0.081253  0.073249    NaN     NaN     NaN   \n",
       "11  9.586292   0.518227  NaN  ...  0.045279  0.033683    NaN     NaN     NaN   \n",
       "\n",
       "    Volume_Agent  Y_1  Y_3  Y_5  Y_14  \n",
       "2              0    1    1    1     1  \n",
       "3              0    1    1    1     1  \n",
       "4              0    1    1    1     1  \n",
       "5              0    1    0    1     1  \n",
       "6              0   -1    1    1     1  \n",
       "7              0    0    1    1     1  \n",
       "8              0    1    1    1     1  \n",
       "9              0    1    1    1     1  \n",
       "10             0   -1   -1    0     1  \n",
       "11             0    1    1    1     1  \n",
       "\n",
       "[10 rows x 21 columns]"
      ]
     },
     "execution_count": 49,
     "metadata": {},
     "output_type": "execute_result"
    }
   ],
   "source": [
    "SET_IDX['Y_1'] = generatePrediction(SET_IDX.loc[:, 'Close'], 1)\n",
    "SET_IDX['Y_3'] = generatePrediction(SET_IDX.loc[:, 'Close'], 3)\n",
    "SET_IDX['Y_5'] = generatePrediction(SET_IDX.loc[:, 'Close'], 5)\n",
    "SET_IDX['Y_14'] = generatePrediction(SET_IDX.loc[:, 'Close'], 14)\n",
    "SET_IDX.head(10)"
   ]
  },
  {
   "cell_type": "markdown",
   "metadata": {},
   "source": [
    "### Extra Feature: Dummy feature\n",
    "I intend to come up with this feature to build a benchmark model. Basically, it is just the lagged value of y."
   ]
  },
  {
   "cell_type": "code",
   "execution_count": 52,
   "metadata": {},
   "outputs": [],
   "source": [
    "SET_IDX['Y_N_1'] = generatePrediction(SET_IDX.loc[:, 'Close'], -1) # Opposite of shift function because we use negative number"
   ]
  },
  {
   "cell_type": "code",
   "execution_count": 53,
   "metadata": {},
   "outputs": [
    {
     "data": {
      "text/html": [
       "<div>\n",
       "<style scoped>\n",
       "    .dataframe tbody tr th:only-of-type {\n",
       "        vertical-align: middle;\n",
       "    }\n",
       "\n",
       "    .dataframe tbody tr th {\n",
       "        vertical-align: top;\n",
       "    }\n",
       "\n",
       "    .dataframe thead th {\n",
       "        text-align: right;\n",
       "    }\n",
       "</style>\n",
       "<table border=\"1\" class=\"dataframe\">\n",
       "  <thead>\n",
       "    <tr style=\"text-align: right;\">\n",
       "      <th></th>\n",
       "      <th>Date</th>\n",
       "      <th>Close</th>\n",
       "      <th>Volume</th>\n",
       "      <th>MA_diff_3</th>\n",
       "      <th>MA_diff_5</th>\n",
       "      <th>MA_diff_14</th>\n",
       "      <th>EMA_diff</th>\n",
       "      <th>MACD</th>\n",
       "      <th>MACD_diff</th>\n",
       "      <th>RSI</th>\n",
       "      <th>...</th>\n",
       "      <th>MOM5</th>\n",
       "      <th>MOM14</th>\n",
       "      <th>CCI_20</th>\n",
       "      <th>STD_14</th>\n",
       "      <th>Volume_Agent</th>\n",
       "      <th>Y_1</th>\n",
       "      <th>Y_3</th>\n",
       "      <th>Y_5</th>\n",
       "      <th>Y_14</th>\n",
       "      <th>Y_N_1</th>\n",
       "    </tr>\n",
       "  </thead>\n",
       "  <tbody>\n",
       "    <tr>\n",
       "      <th>2</th>\n",
       "      <td>2001-01-03</td>\n",
       "      <td>272.03</td>\n",
       "      <td>90861.75</td>\n",
       "      <td>NaN</td>\n",
       "      <td>NaN</td>\n",
       "      <td>NaN</td>\n",
       "      <td>NaN</td>\n",
       "      <td>0.000000</td>\n",
       "      <td>NaN</td>\n",
       "      <td>NaN</td>\n",
       "      <td>...</td>\n",
       "      <td>NaN</td>\n",
       "      <td>NaN</td>\n",
       "      <td>NaN</td>\n",
       "      <td>NaN</td>\n",
       "      <td>0</td>\n",
       "      <td>1</td>\n",
       "      <td>1</td>\n",
       "      <td>1</td>\n",
       "      <td>1</td>\n",
       "      <td>0</td>\n",
       "    </tr>\n",
       "    <tr>\n",
       "      <th>3</th>\n",
       "      <td>2001-01-04</td>\n",
       "      <td>278.75</td>\n",
       "      <td>329329.70</td>\n",
       "      <td>NaN</td>\n",
       "      <td>NaN</td>\n",
       "      <td>NaN</td>\n",
       "      <td>0.672000</td>\n",
       "      <td>0.536068</td>\n",
       "      <td>0.536068</td>\n",
       "      <td>NaN</td>\n",
       "      <td>...</td>\n",
       "      <td>NaN</td>\n",
       "      <td>NaN</td>\n",
       "      <td>NaN</td>\n",
       "      <td>NaN</td>\n",
       "      <td>0</td>\n",
       "      <td>1</td>\n",
       "      <td>1</td>\n",
       "      <td>1</td>\n",
       "      <td>1</td>\n",
       "      <td>-1</td>\n",
       "    </tr>\n",
       "    <tr>\n",
       "      <th>4</th>\n",
       "      <td>2001-01-05</td>\n",
       "      <td>286.76</td>\n",
       "      <td>344688.40</td>\n",
       "      <td>NaN</td>\n",
       "      <td>NaN</td>\n",
       "      <td>NaN</td>\n",
       "      <td>1.405800</td>\n",
       "      <td>1.588930</td>\n",
       "      <td>1.052862</td>\n",
       "      <td>NaN</td>\n",
       "      <td>...</td>\n",
       "      <td>NaN</td>\n",
       "      <td>NaN</td>\n",
       "      <td>NaN</td>\n",
       "      <td>NaN</td>\n",
       "      <td>0</td>\n",
       "      <td>1</td>\n",
       "      <td>1</td>\n",
       "      <td>1</td>\n",
       "      <td>1</td>\n",
       "      <td>-1</td>\n",
       "    </tr>\n",
       "    <tr>\n",
       "      <th>5</th>\n",
       "      <td>2001-01-08</td>\n",
       "      <td>295.84</td>\n",
       "      <td>934483.00</td>\n",
       "      <td>7.936667</td>\n",
       "      <td>NaN</td>\n",
       "      <td>NaN</td>\n",
       "      <td>2.173220</td>\n",
       "      <td>3.120045</td>\n",
       "      <td>1.531115</td>\n",
       "      <td>NaN</td>\n",
       "      <td>...</td>\n",
       "      <td>NaN</td>\n",
       "      <td>NaN</td>\n",
       "      <td>NaN</td>\n",
       "      <td>NaN</td>\n",
       "      <td>0</td>\n",
       "      <td>1</td>\n",
       "      <td>0</td>\n",
       "      <td>1</td>\n",
       "      <td>1</td>\n",
       "      <td>-1</td>\n",
       "    </tr>\n",
       "    <tr>\n",
       "      <th>6</th>\n",
       "      <td>2001-01-09</td>\n",
       "      <td>298.37</td>\n",
       "      <td>1361737.00</td>\n",
       "      <td>6.540000</td>\n",
       "      <td>NaN</td>\n",
       "      <td>NaN</td>\n",
       "      <td>2.208898</td>\n",
       "      <td>4.485904</td>\n",
       "      <td>1.365859</td>\n",
       "      <td>NaN</td>\n",
       "      <td>...</td>\n",
       "      <td>NaN</td>\n",
       "      <td>NaN</td>\n",
       "      <td>NaN</td>\n",
       "      <td>NaN</td>\n",
       "      <td>0</td>\n",
       "      <td>-1</td>\n",
       "      <td>1</td>\n",
       "      <td>1</td>\n",
       "      <td>1</td>\n",
       "      <td>-1</td>\n",
       "    </tr>\n",
       "    <tr>\n",
       "      <th>7</th>\n",
       "      <td>2001-01-10</td>\n",
       "      <td>293.65</td>\n",
       "      <td>684156.20</td>\n",
       "      <td>2.296667</td>\n",
       "      <td>4.324</td>\n",
       "      <td>NaN</td>\n",
       "      <td>1.516008</td>\n",
       "      <td>5.128375</td>\n",
       "      <td>0.642472</td>\n",
       "      <td>NaN</td>\n",
       "      <td>...</td>\n",
       "      <td>0.079477</td>\n",
       "      <td>NaN</td>\n",
       "      <td>NaN</td>\n",
       "      <td>NaN</td>\n",
       "      <td>0</td>\n",
       "      <td>0</td>\n",
       "      <td>1</td>\n",
       "      <td>1</td>\n",
       "      <td>1</td>\n",
       "      <td>1</td>\n",
       "    </tr>\n",
       "    <tr>\n",
       "      <th>8</th>\n",
       "      <td>2001-01-11</td>\n",
       "      <td>295.06</td>\n",
       "      <td>734011.40</td>\n",
       "      <td>-0.260000</td>\n",
       "      <td>3.262</td>\n",
       "      <td>NaN</td>\n",
       "      <td>1.505407</td>\n",
       "      <td>5.685772</td>\n",
       "      <td>0.557397</td>\n",
       "      <td>NaN</td>\n",
       "      <td>...</td>\n",
       "      <td>0.058511</td>\n",
       "      <td>NaN</td>\n",
       "      <td>NaN</td>\n",
       "      <td>NaN</td>\n",
       "      <td>0</td>\n",
       "      <td>1</td>\n",
       "      <td>1</td>\n",
       "      <td>1</td>\n",
       "      <td>1</td>\n",
       "      <td>0</td>\n",
       "    </tr>\n",
       "    <tr>\n",
       "      <th>9</th>\n",
       "      <td>2001-01-12</td>\n",
       "      <td>311.25</td>\n",
       "      <td>1536920.00</td>\n",
       "      <td>4.293333</td>\n",
       "      <td>4.898</td>\n",
       "      <td>NaN</td>\n",
       "      <td>2.973867</td>\n",
       "      <td>7.349193</td>\n",
       "      <td>1.663422</td>\n",
       "      <td>NaN</td>\n",
       "      <td>...</td>\n",
       "      <td>0.085402</td>\n",
       "      <td>NaN</td>\n",
       "      <td>NaN</td>\n",
       "      <td>NaN</td>\n",
       "      <td>0</td>\n",
       "      <td>1</td>\n",
       "      <td>1</td>\n",
       "      <td>1</td>\n",
       "      <td>1</td>\n",
       "      <td>-1</td>\n",
       "    </tr>\n",
       "    <tr>\n",
       "      <th>10</th>\n",
       "      <td>2001-01-15</td>\n",
       "      <td>317.51</td>\n",
       "      <td>1541838.00</td>\n",
       "      <td>7.953333</td>\n",
       "      <td>4.334</td>\n",
       "      <td>NaN</td>\n",
       "      <td>3.302480</td>\n",
       "      <td>9.068066</td>\n",
       "      <td>1.718872</td>\n",
       "      <td>NaN</td>\n",
       "      <td>...</td>\n",
       "      <td>0.073249</td>\n",
       "      <td>NaN</td>\n",
       "      <td>NaN</td>\n",
       "      <td>NaN</td>\n",
       "      <td>0</td>\n",
       "      <td>-1</td>\n",
       "      <td>-1</td>\n",
       "      <td>0</td>\n",
       "      <td>1</td>\n",
       "      <td>-1</td>\n",
       "    </tr>\n",
       "    <tr>\n",
       "      <th>11</th>\n",
       "      <td>2001-01-16</td>\n",
       "      <td>308.42</td>\n",
       "      <td>800220.10</td>\n",
       "      <td>4.453333</td>\n",
       "      <td>2.010</td>\n",
       "      <td>NaN</td>\n",
       "      <td>2.063232</td>\n",
       "      <td>9.586292</td>\n",
       "      <td>0.518227</td>\n",
       "      <td>NaN</td>\n",
       "      <td>...</td>\n",
       "      <td>0.033683</td>\n",
       "      <td>NaN</td>\n",
       "      <td>NaN</td>\n",
       "      <td>NaN</td>\n",
       "      <td>0</td>\n",
       "      <td>1</td>\n",
       "      <td>1</td>\n",
       "      <td>1</td>\n",
       "      <td>1</td>\n",
       "      <td>1</td>\n",
       "    </tr>\n",
       "  </tbody>\n",
       "</table>\n",
       "<p>10 rows × 22 columns</p>\n",
       "</div>"
      ],
      "text/plain": [
       "         Date   Close      Volume  MA_diff_3  MA_diff_5  MA_diff_14  EMA_diff  \\\n",
       "2  2001-01-03  272.03    90861.75        NaN        NaN         NaN       NaN   \n",
       "3  2001-01-04  278.75   329329.70        NaN        NaN         NaN  0.672000   \n",
       "4  2001-01-05  286.76   344688.40        NaN        NaN         NaN  1.405800   \n",
       "5  2001-01-08  295.84   934483.00   7.936667        NaN         NaN  2.173220   \n",
       "6  2001-01-09  298.37  1361737.00   6.540000        NaN         NaN  2.208898   \n",
       "7  2001-01-10  293.65   684156.20   2.296667      4.324         NaN  1.516008   \n",
       "8  2001-01-11  295.06   734011.40  -0.260000      3.262         NaN  1.505407   \n",
       "9  2001-01-12  311.25  1536920.00   4.293333      4.898         NaN  2.973867   \n",
       "10 2001-01-15  317.51  1541838.00   7.953333      4.334         NaN  3.302480   \n",
       "11 2001-01-16  308.42   800220.10   4.453333      2.010         NaN  2.063232   \n",
       "\n",
       "        MACD  MACD_diff  RSI  ...      MOM5  MOM14  CCI_20  STD_14  \\\n",
       "2   0.000000        NaN  NaN  ...       NaN    NaN     NaN     NaN   \n",
       "3   0.536068   0.536068  NaN  ...       NaN    NaN     NaN     NaN   \n",
       "4   1.588930   1.052862  NaN  ...       NaN    NaN     NaN     NaN   \n",
       "5   3.120045   1.531115  NaN  ...       NaN    NaN     NaN     NaN   \n",
       "6   4.485904   1.365859  NaN  ...       NaN    NaN     NaN     NaN   \n",
       "7   5.128375   0.642472  NaN  ...  0.079477    NaN     NaN     NaN   \n",
       "8   5.685772   0.557397  NaN  ...  0.058511    NaN     NaN     NaN   \n",
       "9   7.349193   1.663422  NaN  ...  0.085402    NaN     NaN     NaN   \n",
       "10  9.068066   1.718872  NaN  ...  0.073249    NaN     NaN     NaN   \n",
       "11  9.586292   0.518227  NaN  ...  0.033683    NaN     NaN     NaN   \n",
       "\n",
       "    Volume_Agent  Y_1  Y_3  Y_5  Y_14  Y_N_1  \n",
       "2              0    1    1    1     1      0  \n",
       "3              0    1    1    1     1     -1  \n",
       "4              0    1    1    1     1     -1  \n",
       "5              0    1    0    1     1     -1  \n",
       "6              0   -1    1    1     1     -1  \n",
       "7              0    0    1    1     1      1  \n",
       "8              0    1    1    1     1      0  \n",
       "9              0    1    1    1     1     -1  \n",
       "10             0   -1   -1    0     1     -1  \n",
       "11             0    1    1    1     1      1  \n",
       "\n",
       "[10 rows x 22 columns]"
      ]
     },
     "execution_count": 53,
     "metadata": {},
     "output_type": "execute_result"
    }
   ],
   "source": [
    "SET_IDX.head(10)"
   ]
  },
  {
   "cell_type": "code",
   "execution_count": 54,
   "metadata": {},
   "outputs": [],
   "source": [
    "# Separate data files into Training, Validating, Test1, Test2\n",
    "# Training covers the SET_IDX from 2008-2017, and we use data from 2009-2017 for training the model\n",
    "# Validating covers the SET_IDX during 2018, and we use data to adjust hyperparameters\n",
    "# Testing1 covers SET_IDX during 2019, and we use this to report our test result\n",
    "# Testing2 covers SET_IDX during 2020, and we use this to do something more interesting such as track before and after Covid19\n",
    "\n",
    "# DataShapes for Training, Validating, Testing_a and Testing_b are 2441 rows, 245 rows, 243 rows and 243 rows respectively.\n",
    "# Caveat: We may not use all data from testing_b because at the end of the year, it uses future data not seen in dataset\n",
    "Training_df = SET_IDX[(SET_IDX['Date'] > '2008-01-01') & (SET_IDX['Date'] < '2018-01-01')]\n",
    "Validating_df = SET_IDX[(SET_IDX['Date'] > '2018-01-01') & (SET_IDX['Date'] < '2019-01-01')]\n",
    "Testing_a_df = SET_IDX[(SET_IDX['Date'] > '2019-01-01') & (SET_IDX['Date'] < '2020-01-01')]\n",
    "Testing_b_df = SET_IDX[(SET_IDX['Date'] > '2020-01-01') & (SET_IDX['Date'] < '2021-01-01')]"
   ]
  },
  {
   "cell_type": "code",
   "execution_count": 55,
   "metadata": {},
   "outputs": [],
   "source": [
    "Training_df.to_csv('SET_Train.csv', index = False)\n",
    "Validating_df.to_csv('SET_Validate.csv', index = False)\n",
    "Testing_a_df.to_csv('SET_Test_a.csv', index = False)\n",
    "Testing_b_df.to_csv('SET_Test_b.csv', index = False)"
   ]
  },
  {
   "cell_type": "markdown",
   "metadata": {},
   "source": [
    "### That is the end of part 1. What we have initially is the raw SET index and SET volume traded data files retrieved from the datastream. Now, we just get the training, validating, and testing data ready to be used in model building"
   ]
  },
  {
   "cell_type": "code",
   "execution_count": null,
   "metadata": {},
   "outputs": [],
   "source": []
  }
 ],
 "metadata": {
  "kernelspec": {
   "display_name": "Python 3",
   "language": "python",
   "name": "python3"
  },
  "language_info": {
   "codemirror_mode": {
    "name": "ipython",
    "version": 3
   },
   "file_extension": ".py",
   "mimetype": "text/x-python",
   "name": "python",
   "nbconvert_exporter": "python",
   "pygments_lexer": "ipython3",
   "version": "3.7.6"
  }
 },
 "nbformat": 4,
 "nbformat_minor": 4
}
