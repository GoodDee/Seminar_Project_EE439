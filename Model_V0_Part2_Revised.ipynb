{
 "cells": [
  {
   "cell_type": "markdown",
   "metadata": {},
   "source": [
    "## PART 2: Modeling\n",
    "In this notebook, I will walkthrough the process of modelling after we got the data from part 1. I hope that we would see some useful results at the end of this notebook."
   ]
  },
  {
   "cell_type": "code",
   "execution_count": 1,
   "metadata": {},
   "outputs": [],
   "source": [
    "import pandas as pd\n",
    "import numpy as np\n",
    "\n",
    "## Many scikit-learn packages to import\n",
    "from sklearn.dummy import DummyClassifier\n",
    "from sklearn.linear_model import LogisticRegression\n",
    "from sklearn.tree import DecisionTreeClassifier\n",
    "from sklearn.ensemble import RandomForestClassifier"
   ]
  },
  {
   "cell_type": "code",
   "execution_count": 2,
   "metadata": {},
   "outputs": [
    {
     "data": {
      "text/html": [
       "<div>\n",
       "<style scoped>\n",
       "    .dataframe tbody tr th:only-of-type {\n",
       "        vertical-align: middle;\n",
       "    }\n",
       "\n",
       "    .dataframe tbody tr th {\n",
       "        vertical-align: top;\n",
       "    }\n",
       "\n",
       "    .dataframe thead th {\n",
       "        text-align: right;\n",
       "    }\n",
       "</style>\n",
       "<table border=\"1\" class=\"dataframe\">\n",
       "  <thead>\n",
       "    <tr style=\"text-align: right;\">\n",
       "      <th></th>\n",
       "      <th>Date</th>\n",
       "      <th>Close</th>\n",
       "      <th>Volume</th>\n",
       "      <th>MA_diff_3</th>\n",
       "      <th>MA_diff_5</th>\n",
       "      <th>MA_diff_10</th>\n",
       "      <th>MA_diff_14</th>\n",
       "      <th>MA_diff_20</th>\n",
       "      <th>EMA_diff</th>\n",
       "      <th>MACD</th>\n",
       "      <th>...</th>\n",
       "      <th>STD_14</th>\n",
       "      <th>STD_20</th>\n",
       "      <th>Volume_Agent</th>\n",
       "      <th>Y_1</th>\n",
       "      <th>Y_3</th>\n",
       "      <th>Y_5</th>\n",
       "      <th>Y_10</th>\n",
       "      <th>Y_14</th>\n",
       "      <th>Y_20</th>\n",
       "      <th>Y_N_1</th>\n",
       "    </tr>\n",
       "  </thead>\n",
       "  <tbody>\n",
       "    <tr>\n",
       "      <th>0</th>\n",
       "      <td>2008-01-02</td>\n",
       "      <td>842.97</td>\n",
       "      <td>1686634.0</td>\n",
       "      <td>0.590000</td>\n",
       "      <td>5.874</td>\n",
       "      <td>0.657</td>\n",
       "      <td>0.112857</td>\n",
       "      <td>1.1225</td>\n",
       "      <td>0.846747</td>\n",
       "      <td>-0.843428</td>\n",
       "      <td>...</td>\n",
       "      <td>19.004899</td>\n",
       "      <td>16.768455</td>\n",
       "      <td>1</td>\n",
       "      <td>-1</td>\n",
       "      <td>-1</td>\n",
       "      <td>-1</td>\n",
       "      <td>-1</td>\n",
       "      <td>-1</td>\n",
       "      <td>-1</td>\n",
       "      <td>1</td>\n",
       "    </tr>\n",
       "    <tr>\n",
       "      <th>1</th>\n",
       "      <td>2008-01-03</td>\n",
       "      <td>832.63</td>\n",
       "      <td>2203218.0</td>\n",
       "      <td>-6.476667</td>\n",
       "      <td>-2.130</td>\n",
       "      <td>1.501</td>\n",
       "      <td>-0.558571</td>\n",
       "      <td>-0.6085</td>\n",
       "      <td>-0.271927</td>\n",
       "      <td>-1.046243</td>\n",
       "      <td>...</td>\n",
       "      <td>18.795705</td>\n",
       "      <td>16.548025</td>\n",
       "      <td>1</td>\n",
       "      <td>-1</td>\n",
       "      <td>-1</td>\n",
       "      <td>-1</td>\n",
       "      <td>-1</td>\n",
       "      <td>-1</td>\n",
       "      <td>-1</td>\n",
       "      <td>1</td>\n",
       "    </tr>\n",
       "    <tr>\n",
       "      <th>2</th>\n",
       "      <td>2008-01-04</td>\n",
       "      <td>821.71</td>\n",
       "      <td>2244205.0</td>\n",
       "      <td>-12.130000</td>\n",
       "      <td>-3.898</td>\n",
       "      <td>0.781</td>\n",
       "      <td>-0.884286</td>\n",
       "      <td>-1.2365</td>\n",
       "      <td>-1.336735</td>\n",
       "      <td>-2.064332</td>\n",
       "      <td>...</td>\n",
       "      <td>18.863764</td>\n",
       "      <td>16.388750</td>\n",
       "      <td>1</td>\n",
       "      <td>-1</td>\n",
       "      <td>0</td>\n",
       "      <td>-1</td>\n",
       "      <td>-1</td>\n",
       "      <td>-1</td>\n",
       "      <td>-1</td>\n",
       "      <td>1</td>\n",
       "    </tr>\n",
       "    <tr>\n",
       "      <th>3</th>\n",
       "      <td>2008-01-07</td>\n",
       "      <td>808.31</td>\n",
       "      <td>1749336.0</td>\n",
       "      <td>-11.553333</td>\n",
       "      <td>-8.750</td>\n",
       "      <td>0.333</td>\n",
       "      <td>-1.770000</td>\n",
       "      <td>-1.1405</td>\n",
       "      <td>-2.543061</td>\n",
       "      <td>-3.907400</td>\n",
       "      <td>...</td>\n",
       "      <td>19.579607</td>\n",
       "      <td>17.186561</td>\n",
       "      <td>1</td>\n",
       "      <td>0</td>\n",
       "      <td>-1</td>\n",
       "      <td>-1</td>\n",
       "      <td>-1</td>\n",
       "      <td>-1</td>\n",
       "      <td>0</td>\n",
       "      <td>1</td>\n",
       "    </tr>\n",
       "    <tr>\n",
       "      <th>4</th>\n",
       "      <td>2008-01-08</td>\n",
       "      <td>811.69</td>\n",
       "      <td>1746730.0</td>\n",
       "      <td>-6.980000</td>\n",
       "      <td>-9.282</td>\n",
       "      <td>1.998</td>\n",
       "      <td>-1.765000</td>\n",
       "      <td>-1.0825</td>\n",
       "      <td>-1.950755</td>\n",
       "      <td>-5.037241</td>\n",
       "      <td>...</td>\n",
       "      <td>19.783006</td>\n",
       "      <td>17.660359</td>\n",
       "      <td>0</td>\n",
       "      <td>1</td>\n",
       "      <td>-1</td>\n",
       "      <td>-1</td>\n",
       "      <td>-1</td>\n",
       "      <td>-1</td>\n",
       "      <td>0</td>\n",
       "      <td>0</td>\n",
       "    </tr>\n",
       "  </tbody>\n",
       "</table>\n",
       "<p>5 rows × 36 columns</p>\n",
       "</div>"
      ],
      "text/plain": [
       "         Date   Close     Volume  MA_diff_3  MA_diff_5  MA_diff_10  \\\n",
       "0  2008-01-02  842.97  1686634.0   0.590000      5.874       0.657   \n",
       "1  2008-01-03  832.63  2203218.0  -6.476667     -2.130       1.501   \n",
       "2  2008-01-04  821.71  2244205.0 -12.130000     -3.898       0.781   \n",
       "3  2008-01-07  808.31  1749336.0 -11.553333     -8.750       0.333   \n",
       "4  2008-01-08  811.69  1746730.0  -6.980000     -9.282       1.998   \n",
       "\n",
       "   MA_diff_14  MA_diff_20  EMA_diff      MACD  ...     STD_14     STD_20  \\\n",
       "0    0.112857      1.1225  0.846747 -0.843428  ...  19.004899  16.768455   \n",
       "1   -0.558571     -0.6085 -0.271927 -1.046243  ...  18.795705  16.548025   \n",
       "2   -0.884286     -1.2365 -1.336735 -2.064332  ...  18.863764  16.388750   \n",
       "3   -1.770000     -1.1405 -2.543061 -3.907400  ...  19.579607  17.186561   \n",
       "4   -1.765000     -1.0825 -1.950755 -5.037241  ...  19.783006  17.660359   \n",
       "\n",
       "   Volume_Agent  Y_1  Y_3  Y_5  Y_10  Y_14  Y_20  Y_N_1  \n",
       "0             1   -1   -1   -1    -1    -1    -1      1  \n",
       "1             1   -1   -1   -1    -1    -1    -1      1  \n",
       "2             1   -1    0   -1    -1    -1    -1      1  \n",
       "3             1    0   -1   -1    -1    -1     0      1  \n",
       "4             0    1   -1   -1    -1    -1     0      0  \n",
       "\n",
       "[5 rows x 36 columns]"
      ]
     },
     "execution_count": 2,
     "metadata": {},
     "output_type": "execute_result"
    }
   ],
   "source": [
    "## First, we read the dataframe that we got from the last part (part 1)\n",
    "## Remember the rule of ML: analyze only training set (do not touch validating or testing set if not specified so)\n",
    "Train_df = pd.read_csv('SET_Train.csv')\n",
    "Validate_df = pd.read_csv('SET_Validate.csv')\n",
    "Test_a_df = pd.read_csv('SET_Test_a.csv')\n",
    "Test_b_df = pd.read_csv('SET_Test_b.csv')\n",
    "Train_df.head()"
   ]
  },
  {
   "cell_type": "code",
   "execution_count": 3,
   "metadata": {},
   "outputs": [
    {
     "data": {
      "text/plain": [
       " 0    1117\n",
       " 1     720\n",
       "-1     604\n",
       "Name: Y_1, dtype: int64"
      ]
     },
     "execution_count": 3,
     "metadata": {},
     "output_type": "execute_result"
    }
   ],
   "source": [
    "Train_df['Y_1'].value_counts()"
   ]
  },
  {
   "cell_type": "code",
   "execution_count": 4,
   "metadata": {},
   "outputs": [
    {
     "data": {
      "text/plain": [
       " 1    1047\n",
       "-1     765\n",
       " 0     629\n",
       "Name: Y_3, dtype: int64"
      ]
     },
     "execution_count": 4,
     "metadata": {},
     "output_type": "execute_result"
    }
   ],
   "source": [
    "Train_df['Y_3'].value_counts()"
   ]
  },
  {
   "cell_type": "code",
   "execution_count": 5,
   "metadata": {},
   "outputs": [
    {
     "data": {
      "text/plain": [
       " 1    1154\n",
       "-1     830\n",
       " 0     457\n",
       "Name: Y_5, dtype: int64"
      ]
     },
     "execution_count": 5,
     "metadata": {},
     "output_type": "execute_result"
    }
   ],
   "source": [
    "Train_df['Y_5'].value_counts()"
   ]
  },
  {
   "cell_type": "code",
   "execution_count": 6,
   "metadata": {},
   "outputs": [
    {
     "data": {
      "text/plain": [
       " 1    1293\n",
       "-1     846\n",
       " 0     302\n",
       "Name: Y_10, dtype: int64"
      ]
     },
     "execution_count": 6,
     "metadata": {},
     "output_type": "execute_result"
    }
   ],
   "source": [
    "Train_df['Y_10'].value_counts()"
   ]
  },
  {
   "cell_type": "code",
   "execution_count": 7,
   "metadata": {},
   "outputs": [
    {
     "data": {
      "text/plain": [
       " 1    1337\n",
       "-1     851\n",
       " 0     253\n",
       "Name: Y_14, dtype: int64"
      ]
     },
     "execution_count": 7,
     "metadata": {},
     "output_type": "execute_result"
    }
   ],
   "source": [
    "Train_df['Y_14'].value_counts()"
   ]
  },
  {
   "cell_type": "code",
   "execution_count": 8,
   "metadata": {},
   "outputs": [
    {
     "data": {
      "text/plain": [
       " 1    1402\n",
       "-1     831\n",
       " 0     208\n",
       "Name: Y_20, dtype: int64"
      ]
     },
     "execution_count": 8,
     "metadata": {},
     "output_type": "execute_result"
    }
   ],
   "source": [
    "Train_df['Y_20'].value_counts()"
   ]
  },
  {
   "cell_type": "code",
   "execution_count": 9,
   "metadata": {},
   "outputs": [
    {
     "data": {
      "text/html": [
       "<div>\n",
       "<style scoped>\n",
       "    .dataframe tbody tr th:only-of-type {\n",
       "        vertical-align: middle;\n",
       "    }\n",
       "\n",
       "    .dataframe tbody tr th {\n",
       "        vertical-align: top;\n",
       "    }\n",
       "\n",
       "    .dataframe thead th {\n",
       "        text-align: right;\n",
       "    }\n",
       "</style>\n",
       "<table border=\"1\" class=\"dataframe\">\n",
       "  <thead>\n",
       "    <tr style=\"text-align: right;\">\n",
       "      <th>Y_10</th>\n",
       "      <th>-1</th>\n",
       "      <th>0</th>\n",
       "      <th>1</th>\n",
       "    </tr>\n",
       "    <tr>\n",
       "      <th>Y_1</th>\n",
       "      <th></th>\n",
       "      <th></th>\n",
       "      <th></th>\n",
       "    </tr>\n",
       "  </thead>\n",
       "  <tbody>\n",
       "    <tr>\n",
       "      <th>-1</th>\n",
       "      <td>319</td>\n",
       "      <td>68</td>\n",
       "      <td>217</td>\n",
       "    </tr>\n",
       "    <tr>\n",
       "      <th>0</th>\n",
       "      <td>368</td>\n",
       "      <td>168</td>\n",
       "      <td>581</td>\n",
       "    </tr>\n",
       "    <tr>\n",
       "      <th>1</th>\n",
       "      <td>159</td>\n",
       "      <td>66</td>\n",
       "      <td>495</td>\n",
       "    </tr>\n",
       "  </tbody>\n",
       "</table>\n",
       "</div>"
      ],
      "text/plain": [
       "Y_10   -1    0    1\n",
       "Y_1                \n",
       "-1    319   68  217\n",
       " 0    368  168  581\n",
       " 1    159   66  495"
      ]
     },
     "execution_count": 9,
     "metadata": {},
     "output_type": "execute_result"
    }
   ],
   "source": [
    "pd.crosstab(Train_df['Y_1'], Train_df['Y_10']) # 40% in the diagonal"
   ]
  },
  {
   "cell_type": "code",
   "execution_count": 10,
   "metadata": {},
   "outputs": [
    {
     "data": {
      "text/html": [
       "<div>\n",
       "<style scoped>\n",
       "    .dataframe tbody tr th:only-of-type {\n",
       "        vertical-align: middle;\n",
       "    }\n",
       "\n",
       "    .dataframe tbody tr th {\n",
       "        vertical-align: top;\n",
       "    }\n",
       "\n",
       "    .dataframe thead th {\n",
       "        text-align: right;\n",
       "    }\n",
       "</style>\n",
       "<table border=\"1\" class=\"dataframe\">\n",
       "  <thead>\n",
       "    <tr style=\"text-align: right;\">\n",
       "      <th>Y_14</th>\n",
       "      <th>-1</th>\n",
       "      <th>0</th>\n",
       "      <th>1</th>\n",
       "    </tr>\n",
       "    <tr>\n",
       "      <th>Y_3</th>\n",
       "      <th></th>\n",
       "      <th></th>\n",
       "      <th></th>\n",
       "    </tr>\n",
       "  </thead>\n",
       "  <tbody>\n",
       "    <tr>\n",
       "      <th>-1</th>\n",
       "      <td>455</td>\n",
       "      <td>80</td>\n",
       "      <td>230</td>\n",
       "    </tr>\n",
       "    <tr>\n",
       "      <th>0</th>\n",
       "      <td>203</td>\n",
       "      <td>87</td>\n",
       "      <td>339</td>\n",
       "    </tr>\n",
       "    <tr>\n",
       "      <th>1</th>\n",
       "      <td>193</td>\n",
       "      <td>86</td>\n",
       "      <td>768</td>\n",
       "    </tr>\n",
       "  </tbody>\n",
       "</table>\n",
       "</div>"
      ],
      "text/plain": [
       "Y_14   -1   0    1\n",
       "Y_3               \n",
       "-1    455  80  230\n",
       " 0    203  87  339\n",
       " 1    193  86  768"
      ]
     },
     "execution_count": 10,
     "metadata": {},
     "output_type": "execute_result"
    }
   ],
   "source": [
    "pd.crosstab(Train_df['Y_3'], Train_df['Y_14']) # 53% in the diagonal"
   ]
  },
  {
   "cell_type": "code",
   "execution_count": 11,
   "metadata": {},
   "outputs": [
    {
     "data": {
      "text/html": [
       "<div>\n",
       "<style scoped>\n",
       "    .dataframe tbody tr th:only-of-type {\n",
       "        vertical-align: middle;\n",
       "    }\n",
       "\n",
       "    .dataframe tbody tr th {\n",
       "        vertical-align: top;\n",
       "    }\n",
       "\n",
       "    .dataframe thead th {\n",
       "        text-align: right;\n",
       "    }\n",
       "</style>\n",
       "<table border=\"1\" class=\"dataframe\">\n",
       "  <thead>\n",
       "    <tr style=\"text-align: right;\">\n",
       "      <th>Y_20</th>\n",
       "      <th>-1</th>\n",
       "      <th>0</th>\n",
       "      <th>1</th>\n",
       "    </tr>\n",
       "    <tr>\n",
       "      <th>Y_5</th>\n",
       "      <th></th>\n",
       "      <th></th>\n",
       "      <th></th>\n",
       "    </tr>\n",
       "  </thead>\n",
       "  <tbody>\n",
       "    <tr>\n",
       "      <th>-1</th>\n",
       "      <td>483</td>\n",
       "      <td>59</td>\n",
       "      <td>288</td>\n",
       "    </tr>\n",
       "    <tr>\n",
       "      <th>0</th>\n",
       "      <td>152</td>\n",
       "      <td>74</td>\n",
       "      <td>231</td>\n",
       "    </tr>\n",
       "    <tr>\n",
       "      <th>1</th>\n",
       "      <td>196</td>\n",
       "      <td>75</td>\n",
       "      <td>883</td>\n",
       "    </tr>\n",
       "  </tbody>\n",
       "</table>\n",
       "</div>"
      ],
      "text/plain": [
       "Y_20   -1   0    1\n",
       "Y_5               \n",
       "-1    483  59  288\n",
       " 0    152  74  231\n",
       " 1    196  75  883"
      ]
     },
     "execution_count": 11,
     "metadata": {},
     "output_type": "execute_result"
    }
   ],
   "source": [
    "pd.crosstab(Train_df['Y_5'], Train_df['Y_20']) # 59% in the diagonal"
   ]
  },
  {
   "cell_type": "markdown",
   "metadata": {},
   "source": [
    "### Observations\n",
    "- For one-day ahead forecast, the most frequent class is \"sideway\" while \"up\" and \"down\" classes are roughly similar.  \n",
    "- For three-day, five-day and 14-day ahead forecast and beyond, \"sideway\" became the least popular class while \"up\" is the most popular class among the three.\n",
    "- Looking at cross-tab, different-period forecast followed the same prediction around 50% of the time"
   ]
  },
  {
   "cell_type": "code",
   "execution_count": 23,
   "metadata": {},
   "outputs": [
    {
     "data": {
      "text/html": [
       "<div>\n",
       "<style scoped>\n",
       "    .dataframe tbody tr th:only-of-type {\n",
       "        vertical-align: middle;\n",
       "    }\n",
       "\n",
       "    .dataframe tbody tr th {\n",
       "        vertical-align: top;\n",
       "    }\n",
       "\n",
       "    .dataframe thead th {\n",
       "        text-align: right;\n",
       "    }\n",
       "</style>\n",
       "<table border=\"1\" class=\"dataframe\">\n",
       "  <thead>\n",
       "    <tr style=\"text-align: right;\">\n",
       "      <th></th>\n",
       "      <th>Close</th>\n",
       "      <th>Volume</th>\n",
       "      <th>MA_diff_3</th>\n",
       "      <th>MA_diff_5</th>\n",
       "      <th>MA_diff_10</th>\n",
       "      <th>MA_diff_14</th>\n",
       "      <th>MA_diff_20</th>\n",
       "      <th>EMA_diff</th>\n",
       "      <th>MACD</th>\n",
       "      <th>MACD_diff</th>\n",
       "      <th>...</th>\n",
       "      <th>CCI_10</th>\n",
       "      <th>CCI_14</th>\n",
       "      <th>CCI_20</th>\n",
       "      <th>STD_3</th>\n",
       "      <th>STD_5</th>\n",
       "      <th>STD_10</th>\n",
       "      <th>STD_14</th>\n",
       "      <th>STD_20</th>\n",
       "      <th>Volume_Agent</th>\n",
       "      <th>Y_N_1</th>\n",
       "    </tr>\n",
       "  </thead>\n",
       "  <tbody>\n",
       "    <tr>\n",
       "      <th>count</th>\n",
       "      <td>2441.000000</td>\n",
       "      <td>2.441000e+03</td>\n",
       "      <td>2441.000000</td>\n",
       "      <td>2441.000000</td>\n",
       "      <td>2441.000000</td>\n",
       "      <td>2441.000000</td>\n",
       "      <td>2441.000000</td>\n",
       "      <td>2441.000000</td>\n",
       "      <td>2441.000000</td>\n",
       "      <td>2441.000000</td>\n",
       "      <td>...</td>\n",
       "      <td>2441.000000</td>\n",
       "      <td>2441.000000</td>\n",
       "      <td>2441.000000</td>\n",
       "      <td>2441.000000</td>\n",
       "      <td>2441.000000</td>\n",
       "      <td>2441.000000</td>\n",
       "      <td>2441.000000</td>\n",
       "      <td>2441.000000</td>\n",
       "      <td>2441.000000</td>\n",
       "      <td>2441.000000</td>\n",
       "    </tr>\n",
       "    <tr>\n",
       "      <th>mean</th>\n",
       "      <td>1178.293695</td>\n",
       "      <td>7.406376e+06</td>\n",
       "      <td>0.368501</td>\n",
       "      <td>0.372335</td>\n",
       "      <td>0.374966</td>\n",
       "      <td>0.370038</td>\n",
       "      <td>0.365080</td>\n",
       "      <td>0.367274</td>\n",
       "      <td>2.516408</td>\n",
       "      <td>0.006069</td>\n",
       "      <td>...</td>\n",
       "      <td>14.350821</td>\n",
       "      <td>16.589049</td>\n",
       "      <td>18.845889</td>\n",
       "      <td>7.976560</td>\n",
       "      <td>10.362944</td>\n",
       "      <td>14.606987</td>\n",
       "      <td>17.237003</td>\n",
       "      <td>20.663256</td>\n",
       "      <td>0.463335</td>\n",
       "      <td>-0.045063</td>\n",
       "    </tr>\n",
       "    <tr>\n",
       "      <th>std</th>\n",
       "      <td>362.904923</td>\n",
       "      <td>5.205370e+06</td>\n",
       "      <td>7.243376</td>\n",
       "      <td>5.611197</td>\n",
       "      <td>3.889900</td>\n",
       "      <td>3.305590</td>\n",
       "      <td>2.799292</td>\n",
       "      <td>2.867838</td>\n",
       "      <td>14.407065</td>\n",
       "      <td>1.585529</td>\n",
       "      <td>...</td>\n",
       "      <td>79.799658</td>\n",
       "      <td>83.666191</td>\n",
       "      <td>86.737375</td>\n",
       "      <td>6.050765</td>\n",
       "      <td>6.864183</td>\n",
       "      <td>8.559796</td>\n",
       "      <td>9.550124</td>\n",
       "      <td>10.795102</td>\n",
       "      <td>0.498756</td>\n",
       "      <td>0.735249</td>\n",
       "    </tr>\n",
       "    <tr>\n",
       "      <th>min</th>\n",
       "      <td>384.150000</td>\n",
       "      <td>9.056574e+05</td>\n",
       "      <td>-41.843333</td>\n",
       "      <td>-27.618000</td>\n",
       "      <td>-18.487000</td>\n",
       "      <td>-14.585000</td>\n",
       "      <td>-11.747000</td>\n",
       "      <td>-13.808023</td>\n",
       "      <td>-53.049231</td>\n",
       "      <td>-7.719244</td>\n",
       "      <td>...</td>\n",
       "      <td>-178.925342</td>\n",
       "      <td>-200.918770</td>\n",
       "      <td>-238.933328</td>\n",
       "      <td>0.090000</td>\n",
       "      <td>0.826819</td>\n",
       "      <td>2.191589</td>\n",
       "      <td>2.476709</td>\n",
       "      <td>3.225144</td>\n",
       "      <td>0.000000</td>\n",
       "      <td>-1.000000</td>\n",
       "    </tr>\n",
       "    <tr>\n",
       "      <th>25%</th>\n",
       "      <td>845.830000</td>\n",
       "      <td>3.665487e+06</td>\n",
       "      <td>-3.313333</td>\n",
       "      <td>-2.506000</td>\n",
       "      <td>-1.796000</td>\n",
       "      <td>-1.393571</td>\n",
       "      <td>-1.178500</td>\n",
       "      <td>-1.170292</td>\n",
       "      <td>-5.620914</td>\n",
       "      <td>-0.810094</td>\n",
       "      <td>...</td>\n",
       "      <td>-50.163099</td>\n",
       "      <td>-50.848720</td>\n",
       "      <td>-52.379445</td>\n",
       "      <td>3.937795</td>\n",
       "      <td>5.911622</td>\n",
       "      <td>8.768859</td>\n",
       "      <td>10.601046</td>\n",
       "      <td>13.430422</td>\n",
       "      <td>0.000000</td>\n",
       "      <td>-1.000000</td>\n",
       "    </tr>\n",
       "    <tr>\n",
       "      <th>50%</th>\n",
       "      <td>1289.070000</td>\n",
       "      <td>6.316200e+06</td>\n",
       "      <td>1.010000</td>\n",
       "      <td>0.884000</td>\n",
       "      <td>0.813000</td>\n",
       "      <td>0.810714</td>\n",
       "      <td>0.721500</td>\n",
       "      <td>0.792966</td>\n",
       "      <td>4.267453</td>\n",
       "      <td>0.124999</td>\n",
       "      <td>...</td>\n",
       "      <td>26.615490</td>\n",
       "      <td>31.863177</td>\n",
       "      <td>34.632393</td>\n",
       "      <td>6.648301</td>\n",
       "      <td>8.690091</td>\n",
       "      <td>12.464816</td>\n",
       "      <td>15.033639</td>\n",
       "      <td>18.629973</td>\n",
       "      <td>0.000000</td>\n",
       "      <td>0.000000</td>\n",
       "    </tr>\n",
       "    <tr>\n",
       "      <th>75%</th>\n",
       "      <td>1497.980000</td>\n",
       "      <td>9.743239e+06</td>\n",
       "      <td>4.763333</td>\n",
       "      <td>3.946000</td>\n",
       "      <td>2.868000</td>\n",
       "      <td>2.652143</td>\n",
       "      <td>2.352500</td>\n",
       "      <td>2.315792</td>\n",
       "      <td>12.987342</td>\n",
       "      <td>0.877887</td>\n",
       "      <td>...</td>\n",
       "      <td>83.083804</td>\n",
       "      <td>87.948493</td>\n",
       "      <td>90.336189</td>\n",
       "      <td>10.092078</td>\n",
       "      <td>12.503994</td>\n",
       "      <td>18.074873</td>\n",
       "      <td>21.068076</td>\n",
       "      <td>25.566598</td>\n",
       "      <td>1.000000</td>\n",
       "      <td>0.000000</td>\n",
       "    </tr>\n",
       "    <tr>\n",
       "      <th>max</th>\n",
       "      <td>1753.710000</td>\n",
       "      <td>5.294146e+07</td>\n",
       "      <td>27.453333</td>\n",
       "      <td>21.594000</td>\n",
       "      <td>17.557000</td>\n",
       "      <td>13.911429</td>\n",
       "      <td>8.057000</td>\n",
       "      <td>10.147395</td>\n",
       "      <td>30.595982</td>\n",
       "      <td>6.960438</td>\n",
       "      <td>...</td>\n",
       "      <td>174.382674</td>\n",
       "      <td>207.239309</td>\n",
       "      <td>241.354532</td>\n",
       "      <td>50.284455</td>\n",
       "      <td>53.863507</td>\n",
       "      <td>58.286524</td>\n",
       "      <td>67.345369</td>\n",
       "      <td>73.995076</td>\n",
       "      <td>1.000000</td>\n",
       "      <td>1.000000</td>\n",
       "    </tr>\n",
       "  </tbody>\n",
       "</table>\n",
       "<p>8 rows × 29 columns</p>\n",
       "</div>"
      ],
      "text/plain": [
       "             Close        Volume    MA_diff_3    MA_diff_5   MA_diff_10  \\\n",
       "count  2441.000000  2.441000e+03  2441.000000  2441.000000  2441.000000   \n",
       "mean   1178.293695  7.406376e+06     0.368501     0.372335     0.374966   \n",
       "std     362.904923  5.205370e+06     7.243376     5.611197     3.889900   \n",
       "min     384.150000  9.056574e+05   -41.843333   -27.618000   -18.487000   \n",
       "25%     845.830000  3.665487e+06    -3.313333    -2.506000    -1.796000   \n",
       "50%    1289.070000  6.316200e+06     1.010000     0.884000     0.813000   \n",
       "75%    1497.980000  9.743239e+06     4.763333     3.946000     2.868000   \n",
       "max    1753.710000  5.294146e+07    27.453333    21.594000    17.557000   \n",
       "\n",
       "        MA_diff_14   MA_diff_20     EMA_diff         MACD    MACD_diff  ...  \\\n",
       "count  2441.000000  2441.000000  2441.000000  2441.000000  2441.000000  ...   \n",
       "mean      0.370038     0.365080     0.367274     2.516408     0.006069  ...   \n",
       "std       3.305590     2.799292     2.867838    14.407065     1.585529  ...   \n",
       "min     -14.585000   -11.747000   -13.808023   -53.049231    -7.719244  ...   \n",
       "25%      -1.393571    -1.178500    -1.170292    -5.620914    -0.810094  ...   \n",
       "50%       0.810714     0.721500     0.792966     4.267453     0.124999  ...   \n",
       "75%       2.652143     2.352500     2.315792    12.987342     0.877887  ...   \n",
       "max      13.911429     8.057000    10.147395    30.595982     6.960438  ...   \n",
       "\n",
       "            CCI_10       CCI_14       CCI_20        STD_3        STD_5  \\\n",
       "count  2441.000000  2441.000000  2441.000000  2441.000000  2441.000000   \n",
       "mean     14.350821    16.589049    18.845889     7.976560    10.362944   \n",
       "std      79.799658    83.666191    86.737375     6.050765     6.864183   \n",
       "min    -178.925342  -200.918770  -238.933328     0.090000     0.826819   \n",
       "25%     -50.163099   -50.848720   -52.379445     3.937795     5.911622   \n",
       "50%      26.615490    31.863177    34.632393     6.648301     8.690091   \n",
       "75%      83.083804    87.948493    90.336189    10.092078    12.503994   \n",
       "max     174.382674   207.239309   241.354532    50.284455    53.863507   \n",
       "\n",
       "            STD_10       STD_14       STD_20  Volume_Agent        Y_N_1  \n",
       "count  2441.000000  2441.000000  2441.000000   2441.000000  2441.000000  \n",
       "mean     14.606987    17.237003    20.663256      0.463335    -0.045063  \n",
       "std       8.559796     9.550124    10.795102      0.498756     0.735249  \n",
       "min       2.191589     2.476709     3.225144      0.000000    -1.000000  \n",
       "25%       8.768859    10.601046    13.430422      0.000000    -1.000000  \n",
       "50%      12.464816    15.033639    18.629973      0.000000     0.000000  \n",
       "75%      18.074873    21.068076    25.566598      1.000000     0.000000  \n",
       "max      58.286524    67.345369    73.995076      1.000000     1.000000  \n",
       "\n",
       "[8 rows x 29 columns]"
      ]
     },
     "execution_count": 23,
     "metadata": {},
     "output_type": "execute_result"
    }
   ],
   "source": [
    "Train_df.describe()"
   ]
  },
  {
   "cell_type": "markdown",
   "metadata": {},
   "source": [
    "### Observations\n",
    "(For MA and EMA, most of values are very close to each other: as expected)  \n",
    "- For \"RSI\", the average value is 55, with min = 1.2, max = 99. (as expected because overtime degree of overbought and oversold should be cancelled out)   \n",
    "- For \"MACD\", the average value is 2.5 and median is 4.3, indicating left-skewed distribution of MACD. (Tail chance that the short-trend goes way below long-trend)  \n",
    "- For MOM1 - MOM14, the mean is very close to zero, indicating if you blindly trade stock every day, the average return that you should get is zero.  \n",
    "- For CCI_20, the average value is 18.8 while the median is 34, also indicating left-skewed distribution of CCI. (Tail chance that the index goes way below the trend in more than 2SD)  \n"
   ]
  },
  {
   "cell_type": "code",
   "execution_count": 3,
   "metadata": {},
   "outputs": [],
   "source": [
    "Train_y_1 = Train_df['Y_1']\n",
    "Train_y_3 = Train_df['Y_3']\n",
    "Train_y_5 = Train_df['Y_5']\n",
    "Train_y_10 = Train_df['Y_10']\n",
    "Train_y_14 = Train_df['Y_14']\n",
    "Train_y_20 = Train_df['Y_20']\n",
    "\n",
    "Test_y_1 = Validate_df['Y_1']\n",
    "Test_y_3 = Validate_df['Y_3']\n",
    "Test_y_5 = Validate_df['Y_5']\n",
    "Test_y_10 = Validate_df['Y_10']\n",
    "Test_y_14 = Validate_df['Y_14']\n",
    "Test_y_20 = Validate_df['Y_20']"
   ]
  },
  {
   "cell_type": "code",
   "execution_count": 4,
   "metadata": {},
   "outputs": [],
   "source": [
    "Train_df.drop(['Y_1', 'Y_3', 'Y_5', 'Y_10', 'Y_14', 'Y_20'], axis = 1, inplace = True)\n",
    "Validate_df.drop(['Y_1', 'Y_3', 'Y_5', 'Y_10', 'Y_14', 'Y_20'], axis = 1, inplace = True)"
   ]
  },
  {
   "cell_type": "markdown",
   "metadata": {},
   "source": [
    "#### We have defined y at each different interval already, but we will define x as we go (to remind myself, I remove y from dataframe first)"
   ]
  },
  {
   "cell_type": "code",
   "execution_count": 51,
   "metadata": {},
   "outputs": [
    {
     "name": "stdout",
     "output_type": "stream",
     "text": [
      "Dummy classifier (most frequent) training accuracy on 1 day ahead: 0.45759934453092993\n",
      "Dummy classifier (most frequent) prediction accuracy on 1 day ahead: 0.5591836734693878\n",
      "Dummy classifier (most frequent) training accuracy on 3 days ahead: 0.42892257271609996\n",
      "Dummy classifier (most frequent) prediction accuracy on 3 days ahead: 0.3224489795918367\n",
      "Dummy classifier (most frequent) training accuracy on 5 days ahead: 0.4727570667759115\n",
      "Dummy classifier (most frequent) prediction accuracy on 5 days ahead: 0.34285714285714286\n",
      "Dummy classifier (most frequent) training accuracy on 10 days ahead: 0.5297009422367882\n",
      "Dummy classifier (most frequent) prediction accuracy on 10 days ahead: 0.3346938775510204\n",
      "Dummy classifier (most frequent) training accuracy on 14 days ahead: 0.5477263416632527\n",
      "Dummy classifier (most frequent) prediction accuracy on 14 days ahead: 0.2938775510204082\n",
      "Dummy classifier (most frequent) training accuracy on 20 days ahead: 0.5743547726341663\n",
      "Dummy classifier (most frequent) prediction accuracy on 20 days ahead: 0.2816326530612245\n"
     ]
    }
   ],
   "source": [
    "## First, build the most fundamental benchmark model: dummy classifiers\n",
    "## I will build two versions: most-frequent version and stratified version\n",
    "## Most-frequent version is to measure accuracy on validating set\n",
    "## Stratified version is to report accuracy table -> Will do later if have to\n",
    "\n",
    "clf_dummy_mf_1 = DummyClassifier(strategy=\"most_frequent\").fit(Train_df, Train_y_1)\n",
    "print('Dummy classifier (most frequent) training accuracy on 1 day ahead:', clf_dummy_mf_1.score(Train_df, Train_y_1))\n",
    "print('Dummy classifier (most frequent) prediction accuracy on 1 day ahead:', clf_dummy_mf_1.score(Validate_df, Test_y_1))\n",
    "\n",
    "clf_dummy_mf_3 = DummyClassifier(strategy=\"most_frequent\").fit(Train_df, Train_y_3)\n",
    "print('Dummy classifier (most frequent) training accuracy on 3 days ahead:', clf_dummy_mf_3.score(Train_df, Train_y_3))\n",
    "print('Dummy classifier (most frequent) prediction accuracy on 3 days ahead:', clf_dummy_mf_3.score(Validate_df, Test_y_3))\n",
    "\n",
    "clf_dummy_mf_5 = DummyClassifier(strategy=\"most_frequent\").fit(Train_df, Train_y_5)\n",
    "print('Dummy classifier (most frequent) training accuracy on 5 days ahead:', clf_dummy_mf_5.score(Train_df, Train_y_5))\n",
    "print('Dummy classifier (most frequent) prediction accuracy on 5 days ahead:', clf_dummy_mf_5.score(Validate_df, Test_y_5))\n",
    "\n",
    "clf_dummy_mf_10 = DummyClassifier(strategy=\"most_frequent\").fit(Train_df, Train_y_10)\n",
    "print('Dummy classifier (most frequent) training accuracy on 10 days ahead:', clf_dummy_mf_10.score(Train_df, Train_y_10))\n",
    "print('Dummy classifier (most frequent) prediction accuracy on 10 days ahead:', clf_dummy_mf_10.score(Validate_df, Test_y_10))\n",
    "\n",
    "clf_dummy_mf_14 = DummyClassifier(strategy=\"most_frequent\").fit(Train_df, Train_y_14)\n",
    "print('Dummy classifier (most frequent) training accuracy on 14 days ahead:', clf_dummy_mf_14.score(Train_df, Train_y_14))\n",
    "print('Dummy classifier (most frequent) prediction accuracy on 14 days ahead:', clf_dummy_mf_14.score(Validate_df, Test_y_14))\n",
    "\n",
    "clf_dummy_mf_20 = DummyClassifier(strategy=\"most_frequent\").fit(Train_df, Train_y_20)\n",
    "print('Dummy classifier (most frequent) training accuracy on 20 days ahead:', clf_dummy_mf_20.score(Train_df, Train_y_20))\n",
    "print('Dummy classifier (most frequent) prediction accuracy on 20 days ahead:', clf_dummy_mf_20.score(Validate_df, Test_y_20))\n"
   ]
  },
  {
   "cell_type": "code",
   "execution_count": 6,
   "metadata": {},
   "outputs": [
    {
     "name": "stdout",
     "output_type": "stream",
     "text": [
      "Logistic regression on lagged training accuracy on 1 day ahead: 0.45759934453092993\n",
      "Logistic regression on lagged prediction accuracy on 1 day ahead: 0.5591836734693878\n",
      "Logistic regression on lagged training accuracy on 3 days ahead: 0.42892257271609996\n",
      "Logistic regression on lagged prediction accuracy on 3 days ahead: 0.3224489795918367\n",
      "Logistic regression on lagged training accuracy on 5 days ahead: 0.4727570667759115\n",
      "Logistic regression on lagged prediction accuracy on 5 days ahead: 0.34285714285714286\n",
      "Logistic regression on lagged training accuracy on 10 days ahead: 0.5297009422367882\n",
      "Logistic regression on lagged prediction accuracy on 10 days ahead: 0.3346938775510204\n",
      "Logistic regression on lagged training accuracy on 3 days ahead: 0.5477263416632527\n",
      "Logistic regression on lagged prediction accuracy on 3 days ahead: 0.2938775510204082\n",
      "Logistic regression on lagged training accuracy on 3 days ahead: 0.5743547726341663\n",
      "Logistic regression on lagged prediction accuracy on 3 days ahead: 0.2816326530612245\n"
     ]
    }
   ],
   "source": [
    "## Second, build a slightly smarter version: logistic regression on a lagged dependent variable\n",
    "## For visualizing feature importances, use standardized parameters instead\n",
    "## Source: https://scikit-learn.org/stable/modules/generated/sklearn.linear_model.LogisticRegression.html\n",
    "X_train = Train_df[['Y_N_1']]\n",
    "X_test = Validate_df[['Y_N_1']]\n",
    "clf_LR_1 = LogisticRegression(random_state=0).fit(X_train, Train_y_1)\n",
    "print('Logistic regression on lagged training accuracy on 1 day ahead:', clf_LR_1.score(X_train, Train_y_1))\n",
    "print('Logistic regression on lagged prediction accuracy on 1 day ahead:', clf_LR_1.score(X_test, Test_y_1))\n",
    "\n",
    "clf_LR_3 = LogisticRegression(random_state=0).fit(X_train, Train_y_3)\n",
    "print('Logistic regression on lagged training accuracy on 3 days ahead:', clf_LR_3.score(X_train, Train_y_3))\n",
    "print('Logistic regression on lagged prediction accuracy on 3 days ahead:', clf_LR_3.score(X_test, Test_y_3))\n",
    "\n",
    "clf_LR_5 = LogisticRegression(random_state=0).fit(X_train, Train_y_5)\n",
    "print('Logistic regression on lagged training accuracy on 5 days ahead:', clf_LR_5.score(X_train, Train_y_5))\n",
    "print('Logistic regression on lagged prediction accuracy on 5 days ahead:', clf_LR_5.score(X_test, Test_y_5))\n",
    "\n",
    "clf_LR_10 = LogisticRegression(random_state=0).fit(X_train, Train_y_10)\n",
    "print('Logistic regression on lagged training accuracy on 10 days ahead:', clf_LR_10.score(X_train, Train_y_10))\n",
    "print('Logistic regression on lagged prediction accuracy on 10 days ahead:', clf_LR_10.score(X_test, Test_y_10))\n",
    "\n",
    "clf_LR_14 = LogisticRegression(random_state=0).fit(X_train, Train_y_14)\n",
    "print('Logistic regression on lagged training accuracy on 3 days ahead:', clf_LR_14.score(X_train, Train_y_14))\n",
    "print('Logistic regression on lagged prediction accuracy on 3 days ahead:', clf_LR_14.score(X_test, Test_y_14))\n",
    "\n",
    "clf_LR_20 = LogisticRegression(random_state=0).fit(X_train, Train_y_20)\n",
    "print('Logistic regression on lagged training accuracy on 3 days ahead:', clf_LR_20.score(X_train, Train_y_20))\n",
    "print('Logistic regression on lagged prediction accuracy on 3 days ahead:', clf_LR_20.score(X_test, Test_y_20))\n"
   ]
  },
  {
   "cell_type": "code",
   "execution_count": 5,
   "metadata": {},
   "outputs": [],
   "source": [
    "X_train_1 = Train_df[['MACD', 'MOM1', 'Volume_Agent']]\n",
    "X_train_3 = Train_df[['MACD', 'MOM3', 'STD_3', 'Volume_Agent']]\n",
    "X_train_5 = Train_df[[ 'MACD', 'MOM5', 'STD_5', 'Volume_Agent']]\n",
    "X_train_10 = Train_df[[ 'MACD', 'MOM10', 'STD_10', 'Volume_Agent']]\n",
    "X_train_14 = Train_df[['MACD', 'MOM14', 'STD_14', 'Volume_Agent']]\n",
    "X_train_20 = Train_df[['MACD', 'MOM20', 'STD_20', 'Volume_Agent']]"
   ]
  },
  {
   "cell_type": "code",
   "execution_count": 6,
   "metadata": {},
   "outputs": [],
   "source": [
    "X_test_1 = Validate_df[['MACD', 'MOM1', 'Volume_Agent']]\n",
    "X_test_3 = Validate_df[['MACD', 'MOM3', 'STD_3', 'Volume_Agent']]\n",
    "X_test_5 = Validate_df[['MACD', 'MOM5', 'STD_5', 'Volume_Agent']]\n",
    "X_test_10 = Validate_df[[ 'MACD', 'MOM10', 'STD_10', 'Volume_Agent']]\n",
    "X_test_14 = Validate_df[['MACD', 'MOM14', 'STD_14', 'Volume_Agent']]\n",
    "X_test_20 = Validate_df[['MACD', 'MOM20', 'STD_20', 'Volume_Agent']]"
   ]
  },
  {
   "cell_type": "code",
   "execution_count": 27,
   "metadata": {},
   "outputs": [
    {
     "name": "stdout",
     "output_type": "stream",
     "text": [
      "Logistic regression (all features) training accuracy on 1 day ahead: 0.4756247439573945\n",
      "Logistic regression (all features) prediction accuracy on 1 day ahead: 0.5387755102040817\n",
      "Logistic regression (all features)  training accuracy on 3 days ahead: 0.4244162228594838\n",
      "Logistic regression (all features) prediction accuracy on 3 days ahead: 0.3142857142857143\n",
      "Logistic regression (all features) training accuracy on 5 days ahead: 0.46907005325686196\n",
      "Logistic regression (all features) prediction accuracy on 5 days ahead: 0.3224489795918367\n"
     ]
    }
   ],
   "source": [
    "# Let's run logistic regression with at max 9 features\n",
    "\n",
    "clf_LR_all_1 = LogisticRegression(random_state=0, max_iter = 1000).fit(X_train_1, Train_y_1)\n",
    "print('Logistic regression (all features) training accuracy on 1 day ahead:', clf_LR_all_1.score(X_train_1, Train_y_1))\n",
    "print('Logistic regression (all features) prediction accuracy on 1 day ahead:', clf_LR_all_1.score(X_test_1, Test_y_1))\n",
    "\n",
    "clf_LR_all_3 = LogisticRegression(random_state=0, max_iter = 1000).fit(X_train_3, Train_y_3)\n",
    "print('Logistic regression (all features)  training accuracy on 3 days ahead:', clf_LR_all_3.score(X_train_3, Train_y_3))\n",
    "print('Logistic regression (all features) prediction accuracy on 3 days ahead:', clf_LR_all_3.score(X_test_3, Test_y_3))\n",
    "\n",
    "clf_LR_all_5 = LogisticRegression(random_state=0, max_iter = 1000).fit(X_train_5, Train_y_5)\n",
    "print('Logistic regression (all features) training accuracy on 5 days ahead:', clf_LR_all_5.score(X_train_5, Train_y_5))\n",
    "print('Logistic regression (all features) prediction accuracy on 5 days ahead:', clf_LR_all_5.score(X_test_5, Test_y_5))"
   ]
  },
  {
   "cell_type": "code",
   "execution_count": 28,
   "metadata": {},
   "outputs": [
    {
     "name": "stdout",
     "output_type": "stream",
     "text": [
      "Logistic regression (all features) training accuracy on 10 day ahead: 0.5198689061859894\n",
      "Logistic regression (all features) prediction accuracy on 10 day ahead: 0.3183673469387755\n",
      "Logistic regression (all features)  training accuracy on 14 days ahead: 0.5497746825071692\n",
      "Logistic regression (all features) prediction accuracy on 14 days ahead: 0.2938775510204082\n",
      "Logistic regression (all features) training accuracy on 20 days ahead: 0.5764031134780827\n",
      "Logistic regression (all features) prediction accuracy on 20 days ahead: 0.2816326530612245\n"
     ]
    }
   ],
   "source": [
    "# Let's run logistic regression with at max 9 features\n",
    "\n",
    "clf_LR_all_10 = LogisticRegression(random_state=0, max_iter = 1000).fit(X_train_10, Train_y_10)\n",
    "print('Logistic regression (all features) training accuracy on 10 day ahead:', clf_LR_all_10.score(X_train_10, Train_y_10))\n",
    "print('Logistic regression (all features) prediction accuracy on 10 day ahead:', clf_LR_all_10.score(X_test_10, Test_y_10))\n",
    "\n",
    "clf_LR_all_14 = LogisticRegression(random_state=0, max_iter = 1000).fit(X_train_14, Train_y_14)\n",
    "print('Logistic regression (all features)  training accuracy on 14 days ahead:', clf_LR_all_14.score(X_train_14, Train_y_14))\n",
    "print('Logistic regression (all features) prediction accuracy on 14 days ahead:', clf_LR_all_14.score(X_test_14, Test_y_14))\n",
    "\n",
    "clf_LR_all_20 = LogisticRegression(random_state=0, max_iter = 1000).fit(X_train_20, Train_y_20)\n",
    "print('Logistic regression (all features) training accuracy on 20 days ahead:', clf_LR_all_20.score(X_train_20, Train_y_20))\n",
    "print('Logistic regression (all features) prediction accuracy on 20 days ahead:', clf_LR_all_20.score(X_test_20, Test_y_20))"
   ]
  },
  {
   "cell_type": "code",
   "execution_count": 9,
   "metadata": {},
   "outputs": [
    {
     "name": "stdout",
     "output_type": "stream",
     "text": [
      "Optimization terminated successfully.\n",
      "         Current function value: 1.067194\n",
      "         Iterations 5\n",
      "                          MNLogit Regression Results                          \n",
      "==============================================================================\n",
      "Dep. Variable:                    Y_3   No. Observations:                 2441\n",
      "Model:                        MNLogit   Df Residuals:                     2431\n",
      "Method:                           MLE   Df Model:                            8\n",
      "Date:                Sat, 13 Feb 2021   Pseudo R-squ.:                0.008302\n",
      "Time:                        15:23:45   Log-Likelihood:                -2605.0\n",
      "converged:                       True   LL-Null:                       -2626.8\n",
      "Covariance Type:            nonrobust   LLR p-value:                 6.729e-07\n",
      "================================================================================\n",
      "       Y_3=0       coef    std err          z      P>|z|      [0.025      0.975]\n",
      "--------------------------------------------------------------------------------\n",
      "const           -0.1569      0.107     -1.471      0.141      -0.366       0.052\n",
      "MACD             0.0158      0.004      3.815      0.000       0.008       0.024\n",
      "MOM3             6.0566      2.693      2.249      0.025       0.779      11.334\n",
      "STD_3           -0.0180      0.010     -1.740      0.082      -0.038       0.002\n",
      "Volume_Agent     0.0919      0.111      0.832      0.406      -0.125       0.309\n",
      "--------------------------------------------------------------------------------\n",
      "       Y_3=1       coef    std err          z      P>|z|      [0.025      0.975]\n",
      "--------------------------------------------------------------------------------\n",
      "const            0.2491      0.090      2.762      0.006       0.072       0.426\n",
      "MACD             0.0091      0.004      2.587      0.010       0.002       0.016\n",
      "MOM3             2.0917      2.161      0.968      0.333      -2.143       6.327\n",
      "STD_3            0.0100      0.008      1.204      0.228      -0.006       0.026\n",
      "Volume_Agent    -0.0723      0.097     -0.742      0.458      -0.263       0.119\n",
      "================================================================================\n",
      "                        Results: MNLogit\n",
      "=================================================================\n",
      "Model:              MNLogit          Pseudo R-squared: 0.008     \n",
      "Dependent Variable: Y_3              AIC:              5230.0402 \n",
      "Date:               2021-02-13 15:23 BIC:              5288.0419 \n",
      "No. Observations:   2441             Log-Likelihood:   -2605.0   \n",
      "Df Model:           8                LL-Null:          -2626.8   \n",
      "Df Residuals:       2431             LLR p-value:      6.7292e-07\n",
      "Converged:          1.0000           Scale:            1.0000    \n",
      "No. Iterations:     5.0000                                       \n",
      "-----------------------------------------------------------------\n",
      "     Y_3 = 0       Coef.  Std.Err.    t    P>|t|   [0.025  0.975]\n",
      "-----------------------------------------------------------------\n",
      "       const      -0.1569   0.1066 -1.4715 0.1412 -0.3658  0.0521\n",
      "        MACD       0.0158   0.0041  3.8147 0.0001  0.0077  0.0240\n",
      "        MOM3       6.0566   2.6928  2.2492 0.0245  0.7788 11.3344\n",
      "       STD_3      -0.0180   0.0104 -1.7396 0.0819 -0.0383  0.0023\n",
      "Volume_Agent       0.0919   0.1105  0.8318 0.4055 -0.1247  0.3085\n",
      "-----------------------------------------------------------------\n",
      "  Y_3 = 1      Coef.   Std.Err.     t     P>|t|    [0.025  0.975]\n",
      "-----------------------------------------------------------------\n",
      "       const   0.2491    0.0902   2.7621  0.0057   0.0723  0.4259\n",
      "        MACD   0.0091    0.0035   2.5868  0.0097   0.0022  0.0160\n",
      "        MOM3   2.0917    2.1606   0.9681  0.3330  -2.1430  6.3265\n",
      "       STD_3   0.0100    0.0083   1.2043  0.2285  -0.0063  0.0262\n",
      "Volume_Agent  -0.0723    0.0974  -0.7422  0.4580  -0.2632  0.1186\n",
      "=================================================================\n",
      "\n"
     ]
    }
   ],
   "source": [
    "import statsmodels.api as sm\n",
    "logit_model3=sm.MNLogit(Train_y_3,sm.add_constant(X_train_3))\n",
    "logit_model3\n",
    "result3=logit_model3.fit()\n",
    "stats31=result3.summary()\n",
    "stats32=result3.summary2()\n",
    "print(stats31)\n",
    "print(stats32)"
   ]
  },
  {
   "cell_type": "code",
   "execution_count": 10,
   "metadata": {},
   "outputs": [
    {
     "name": "stdout",
     "output_type": "stream",
     "text": [
      "Optimization terminated successfully.\n",
      "         Current function value: 1.027787\n",
      "         Iterations 6\n",
      "                          MNLogit Regression Results                          \n",
      "==============================================================================\n",
      "Dep. Variable:                    Y_5   No. Observations:                 2441\n",
      "Model:                        MNLogit   Df Residuals:                     2431\n",
      "Method:                           MLE   Df Model:                            8\n",
      "Date:                Sat, 13 Feb 2021   Pseudo R-squ.:                0.006637\n",
      "Time:                        15:24:00   Log-Likelihood:                -2508.8\n",
      "converged:                       True   LL-Null:                       -2525.6\n",
      "Covariance Type:            nonrobust   LLR p-value:                 4.948e-05\n",
      "================================================================================\n",
      "       Y_5=0       coef    std err          z      P>|z|      [0.025      0.975]\n",
      "--------------------------------------------------------------------------------\n",
      "const           -0.6111      0.125     -4.871      0.000      -0.857      -0.365\n",
      "MACD             0.0192      0.005      4.031      0.000       0.010       0.028\n",
      "MOM5             0.3259      2.298      0.142      0.887      -4.179       4.831\n",
      "STD_5           -0.0073      0.010     -0.728      0.467      -0.027       0.012\n",
      "Volume_Agent     0.0752      0.121      0.620      0.536      -0.163       0.313\n",
      "--------------------------------------------------------------------------------\n",
      "       Y_5=1       coef    std err          z      P>|z|      [0.025      0.975]\n",
      "--------------------------------------------------------------------------------\n",
      "const            0.2363      0.095      2.500      0.012       0.051       0.422\n",
      "MACD             0.0146      0.004      4.070      0.000       0.008       0.022\n",
      "MOM5            -2.0629      1.685     -1.224      0.221      -5.365       1.239\n",
      "STD_5            0.0065      0.007      0.879      0.380      -0.008       0.021\n",
      "Volume_Agent     0.0024      0.095      0.025      0.980      -0.184       0.188\n",
      "================================================================================\n",
      "                        Results: MNLogit\n",
      "=================================================================\n",
      "Model:              MNLogit          Pseudo R-squared: 0.007     \n",
      "Dependent Variable: Y_5              AIC:              5037.6585 \n",
      "Date:               2021-02-13 15:24 BIC:              5095.6601 \n",
      "No. Observations:   2441             Log-Likelihood:   -2508.8   \n",
      "Df Model:           8                LL-Null:          -2525.6   \n",
      "Df Residuals:       2431             LLR p-value:      4.9482e-05\n",
      "Converged:          1.0000           Scale:            1.0000    \n",
      "No. Iterations:     6.0000                                       \n",
      "-----------------------------------------------------------------\n",
      "     Y_5 = 0       Coef.  Std.Err.    t    P>|t|   [0.025  0.975]\n",
      "-----------------------------------------------------------------\n",
      "       const      -0.6111   0.1255 -4.8711 0.0000 -0.8570 -0.3652\n",
      "        MACD       0.0192   0.0048  4.0311 0.0001  0.0098  0.0285\n",
      "        MOM5       0.3259   2.2984  0.1418 0.8872 -4.1788  4.8307\n",
      "       STD_5      -0.0073   0.0100 -0.7278 0.4667 -0.0270  0.0124\n",
      "Volume_Agent       0.0752   0.1214  0.6195 0.5356 -0.1627  0.3131\n",
      "-----------------------------------------------------------------\n",
      "  Y_5 = 1      Coef.   Std.Err.     t     P>|t|    [0.025  0.975]\n",
      "-----------------------------------------------------------------\n",
      "       const   0.2363    0.0945   2.4996  0.0124   0.0510  0.4216\n",
      "        MACD   0.0146    0.0036   4.0704  0.0000   0.0076  0.0216\n",
      "        MOM5  -2.0629    1.6849  -1.2244  0.2208  -5.3652  1.2394\n",
      "       STD_5   0.0065    0.0074   0.8788  0.3795  -0.0080  0.0209\n",
      "Volume_Agent   0.0024    0.0949   0.0252  0.9799  -0.1836  0.1884\n",
      "=================================================================\n",
      "\n"
     ]
    }
   ],
   "source": [
    "import statsmodels.api as sm\n",
    "logit_model5=sm.MNLogit(Train_y_5,sm.add_constant(X_train_5))\n",
    "logit_model5\n",
    "result5=logit_model5.fit()\n",
    "stats51=result5.summary()\n",
    "stats52=result5.summary2()\n",
    "print(stats51)\n",
    "print(stats52)"
   ]
  },
  {
   "cell_type": "code",
   "execution_count": 11,
   "metadata": {},
   "outputs": [
    {
     "name": "stdout",
     "output_type": "stream",
     "text": [
      "Optimization terminated successfully.\n",
      "         Current function value: 0.954845\n",
      "         Iterations 6\n",
      "                          MNLogit Regression Results                          \n",
      "==============================================================================\n",
      "Dep. Variable:                   Y_10   No. Observations:                 2441\n",
      "Model:                        MNLogit   Df Residuals:                     2431\n",
      "Method:                           MLE   Df Model:                            8\n",
      "Date:                Sat, 13 Feb 2021   Pseudo R-squ.:                0.007837\n",
      "Time:                        15:24:14   Log-Likelihood:                -2330.8\n",
      "converged:                       True   LL-Null:                       -2349.2\n",
      "Covariance Type:            nonrobust   LLR p-value:                 1.241e-05\n",
      "================================================================================\n",
      "      Y_10=0       coef    std err          z      P>|z|      [0.025      0.975]\n",
      "--------------------------------------------------------------------------------\n",
      "const           -1.0239      0.155     -6.605      0.000      -1.328      -0.720\n",
      "MACD             0.0104      0.006      1.634      0.102      -0.002       0.023\n",
      "MOM10            2.3131      2.196      1.053      0.292      -1.991       6.617\n",
      "STD_10           0.0052      0.009      0.596      0.551      -0.012       0.022\n",
      "Volume_Agent    -0.2511      0.139     -1.806      0.071      -0.524       0.021\n",
      "--------------------------------------------------------------------------------\n",
      "      Y_10=1       coef    std err          z      P>|z|      [0.025      0.975]\n",
      "--------------------------------------------------------------------------------\n",
      "const            0.4342      0.103      4.229      0.000       0.233       0.635\n",
      "MACD             0.0017      0.004      0.400      0.689      -0.006       0.010\n",
      "MOM10            5.6252      1.451      3.878      0.000       2.782       8.468\n",
      "STD_10          -0.0019      0.006     -0.327      0.744      -0.013       0.010\n",
      "Volume_Agent    -0.0055      0.091     -0.060      0.952      -0.184       0.173\n",
      "================================================================================\n",
      "                        Results: MNLogit\n",
      "=================================================================\n",
      "Model:              MNLogit          Pseudo R-squared: 0.008     \n",
      "Dependent Variable: Y_10             AIC:              4681.5511 \n",
      "Date:               2021-02-13 15:24 BIC:              4739.5527 \n",
      "No. Observations:   2441             Log-Likelihood:   -2330.8   \n",
      "Df Model:           8                LL-Null:          -2349.2   \n",
      "Df Residuals:       2431             LLR p-value:      1.2412e-05\n",
      "Converged:          1.0000           Scale:            1.0000    \n",
      "No. Iterations:     6.0000                                       \n",
      "-----------------------------------------------------------------\n",
      "     Y_10 = 0      Coef.  Std.Err.    t    P>|t|   [0.025  0.975]\n",
      "-----------------------------------------------------------------\n",
      "       const      -1.0239   0.1550 -6.6053 0.0000 -1.3277 -0.7201\n",
      "        MACD       0.0104   0.0064  1.6339 0.1023 -0.0021  0.0228\n",
      "       MOM10       2.3131   2.1961  1.0533 0.2922 -1.9911  6.6174\n",
      "      STD_10       0.0052   0.0088  0.5961 0.5511 -0.0120  0.0224\n",
      "Volume_Agent      -0.2511   0.1390 -1.8062 0.0709 -0.5236  0.0214\n",
      "-----------------------------------------------------------------\n",
      "  Y_10 = 1     Coef.   Std.Err.     t     P>|t|    [0.025  0.975]\n",
      "-----------------------------------------------------------------\n",
      "       const   0.4342    0.1027   4.2293  0.0000   0.2330  0.6354\n",
      "        MACD   0.0017    0.0042   0.3999  0.6892  -0.0065  0.0098\n",
      "       MOM10   5.6252    1.4506   3.8778  0.0001   2.7821  8.4683\n",
      "      STD_10  -0.0019    0.0058  -0.3271  0.7436  -0.0133  0.0095\n",
      "Volume_Agent  -0.0055    0.0912  -0.0600  0.9522  -0.1841  0.1732\n",
      "=================================================================\n",
      "\n"
     ]
    }
   ],
   "source": [
    "import statsmodels.api as sm\n",
    "logit_model10=sm.MNLogit(Train_y_10,sm.add_constant(X_train_10))\n",
    "logit_model10\n",
    "result10=logit_model10.fit()\n",
    "stats1=result10.summary()\n",
    "stats2=result10.summary2()\n",
    "print(stats1)\n",
    "print(stats2)"
   ]
  },
  {
   "cell_type": "code",
   "execution_count": 12,
   "metadata": {},
   "outputs": [
    {
     "name": "stdout",
     "output_type": "stream",
     "text": [
      "Optimization terminated successfully.\n",
      "         Current function value: 0.925881\n",
      "         Iterations 6\n",
      "                          MNLogit Regression Results                          \n",
      "==============================================================================\n",
      "Dep. Variable:                   Y_14   No. Observations:                 2441\n",
      "Model:                        MNLogit   Df Residuals:                     2431\n",
      "Method:                           MLE   Df Model:                            8\n",
      "Date:                Sat, 13 Feb 2021   Pseudo R-squ.:                0.006597\n",
      "Time:                        15:24:31   Log-Likelihood:                -2260.1\n",
      "converged:                       True   LL-Null:                       -2275.1\n",
      "Covariance Type:            nonrobust   LLR p-value:                 0.0002100\n",
      "================================================================================\n",
      "      Y_14=0       coef    std err          z      P>|z|      [0.025      0.975]\n",
      "--------------------------------------------------------------------------------\n",
      "const           -0.7437      0.177     -4.203      0.000      -1.091      -0.397\n",
      "MACD             0.0046      0.008      0.568      0.570      -0.011       0.020\n",
      "MOM14           -0.1034      2.383     -0.043      0.965      -4.774       4.567\n",
      "STD_14          -0.0237      0.009     -2.586      0.010      -0.042      -0.006\n",
      "Volume_Agent    -0.2032      0.147     -1.379      0.168      -0.492       0.086\n",
      "--------------------------------------------------------------------------------\n",
      "      Y_14=1       coef    std err          z      P>|z|      [0.025      0.975]\n",
      "--------------------------------------------------------------------------------\n",
      "const            0.4462      0.107      4.173      0.000       0.237       0.656\n",
      "MACD            -0.0028      0.005     -0.585      0.558      -0.012       0.007\n",
      "MOM14            4.0260      1.373      2.932      0.003       1.335       6.717\n",
      "STD_14          -0.0015      0.005     -0.302      0.762      -0.011       0.008\n",
      "Volume_Agent     0.0423      0.089      0.475      0.635      -0.132       0.217\n",
      "================================================================================\n",
      "                        Results: MNLogit\n",
      "=================================================================\n",
      "Model:              MNLogit          Pseudo R-squared: 0.007     \n",
      "Dependent Variable: Y_14             AIC:              4540.1492 \n",
      "Date:               2021-02-13 15:24 BIC:              4598.1508 \n",
      "No. Observations:   2441             Log-Likelihood:   -2260.1   \n",
      "Df Model:           8                LL-Null:          -2275.1   \n",
      "Df Residuals:       2431             LLR p-value:      0.00021005\n",
      "Converged:          1.0000           Scale:            1.0000    \n",
      "No. Iterations:     6.0000                                       \n",
      "-----------------------------------------------------------------\n",
      "     Y_14 = 0      Coef.  Std.Err.    t    P>|t|   [0.025  0.975]\n",
      "-----------------------------------------------------------------\n",
      "       const      -0.7437   0.1770 -4.2027 0.0000 -1.0906 -0.3969\n",
      "        MACD       0.0046   0.0081  0.5683 0.5699 -0.0113  0.0204\n",
      "       MOM14      -0.1034   2.3828 -0.0434 0.9654 -4.7735  4.5667\n",
      "      STD_14      -0.0237   0.0092 -2.5858 0.0097 -0.0416 -0.0057\n",
      "Volume_Agent      -0.2032   0.1474 -1.3790 0.1679 -0.4921  0.0856\n",
      "-----------------------------------------------------------------\n",
      "  Y_14 = 1     Coef.   Std.Err.     t     P>|t|    [0.025  0.975]\n",
      "-----------------------------------------------------------------\n",
      "       const   0.4462    0.1069   4.1731  0.0000   0.2366  0.6558\n",
      "        MACD  -0.0028    0.0048  -0.5852  0.5584  -0.0121  0.0065\n",
      "       MOM14   4.0260    1.3729   2.9324  0.0034   1.3351  6.7168\n",
      "      STD_14  -0.0015    0.0050  -0.3025  0.7623  -0.0114  0.0084\n",
      "Volume_Agent   0.0423    0.0892   0.4748  0.6349  -0.1324  0.2171\n",
      "=================================================================\n",
      "\n"
     ]
    }
   ],
   "source": [
    "import statsmodels.api as sm\n",
    "logit_model14=sm.MNLogit(Train_y_14,sm.add_constant(X_train_14))\n",
    "logit_model14\n",
    "result14=logit_model14.fit()\n",
    "stats1=result14.summary()\n",
    "stats2=result14.summary2()\n",
    "print(stats1)\n",
    "print(stats2)"
   ]
  },
  {
   "cell_type": "code",
   "execution_count": 13,
   "metadata": {},
   "outputs": [
    {
     "name": "stdout",
     "output_type": "stream",
     "text": [
      "Optimization terminated successfully.\n",
      "         Current function value: 0.888919\n",
      "         Iterations 7\n",
      "                          MNLogit Regression Results                          \n",
      "==============================================================================\n",
      "Dep. Variable:                   Y_20   No. Observations:                 2441\n",
      "Model:                        MNLogit   Df Residuals:                     2431\n",
      "Method:                           MLE   Df Model:                            8\n",
      "Date:                Sat, 13 Feb 2021   Pseudo R-squ.:                0.006968\n",
      "Time:                        15:24:40   Log-Likelihood:                -2169.9\n",
      "converged:                       True   LL-Null:                       -2185.1\n",
      "Covariance Type:            nonrobust   LLR p-value:                 0.0001758\n",
      "================================================================================\n",
      "      Y_20=0       coef    std err          z      P>|z|      [0.025      0.975]\n",
      "--------------------------------------------------------------------------------\n",
      "const           -0.9573      0.203     -4.719      0.000      -1.355      -0.560\n",
      "MACD             0.0182      0.011      1.696      0.090      -0.003       0.039\n",
      "MOM20           -0.2009      2.610     -0.077      0.939      -5.317       4.915\n",
      "STD_20          -0.0219      0.009     -2.445      0.015      -0.039      -0.004\n",
      "Volume_Agent    -0.1279      0.158     -0.808      0.419      -0.438       0.182\n",
      "--------------------------------------------------------------------------------\n",
      "      Y_20=1       coef    std err          z      P>|z|      [0.025      0.975]\n",
      "--------------------------------------------------------------------------------\n",
      "const            0.5071      0.111      4.580      0.000       0.290       0.724\n",
      "MACD             0.0002      0.006      0.031      0.975      -0.011       0.011\n",
      "MOM20            2.3333      1.362      1.713      0.087      -0.336       5.003\n",
      "STD_20          -0.0020      0.004     -0.464      0.642      -0.011       0.007\n",
      "Volume_Agent     0.0951      0.089      1.074      0.283      -0.078       0.269\n",
      "================================================================================\n",
      "                        Results: MNLogit\n",
      "=================================================================\n",
      "Model:              MNLogit          Pseudo R-squared: 0.007     \n",
      "Dependent Variable: Y_20             AIC:              4359.7006 \n",
      "Date:               2021-02-13 15:24 BIC:              4417.7023 \n",
      "No. Observations:   2441             Log-Likelihood:   -2169.9   \n",
      "Df Model:           8                LL-Null:          -2185.1   \n",
      "Df Residuals:       2431             LLR p-value:      0.00017580\n",
      "Converged:          1.0000           Scale:            1.0000    \n",
      "No. Iterations:     7.0000                                       \n",
      "-----------------------------------------------------------------\n",
      "     Y_20 = 0      Coef.  Std.Err.    t    P>|t|   [0.025  0.975]\n",
      "-----------------------------------------------------------------\n",
      "       const      -0.9573   0.2029 -4.7189 0.0000 -1.3548 -0.5597\n",
      "        MACD       0.0182   0.0107  1.6957 0.0899 -0.0028  0.0393\n",
      "       MOM20      -0.2009   2.6103 -0.0770 0.9387 -5.3169  4.9151\n",
      "      STD_20      -0.0219   0.0089 -2.4445 0.0145 -0.0394 -0.0043\n",
      "Volume_Agent      -0.1279   0.1583 -0.8077 0.4193 -0.4382  0.1825\n",
      "-----------------------------------------------------------------\n",
      "  Y_20 = 1     Coef.   Std.Err.     t     P>|t|    [0.025  0.975]\n",
      "-----------------------------------------------------------------\n",
      "       const   0.5071    0.1107   4.5802  0.0000   0.2901  0.7241\n",
      "        MACD   0.0002    0.0057   0.0313  0.9751  -0.0111  0.0114\n",
      "       MOM20   2.3333    1.3621   1.7130  0.0867  -0.3364  5.0030\n",
      "      STD_20  -0.0020    0.0044  -0.4642  0.6425  -0.0106  0.0066\n",
      "Volume_Agent   0.0951    0.0886   1.0739  0.2829  -0.0785  0.2687\n",
      "=================================================================\n",
      "\n"
     ]
    }
   ],
   "source": [
    "import statsmodels.api as sm\n",
    "logit_model20=sm.MNLogit(Train_y_20,sm.add_constant(X_train_20))\n",
    "logit_model20\n",
    "result20=logit_model20.fit()\n",
    "stats1=result20.summary()\n",
    "stats2=result20.summary2()\n",
    "print(stats1)\n",
    "print(stats2)"
   ]
  },
  {
   "cell_type": "code",
   "execution_count": 26,
   "metadata": {},
   "outputs": [
    {
     "data": {
      "text/html": [
       "<table class=\"simpletable\">\n",
       "<caption>MNLogit Marginal Effects</caption>\n",
       "<tr>\n",
       "  <th>Dep. Variable:</th>   <td>Y_3</td> \n",
       "</tr>\n",
       "<tr>\n",
       "  <th>Method:</th>         <td>dydx</td> \n",
       "</tr>\n",
       "<tr>\n",
       "  <th>At:</th>            <td>median</td>\n",
       "</tr>\n",
       "</table>\n",
       "<table class=\"simpletable\">\n",
       "<tr>\n",
       "     <th>Y_3=-1</th>       <th>dy/dx</th>    <th>std err</th>      <th>z</th>      <th>P>|z|</th>  <th>[0.025</th>    <th>0.975]</th>  \n",
       "</tr>\n",
       "<tr>\n",
       "  <th>MACD</th>         <td>   -0.0025</td> <td>    0.001</td> <td>   -3.589</td> <td> 0.000</td> <td>   -0.004</td> <td>   -0.001</td>\n",
       "</tr>\n",
       "<tr>\n",
       "  <th>MOM3</th>         <td>   -0.7531</td> <td>    0.430</td> <td>   -1.753</td> <td> 0.080</td> <td>   -1.595</td> <td>    0.089</td>\n",
       "</tr>\n",
       "<tr>\n",
       "  <th>STD_3</th>        <td> 5.169e-05</td> <td>    0.002</td> <td>    0.031</td> <td> 0.975</td> <td>   -0.003</td> <td>    0.003</td>\n",
       "</tr>\n",
       "<tr>\n",
       "  <th>Volume_Agent</th> <td>    0.0026</td> <td>    0.019</td> <td>    0.138</td> <td> 0.890</td> <td>   -0.035</td> <td>    0.040</td>\n",
       "</tr>\n",
       "<tr>\n",
       "      <th>Y_3=0</th>       <th>dy/dx</th>    <th>std err</th>      <th>z</th>      <th>P>|z|</th>  <th>[0.025</th>    <th>0.975]</th>  \n",
       "</tr>\n",
       "<tr>\n",
       "  <th>MACD</th>         <td>    0.0020</td> <td>    0.001</td> <td>    2.853</td> <td> 0.004</td> <td>    0.001</td> <td>    0.003</td>\n",
       "</tr>\n",
       "<tr>\n",
       "  <th>MOM3</th>         <td>    0.9119</td> <td>    0.454</td> <td>    2.007</td> <td> 0.045</td> <td>    0.022</td> <td>    1.802</td>\n",
       "</tr>\n",
       "<tr>\n",
       "  <th>STD_3</th>        <td>   -0.0045</td> <td>    0.002</td> <td>   -2.600</td> <td> 0.009</td> <td>   -0.008</td> <td>   -0.001</td>\n",
       "</tr>\n",
       "<tr>\n",
       "  <th>Volume_Agent</th> <td>    0.0254</td> <td>    0.017</td> <td>    1.462</td> <td> 0.144</td> <td>   -0.009</td> <td>    0.060</td>\n",
       "</tr>\n",
       "<tr>\n",
       "      <th>Y_3=1</th>       <th>dy/dx</th>    <th>std err</th>      <th>z</th>      <th>P>|z|</th>  <th>[0.025</th>    <th>0.975]</th>  \n",
       "</tr>\n",
       "<tr>\n",
       "  <th>MACD</th>         <td>    0.0005</td> <td>    0.001</td> <td>    0.627</td> <td> 0.530</td> <td>   -0.001</td> <td>    0.002</td>\n",
       "</tr>\n",
       "<tr>\n",
       "  <th>MOM3</th>         <td>   -0.1588</td> <td>    0.476</td> <td>   -0.334</td> <td> 0.739</td> <td>   -1.092</td> <td>    0.774</td>\n",
       "</tr>\n",
       "<tr>\n",
       "  <th>STD_3</th>        <td>    0.0045</td> <td>    0.002</td> <td>    2.460</td> <td> 0.014</td> <td>    0.001</td> <td>    0.008</td>\n",
       "</tr>\n",
       "<tr>\n",
       "  <th>Volume_Agent</th> <td>   -0.0280</td> <td>    0.021</td> <td>   -1.352</td> <td> 0.176</td> <td>   -0.069</td> <td>    0.013</td>\n",
       "</tr>\n",
       "</table>"
      ],
      "text/plain": [
       "<class 'statsmodels.iolib.summary.Summary'>\n",
       "\"\"\"\n",
       "       MNLogit Marginal Effects      \n",
       "=====================================\n",
       "Dep. Variable:                    Y_3\n",
       "Method:                          dydx\n",
       "At:                            median\n",
       "================================================================================\n",
       "      Y_3=-1      dy/dx    std err          z      P>|z|      [0.025      0.975]\n",
       "--------------------------------------------------------------------------------\n",
       "MACD            -0.0025      0.001     -3.589      0.000      -0.004      -0.001\n",
       "MOM3            -0.7531      0.430     -1.753      0.080      -1.595       0.089\n",
       "STD_3         5.169e-05      0.002      0.031      0.975      -0.003       0.003\n",
       "Volume_Agent     0.0026      0.019      0.138      0.890      -0.035       0.040\n",
       "--------------------------------------------------------------------------------\n",
       "       Y_3=0      dy/dx    std err          z      P>|z|      [0.025      0.975]\n",
       "--------------------------------------------------------------------------------\n",
       "MACD             0.0020      0.001      2.853      0.004       0.001       0.003\n",
       "MOM3             0.9119      0.454      2.007      0.045       0.022       1.802\n",
       "STD_3           -0.0045      0.002     -2.600      0.009      -0.008      -0.001\n",
       "Volume_Agent     0.0254      0.017      1.462      0.144      -0.009       0.060\n",
       "--------------------------------------------------------------------------------\n",
       "       Y_3=1      dy/dx    std err          z      P>|z|      [0.025      0.975]\n",
       "--------------------------------------------------------------------------------\n",
       "MACD             0.0005      0.001      0.627      0.530      -0.001       0.002\n",
       "MOM3            -0.1588      0.476     -0.334      0.739      -1.092       0.774\n",
       "STD_3            0.0045      0.002      2.460      0.014       0.001       0.008\n",
       "Volume_Agent    -0.0280      0.021     -1.352      0.176      -0.069       0.013\n",
       "================================================================================\n",
       "\"\"\""
      ]
     },
     "execution_count": 26,
     "metadata": {},
     "output_type": "execute_result"
    }
   ],
   "source": [
    "#https://www.statsmodels.org/devel/generated/statsmodels.discrete.discrete_model.LogitResults.get_margeff.html\n",
    "result3.get_margeff(at = 'overall').summary()\n",
    "#result3.get_margeff(at = 'mean').summary()\n",
    "result3.get_margeff(at = 'median').summary()"
   ]
  },
  {
   "cell_type": "code",
   "execution_count": 24,
   "metadata": {},
   "outputs": [
    {
     "data": {
      "text/html": [
       "<table class=\"simpletable\">\n",
       "<caption>MNLogit Marginal Effects</caption>\n",
       "<tr>\n",
       "  <th>Dep. Variable:</th>   <td>Y_5</td> \n",
       "</tr>\n",
       "<tr>\n",
       "  <th>Method:</th>         <td>dydx</td> \n",
       "</tr>\n",
       "<tr>\n",
       "  <th>At:</th>            <td>median</td>\n",
       "</tr>\n",
       "</table>\n",
       "<table class=\"simpletable\">\n",
       "<tr>\n",
       "     <th>Y_5=-1</th>       <th>dy/dx</th>    <th>std err</th>      <th>z</th>      <th>P>|z|</th>  <th>[0.025</th>    <th>0.975]</th>  \n",
       "</tr>\n",
       "<tr>\n",
       "  <th>MACD</th>         <td>   -0.0035</td> <td>    0.001</td> <td>   -4.742</td> <td> 0.000</td> <td>   -0.005</td> <td>   -0.002</td>\n",
       "</tr>\n",
       "<tr>\n",
       "  <th>MOM5</th>         <td>    0.3108</td> <td>    0.356</td> <td>    0.874</td> <td> 0.382</td> <td>   -0.386</td> <td>    1.008</td>\n",
       "</tr>\n",
       "<tr>\n",
       "  <th>STD_5</th>        <td>   -0.0006</td> <td>    0.002</td> <td>   -0.372</td> <td> 0.710</td> <td>   -0.004</td> <td>    0.002</td>\n",
       "</tr>\n",
       "<tr>\n",
       "  <th>Volume_Agent</th> <td>   -0.0051</td> <td>    0.020</td> <td>   -0.255</td> <td> 0.799</td> <td>   -0.044</td> <td>    0.034</td>\n",
       "</tr>\n",
       "<tr>\n",
       "      <th>Y_5=0</th>       <th>dy/dx</th>    <th>std err</th>      <th>z</th>      <th>P>|z|</th>  <th>[0.025</th>    <th>0.975]</th>  \n",
       "</tr>\n",
       "<tr>\n",
       "  <th>MACD</th>         <td>    0.0016</td> <td>    0.001</td> <td>    2.443</td> <td> 0.015</td> <td>    0.000</td> <td>    0.003</td>\n",
       "</tr>\n",
       "<tr>\n",
       "  <th>MOM5</th>         <td>    0.2328</td> <td>    0.319</td> <td>    0.729</td> <td> 0.466</td> <td>   -0.393</td> <td>    0.859</td>\n",
       "</tr>\n",
       "<tr>\n",
       "  <th>STD_5</th>        <td>   -0.0017</td> <td>    0.001</td> <td>   -1.221</td> <td> 0.222</td> <td>   -0.004</td> <td>    0.001</td>\n",
       "</tr>\n",
       "<tr>\n",
       "  <th>Volume_Agent</th> <td>    0.0112</td> <td>    0.016</td> <td>    0.700</td> <td> 0.484</td> <td>   -0.020</td> <td>    0.043</td>\n",
       "</tr>\n",
       "<tr>\n",
       "      <th>Y_5=1</th>       <th>dy/dx</th>    <th>std err</th>      <th>z</th>      <th>P>|z|</th>  <th>[0.025</th>    <th>0.975]</th>  \n",
       "</tr>\n",
       "<tr>\n",
       "  <th>MACD</th>         <td>    0.0019</td> <td>    0.001</td> <td>    2.396</td> <td> 0.017</td> <td>    0.000</td> <td>    0.004</td>\n",
       "</tr>\n",
       "<tr>\n",
       "  <th>MOM5</th>         <td>   -0.5436</td> <td>    0.385</td> <td>   -1.412</td> <td> 0.158</td> <td>   -1.298</td> <td>    0.211</td>\n",
       "</tr>\n",
       "<tr>\n",
       "  <th>STD_5</th>        <td>    0.0023</td> <td>    0.002</td> <td>    1.361</td> <td> 0.173</td> <td>   -0.001</td> <td>    0.006</td>\n",
       "</tr>\n",
       "<tr>\n",
       "  <th>Volume_Agent</th> <td>   -0.0061</td> <td>    0.021</td> <td>   -0.289</td> <td> 0.772</td> <td>   -0.047</td> <td>    0.035</td>\n",
       "</tr>\n",
       "</table>"
      ],
      "text/plain": [
       "<class 'statsmodels.iolib.summary.Summary'>\n",
       "\"\"\"\n",
       "       MNLogit Marginal Effects      \n",
       "=====================================\n",
       "Dep. Variable:                    Y_5\n",
       "Method:                          dydx\n",
       "At:                            median\n",
       "================================================================================\n",
       "      Y_5=-1      dy/dx    std err          z      P>|z|      [0.025      0.975]\n",
       "--------------------------------------------------------------------------------\n",
       "MACD            -0.0035      0.001     -4.742      0.000      -0.005      -0.002\n",
       "MOM5             0.3108      0.356      0.874      0.382      -0.386       1.008\n",
       "STD_5           -0.0006      0.002     -0.372      0.710      -0.004       0.002\n",
       "Volume_Agent    -0.0051      0.020     -0.255      0.799      -0.044       0.034\n",
       "--------------------------------------------------------------------------------\n",
       "       Y_5=0      dy/dx    std err          z      P>|z|      [0.025      0.975]\n",
       "--------------------------------------------------------------------------------\n",
       "MACD             0.0016      0.001      2.443      0.015       0.000       0.003\n",
       "MOM5             0.2328      0.319      0.729      0.466      -0.393       0.859\n",
       "STD_5           -0.0017      0.001     -1.221      0.222      -0.004       0.001\n",
       "Volume_Agent     0.0112      0.016      0.700      0.484      -0.020       0.043\n",
       "--------------------------------------------------------------------------------\n",
       "       Y_5=1      dy/dx    std err          z      P>|z|      [0.025      0.975]\n",
       "--------------------------------------------------------------------------------\n",
       "MACD             0.0019      0.001      2.396      0.017       0.000       0.004\n",
       "MOM5            -0.5436      0.385     -1.412      0.158      -1.298       0.211\n",
       "STD_5            0.0023      0.002      1.361      0.173      -0.001       0.006\n",
       "Volume_Agent    -0.0061      0.021     -0.289      0.772      -0.047       0.035\n",
       "================================================================================\n",
       "\"\"\""
      ]
     },
     "execution_count": 24,
     "metadata": {},
     "output_type": "execute_result"
    }
   ],
   "source": [
    "#https://www.statsmodels.org/devel/generated/statsmodels.discrete.discrete_model.LogitResults.get_margeff.html\n",
    "result5.get_margeff(at = 'overall').summary()\n",
    "result5.get_margeff(at = 'mean').summary()\n",
    "result5.get_margeff(at = 'median').summary()"
   ]
  },
  {
   "cell_type": "code",
   "execution_count": 22,
   "metadata": {},
   "outputs": [
    {
     "data": {
      "text/html": [
       "<table class=\"simpletable\">\n",
       "<caption>MNLogit Marginal Effects</caption>\n",
       "<tr>\n",
       "  <th>Dep. Variable:</th>  <td>Y_10</td>  \n",
       "</tr>\n",
       "<tr>\n",
       "  <th>Method:</th>         <td>dydx</td>  \n",
       "</tr>\n",
       "<tr>\n",
       "  <th>At:</th>            <td>overall</td>\n",
       "</tr>\n",
       "</table>\n",
       "<table class=\"simpletable\">\n",
       "<tr>\n",
       "     <th>Y_10=-1</th>      <th>dy/dx</th>    <th>std err</th>      <th>z</th>      <th>P>|z|</th>  <th>[0.025</th>    <th>0.975]</th>  \n",
       "</tr>\n",
       "<tr>\n",
       "  <th>MACD</th>         <td>   -0.0007</td> <td>    0.001</td> <td>   -0.831</td> <td> 0.406</td> <td>   -0.003</td> <td>    0.001</td>\n",
       "</tr>\n",
       "<tr>\n",
       "  <th>MOM10</th>        <td>   -1.1170</td> <td>    0.309</td> <td>   -3.618</td> <td> 0.000</td> <td>   -1.722</td> <td>   -0.512</td>\n",
       "</tr>\n",
       "<tr>\n",
       "  <th>STD_10</th>       <td>    0.0001</td> <td>    0.001</td> <td>    0.098</td> <td> 0.922</td> <td>   -0.002</td> <td>    0.003</td>\n",
       "</tr>\n",
       "<tr>\n",
       "  <th>Volume_Agent</th> <td>    0.0117</td> <td>    0.020</td> <td>    0.597</td> <td> 0.551</td> <td>   -0.027</td> <td>    0.050</td>\n",
       "</tr>\n",
       "<tr>\n",
       "     <th>Y_10=0</th>       <th>dy/dx</th>    <th>std err</th>      <th>z</th>      <th>P>|z|</th>  <th>[0.025</th>    <th>0.975]</th>  \n",
       "</tr>\n",
       "<tr>\n",
       "  <th>MACD</th>         <td>    0.0010</td> <td>    0.001</td> <td>    1.607</td> <td> 0.108</td> <td>   -0.000</td> <td>    0.002</td>\n",
       "</tr>\n",
       "<tr>\n",
       "  <th>MOM10</th>        <td>   -0.1182</td> <td>    0.217</td> <td>   -0.546</td> <td> 0.585</td> <td>   -0.543</td> <td>    0.307</td>\n",
       "</tr>\n",
       "<tr>\n",
       "  <th>STD_10</th>       <td>    0.0007</td> <td>    0.001</td> <td>    0.790</td> <td> 0.430</td> <td>   -0.001</td> <td>    0.002</td>\n",
       "</tr>\n",
       "<tr>\n",
       "  <th>Volume_Agent</th> <td>   -0.0268</td> <td>    0.014</td> <td>   -1.941</td> <td> 0.052</td> <td>   -0.054</td> <td>    0.000</td>\n",
       "</tr>\n",
       "<tr>\n",
       "     <th>Y_10=1</th>       <th>dy/dx</th>    <th>std err</th>      <th>z</th>      <th>P>|z|</th>  <th>[0.025</th>    <th>0.975]</th>  \n",
       "</tr>\n",
       "<tr>\n",
       "  <th>MACD</th>         <td>   -0.0003</td> <td>    0.001</td> <td>   -0.286</td> <td> 0.775</td> <td>   -0.002</td> <td>    0.002</td>\n",
       "</tr>\n",
       "<tr>\n",
       "  <th>MOM10</th>        <td>    1.2352</td> <td>    0.324</td> <td>    3.809</td> <td> 0.000</td> <td>    0.600</td> <td>    1.871</td>\n",
       "</tr>\n",
       "<tr>\n",
       "  <th>STD_10</th>       <td>   -0.0008</td> <td>    0.001</td> <td>   -0.614</td> <td> 0.539</td> <td>   -0.003</td> <td>    0.002</td>\n",
       "</tr>\n",
       "<tr>\n",
       "  <th>Volume_Agent</th> <td>    0.0151</td> <td>    0.021</td> <td>    0.733</td> <td> 0.464</td> <td>   -0.025</td> <td>    0.055</td>\n",
       "</tr>\n",
       "</table>"
      ],
      "text/plain": [
       "<class 'statsmodels.iolib.summary.Summary'>\n",
       "\"\"\"\n",
       "       MNLogit Marginal Effects      \n",
       "=====================================\n",
       "Dep. Variable:                   Y_10\n",
       "Method:                          dydx\n",
       "At:                           overall\n",
       "================================================================================\n",
       "     Y_10=-1      dy/dx    std err          z      P>|z|      [0.025      0.975]\n",
       "--------------------------------------------------------------------------------\n",
       "MACD            -0.0007      0.001     -0.831      0.406      -0.003       0.001\n",
       "MOM10           -1.1170      0.309     -3.618      0.000      -1.722      -0.512\n",
       "STD_10           0.0001      0.001      0.098      0.922      -0.002       0.003\n",
       "Volume_Agent     0.0117      0.020      0.597      0.551      -0.027       0.050\n",
       "--------------------------------------------------------------------------------\n",
       "      Y_10=0      dy/dx    std err          z      P>|z|      [0.025      0.975]\n",
       "--------------------------------------------------------------------------------\n",
       "MACD             0.0010      0.001      1.607      0.108      -0.000       0.002\n",
       "MOM10           -0.1182      0.217     -0.546      0.585      -0.543       0.307\n",
       "STD_10           0.0007      0.001      0.790      0.430      -0.001       0.002\n",
       "Volume_Agent    -0.0268      0.014     -1.941      0.052      -0.054       0.000\n",
       "--------------------------------------------------------------------------------\n",
       "      Y_10=1      dy/dx    std err          z      P>|z|      [0.025      0.975]\n",
       "--------------------------------------------------------------------------------\n",
       "MACD            -0.0003      0.001     -0.286      0.775      -0.002       0.002\n",
       "MOM10            1.2352      0.324      3.809      0.000       0.600       1.871\n",
       "STD_10          -0.0008      0.001     -0.614      0.539      -0.003       0.002\n",
       "Volume_Agent     0.0151      0.021      0.733      0.464      -0.025       0.055\n",
       "================================================================================\n",
       "\"\"\""
      ]
     },
     "execution_count": 22,
     "metadata": {},
     "output_type": "execute_result"
    }
   ],
   "source": [
    "#https://www.statsmodels.org/devel/generated/statsmodels.discrete.discrete_model.LogitResults.get_margeff.html\n",
    "result10.get_margeff(at = 'overall').summary()\n",
    "#result10.get_margeff(at = 'mean').summary()\n",
    "#result10.get_margeff(at = 'median').summary()"
   ]
  },
  {
   "cell_type": "code",
   "execution_count": 28,
   "metadata": {},
   "outputs": [
    {
     "data": {
      "text/html": [
       "<table class=\"simpletable\">\n",
       "<caption>MNLogit Marginal Effects</caption>\n",
       "<tr>\n",
       "  <th>Dep. Variable:</th>  <td>Y_14</td> \n",
       "</tr>\n",
       "<tr>\n",
       "  <th>Method:</th>         <td>dydx</td> \n",
       "</tr>\n",
       "<tr>\n",
       "  <th>At:</th>            <td>median</td>\n",
       "</tr>\n",
       "</table>\n",
       "<table class=\"simpletable\">\n",
       "<tr>\n",
       "     <th>Y_14=-1</th>      <th>dy/dx</th>    <th>std err</th>      <th>z</th>      <th>P>|z|</th>  <th>[0.025</th>    <th>0.975]</th>  \n",
       "</tr>\n",
       "<tr>\n",
       "  <th>MACD</th>         <td>    0.0003</td> <td>    0.001</td> <td>    0.318</td> <td> 0.751</td> <td>   -0.002</td> <td>    0.002</td>\n",
       "</tr>\n",
       "<tr>\n",
       "  <th>MOM14</th>        <td>   -0.7428</td> <td>    0.301</td> <td>   -2.469</td> <td> 0.014</td> <td>   -1.332</td> <td>   -0.153</td>\n",
       "</tr>\n",
       "<tr>\n",
       "  <th>STD_14</th>       <td>    0.0012</td> <td>    0.001</td> <td>    1.110</td> <td> 0.267</td> <td>   -0.001</td> <td>    0.003</td>\n",
       "</tr>\n",
       "<tr>\n",
       "  <th>Volume_Agent</th> <td>    0.0003</td> <td>    0.020</td> <td>    0.015</td> <td> 0.988</td> <td>   -0.038</td> <td>    0.039</td>\n",
       "</tr>\n",
       "<tr>\n",
       "     <th>Y_14=0</th>       <th>dy/dx</th>    <th>std err</th>      <th>z</th>      <th>P>|z|</th>  <th>[0.025</th>    <th>0.975]</th>  \n",
       "</tr>\n",
       "<tr>\n",
       "  <th>MACD</th>         <td>    0.0006</td> <td>    0.001</td> <td>    0.835</td> <td> 0.404</td> <td>   -0.001</td> <td>    0.002</td>\n",
       "</tr>\n",
       "<tr>\n",
       "  <th>MOM14</th>        <td>   -0.2640</td> <td>    0.228</td> <td>   -1.156</td> <td> 0.248</td> <td>   -0.712</td> <td>    0.184</td>\n",
       "</tr>\n",
       "<tr>\n",
       "  <th>STD_14</th>       <td>   -0.0023</td> <td>    0.001</td> <td>   -2.587</td> <td> 0.010</td> <td>   -0.004</td> <td>   -0.001</td>\n",
       "</tr>\n",
       "<tr>\n",
       "  <th>Volume_Agent</th> <td>   -0.0236</td> <td>    0.015</td> <td>   -1.554</td> <td> 0.120</td> <td>   -0.053</td> <td>    0.006</td>\n",
       "</tr>\n",
       "<tr>\n",
       "     <th>Y_14=1</th>       <th>dy/dx</th>    <th>std err</th>      <th>z</th>      <th>P>|z|</th>  <th>[0.025</th>    <th>0.975]</th>  \n",
       "</tr>\n",
       "<tr>\n",
       "  <th>MACD</th>         <td>   -0.0010</td> <td>    0.001</td> <td>   -0.888</td> <td> 0.374</td> <td>   -0.003</td> <td>    0.001</td>\n",
       "</tr>\n",
       "<tr>\n",
       "  <th>MOM14</th>        <td>    1.0067</td> <td>    0.321</td> <td>    3.140</td> <td> 0.002</td> <td>    0.378</td> <td>    1.635</td>\n",
       "</tr>\n",
       "<tr>\n",
       "  <th>STD_14</th>       <td>    0.0011</td> <td>    0.001</td> <td>    0.931</td> <td> 0.352</td> <td>   -0.001</td> <td>    0.003</td>\n",
       "</tr>\n",
       "<tr>\n",
       "  <th>Volume_Agent</th> <td>    0.0233</td> <td>    0.021</td> <td>    1.126</td> <td> 0.260</td> <td>   -0.017</td> <td>    0.064</td>\n",
       "</tr>\n",
       "</table>"
      ],
      "text/plain": [
       "<class 'statsmodels.iolib.summary.Summary'>\n",
       "\"\"\"\n",
       "       MNLogit Marginal Effects      \n",
       "=====================================\n",
       "Dep. Variable:                   Y_14\n",
       "Method:                          dydx\n",
       "At:                            median\n",
       "================================================================================\n",
       "     Y_14=-1      dy/dx    std err          z      P>|z|      [0.025      0.975]\n",
       "--------------------------------------------------------------------------------\n",
       "MACD             0.0003      0.001      0.318      0.751      -0.002       0.002\n",
       "MOM14           -0.7428      0.301     -2.469      0.014      -1.332      -0.153\n",
       "STD_14           0.0012      0.001      1.110      0.267      -0.001       0.003\n",
       "Volume_Agent     0.0003      0.020      0.015      0.988      -0.038       0.039\n",
       "--------------------------------------------------------------------------------\n",
       "      Y_14=0      dy/dx    std err          z      P>|z|      [0.025      0.975]\n",
       "--------------------------------------------------------------------------------\n",
       "MACD             0.0006      0.001      0.835      0.404      -0.001       0.002\n",
       "MOM14           -0.2640      0.228     -1.156      0.248      -0.712       0.184\n",
       "STD_14          -0.0023      0.001     -2.587      0.010      -0.004      -0.001\n",
       "Volume_Agent    -0.0236      0.015     -1.554      0.120      -0.053       0.006\n",
       "--------------------------------------------------------------------------------\n",
       "      Y_14=1      dy/dx    std err          z      P>|z|      [0.025      0.975]\n",
       "--------------------------------------------------------------------------------\n",
       "MACD            -0.0010      0.001     -0.888      0.374      -0.003       0.001\n",
       "MOM14            1.0067      0.321      3.140      0.002       0.378       1.635\n",
       "STD_14           0.0011      0.001      0.931      0.352      -0.001       0.003\n",
       "Volume_Agent     0.0233      0.021      1.126      0.260      -0.017       0.064\n",
       "================================================================================\n",
       "\"\"\""
      ]
     },
     "execution_count": 28,
     "metadata": {},
     "output_type": "execute_result"
    }
   ],
   "source": [
    "#https://www.statsmodels.org/devel/generated/statsmodels.discrete.discrete_model.LogitResults.get_margeff.html\n",
    "result14.get_margeff(at = 'overall').summary()\n",
    "result14.get_margeff(at = 'mean').summary()\n",
    "result14.get_margeff(at = 'median').summary()"
   ]
  },
  {
   "cell_type": "code",
   "execution_count": 30,
   "metadata": {},
   "outputs": [
    {
     "data": {
      "text/html": [
       "<table class=\"simpletable\">\n",
       "<caption>MNLogit Marginal Effects</caption>\n",
       "<tr>\n",
       "  <th>Dep. Variable:</th>  <td>Y_20</td> \n",
       "</tr>\n",
       "<tr>\n",
       "  <th>Method:</th>         <td>dydx</td> \n",
       "</tr>\n",
       "<tr>\n",
       "  <th>At:</th>            <td>median</td>\n",
       "</tr>\n",
       "</table>\n",
       "<table class=\"simpletable\">\n",
       "<tr>\n",
       "     <th>Y_20=-1</th>      <th>dy/dx</th>    <th>std err</th>      <th>z</th>      <th>P>|z|</th>  <th>[0.025</th>    <th>0.975]</th>  \n",
       "</tr>\n",
       "<tr>\n",
       "  <th>MACD</th>         <td>   -0.0006</td> <td>    0.001</td> <td>   -0.491</td> <td> 0.623</td> <td>   -0.003</td> <td>    0.002</td>\n",
       "</tr>\n",
       "<tr>\n",
       "  <th>MOM20</th>        <td>   -0.4436</td> <td>    0.302</td> <td>   -1.470</td> <td> 0.141</td> <td>   -1.035</td> <td>    0.148</td>\n",
       "</tr>\n",
       "<tr>\n",
       "  <th>STD_20</th>       <td>    0.0011</td> <td>    0.001</td> <td>    1.130</td> <td> 0.259</td> <td>   -0.001</td> <td>    0.003</td>\n",
       "</tr>\n",
       "<tr>\n",
       "  <th>Volume_Agent</th> <td>   -0.0142</td> <td>    0.020</td> <td>   -0.722</td> <td> 0.470</td> <td>   -0.053</td> <td>    0.024</td>\n",
       "</tr>\n",
       "<tr>\n",
       "     <th>Y_20=0</th>       <th>dy/dx</th>    <th>std err</th>      <th>z</th>      <th>P>|z|</th>  <th>[0.025</th>    <th>0.975]</th>  \n",
       "</tr>\n",
       "<tr>\n",
       "  <th>MACD</th>         <td>    0.0015</td> <td>    0.001</td> <td>    1.777</td> <td> 0.076</td> <td>   -0.000</td> <td>    0.003</td>\n",
       "</tr>\n",
       "<tr>\n",
       "  <th>MOM20</th>        <td>   -0.1411</td> <td>    0.210</td> <td>   -0.672</td> <td> 0.502</td> <td>   -0.553</td> <td>    0.271</td>\n",
       "</tr>\n",
       "<tr>\n",
       "  <th>STD_20</th>       <td>   -0.0018</td> <td>    0.001</td> <td>   -2.379</td> <td> 0.017</td> <td>   -0.003</td> <td>   -0.000</td>\n",
       "</tr>\n",
       "<tr>\n",
       "  <th>Volume_Agent</th> <td>   -0.0160</td> <td>    0.013</td> <td>   -1.184</td> <td> 0.237</td> <td>   -0.042</td> <td>    0.010</td>\n",
       "</tr>\n",
       "<tr>\n",
       "     <th>Y_20=1</th>       <th>dy/dx</th>    <th>std err</th>      <th>z</th>      <th>P>|z|</th>  <th>[0.025</th>    <th>0.975]</th>  \n",
       "</tr>\n",
       "<tr>\n",
       "  <th>MACD</th>         <td>   -0.0009</td> <td>    0.001</td> <td>   -0.694</td> <td> 0.488</td> <td>   -0.004</td> <td>    0.002</td>\n",
       "</tr>\n",
       "<tr>\n",
       "  <th>MOM20</th>        <td>    0.5847</td> <td>    0.317</td> <td>    1.845</td> <td> 0.065</td> <td>   -0.037</td> <td>    1.206</td>\n",
       "</tr>\n",
       "<tr>\n",
       "  <th>STD_20</th>       <td>    0.0007</td> <td>    0.001</td> <td>    0.636</td> <td> 0.525</td> <td>   -0.001</td> <td>    0.003</td>\n",
       "</tr>\n",
       "<tr>\n",
       "  <th>Volume_Agent</th> <td>    0.0302</td> <td>    0.021</td> <td>    1.470</td> <td> 0.141</td> <td>   -0.010</td> <td>    0.070</td>\n",
       "</tr>\n",
       "</table>"
      ],
      "text/plain": [
       "<class 'statsmodels.iolib.summary.Summary'>\n",
       "\"\"\"\n",
       "       MNLogit Marginal Effects      \n",
       "=====================================\n",
       "Dep. Variable:                   Y_20\n",
       "Method:                          dydx\n",
       "At:                            median\n",
       "================================================================================\n",
       "     Y_20=-1      dy/dx    std err          z      P>|z|      [0.025      0.975]\n",
       "--------------------------------------------------------------------------------\n",
       "MACD            -0.0006      0.001     -0.491      0.623      -0.003       0.002\n",
       "MOM20           -0.4436      0.302     -1.470      0.141      -1.035       0.148\n",
       "STD_20           0.0011      0.001      1.130      0.259      -0.001       0.003\n",
       "Volume_Agent    -0.0142      0.020     -0.722      0.470      -0.053       0.024\n",
       "--------------------------------------------------------------------------------\n",
       "      Y_20=0      dy/dx    std err          z      P>|z|      [0.025      0.975]\n",
       "--------------------------------------------------------------------------------\n",
       "MACD             0.0015      0.001      1.777      0.076      -0.000       0.003\n",
       "MOM20           -0.1411      0.210     -0.672      0.502      -0.553       0.271\n",
       "STD_20          -0.0018      0.001     -2.379      0.017      -0.003      -0.000\n",
       "Volume_Agent    -0.0160      0.013     -1.184      0.237      -0.042       0.010\n",
       "--------------------------------------------------------------------------------\n",
       "      Y_20=1      dy/dx    std err          z      P>|z|      [0.025      0.975]\n",
       "--------------------------------------------------------------------------------\n",
       "MACD            -0.0009      0.001     -0.694      0.488      -0.004       0.002\n",
       "MOM20            0.5847      0.317      1.845      0.065      -0.037       1.206\n",
       "STD_20           0.0007      0.001      0.636      0.525      -0.001       0.003\n",
       "Volume_Agent     0.0302      0.021      1.470      0.141      -0.010       0.070\n",
       "================================================================================\n",
       "\"\"\""
      ]
     },
     "execution_count": 30,
     "metadata": {},
     "output_type": "execute_result"
    }
   ],
   "source": [
    "#https://www.statsmodels.org/devel/generated/statsmodels.discrete.discrete_model.LogitResults.get_margeff.html\n",
    "result20.get_margeff(at = 'overall').summary()\n",
    "result20.get_margeff(at = 'mean').summary()\n",
    "result20.get_margeff(at = 'median').summary()"
   ]
  },
  {
   "cell_type": "code",
   "execution_count": 41,
   "metadata": {},
   "outputs": [
    {
     "data": {
      "text/plain": [
       "array([[-0.00943621, -0.82353974, -0.11395149],\n",
       "       [ 0.01331613,  1.34686485,  0.11040158],\n",
       "       [-0.00387992, -0.5233251 ,  0.00354991]])"
      ]
     },
     "execution_count": 41,
     "metadata": {},
     "output_type": "execute_result"
    }
   ],
   "source": [
    "clf_LR_all_1.coef_"
   ]
  },
  {
   "cell_type": "code",
   "execution_count": 42,
   "metadata": {},
   "outputs": [
    {
     "data": {
      "text/plain": [
       "array([[-0.00874855, -0.6401581 ,  0.00370314, -0.01456536],\n",
       "       [ 0.00807165,  0.66880405, -0.0162707 ,  0.09555339],\n",
       "       [ 0.0006769 , -0.02864595,  0.01256756, -0.08098803]])"
      ]
     },
     "execution_count": 42,
     "metadata": {},
     "output_type": "execute_result"
    }
   ],
   "source": [
    "clf_LR_all_3.coef_"
   ]
  },
  {
   "cell_type": "code",
   "execution_count": 43,
   "metadata": {},
   "outputs": [
    {
     "data": {
      "text/plain": [
       "array([[-1.11344693e-02,  3.45653536e-01, -1.18957408e-05,\n",
       "        -2.33130146e-02],\n",
       "       [ 8.28640734e-03,  2.02705731e-01, -7.33126645e-03,\n",
       "         5.49183085e-02],\n",
       "       [ 2.84806199e-03, -5.48359267e-01,  7.34316220e-03,\n",
       "        -3.16052939e-02]])"
      ]
     },
     "execution_count": 43,
     "metadata": {},
     "output_type": "execute_result"
    }
   ],
   "source": [
    "clf_LR_all_5.coef_"
   ]
  },
  {
   "cell_type": "code",
   "execution_count": 44,
   "metadata": {},
   "outputs": [
    {
     "data": {
      "text/plain": [
       "array([[-6.13223219e-03, -1.33476835e+00, -7.05186098e-04,\n",
       "         7.41928203e-02],\n",
       "       [ 6.06637562e-03, -1.27543462e-01,  3.86049359e-03,\n",
       "        -1.65605056e-01],\n",
       "       [ 6.58565660e-05,  1.46231181e+00, -3.15530749e-03,\n",
       "         9.14122353e-02]])"
      ]
     },
     "execution_count": 44,
     "metadata": {},
     "output_type": "execute_result"
    }
   ],
   "source": [
    "clf_LR_all_10.coef_"
   ]
  },
  {
   "cell_type": "code",
   "execution_count": 45,
   "metadata": {},
   "outputs": [
    {
     "data": {
      "text/plain": [
       "array([[-1.54993192e-03, -9.46011261e-01,  8.48112694e-03,\n",
       "         5.24079221e-02],\n",
       "       [ 1.30535769e-03, -2.57262557e-01, -1.55407677e-02,\n",
       "        -1.55903002e-01],\n",
       "       [ 2.44574225e-04,  1.20327382e+00,  7.05964081e-03,\n",
       "         1.03495079e-01]])"
      ]
     },
     "execution_count": 45,
     "metadata": {},
     "output_type": "execute_result"
    }
   ],
   "source": [
    "clf_LR_all_14.coef_"
   ]
  },
  {
   "cell_type": "code",
   "execution_count": 46,
   "metadata": {},
   "outputs": [
    {
     "data": {
      "text/plain": [
       "array([[-0.00672221, -0.55903002,  0.00800641,  0.00988758],\n",
       "       [ 0.00955596, -0.13962922, -0.01415543, -0.11717878],\n",
       "       [-0.00283375,  0.69865924,  0.00614901,  0.10729121]])"
      ]
     },
     "execution_count": 46,
     "metadata": {},
     "output_type": "execute_result"
    }
   ],
   "source": [
    "clf_LR_all_20.coef_"
   ]
  },
  {
   "cell_type": "code",
   "execution_count": 47,
   "metadata": {},
   "outputs": [
    {
     "name": "stdout",
     "output_type": "stream",
     "text": [
      "0.6090534979423868\n",
      "0.36213991769547327\n",
      "0.37448559670781895\n",
      "0.41975308641975306\n",
      "0.4279835390946502\n",
      "0.41975308641975306\n"
     ]
    }
   ],
   "source": [
    "# Use test data from 2019 to report in paper\n",
    "Test_y_1 = Test_a_df['Y_1']\n",
    "Test_y_3 = Test_a_df['Y_3']\n",
    "Test_y_5 = Test_a_df['Y_5']\n",
    "Test_y_10 = Test_a_df['Y_10']\n",
    "Test_y_14 = Test_a_df['Y_14']\n",
    "Test_y_20 = Test_a_df['Y_20']\n",
    "\n",
    "X_test_1 = Test_a_df[['MACD', 'MOM1', 'Volume_Agent']]\n",
    "X_test_3 =Test_a_df[['MACD', 'MOM3', 'STD_3', 'Volume_Agent']]\n",
    "X_test_5 = Test_a_df[['MACD', 'MOM5', 'STD_5', 'Volume_Agent']]\n",
    "X_test_10 = Test_a_df[['MACD', 'MOM10', 'STD_10', 'Volume_Agent']]\n",
    "X_test_14 = Test_a_df[['MACD', 'MOM14', 'STD_14', 'Volume_Agent']]\n",
    "X_test_20 = Test_a_df[['MACD', 'MOM20', 'STD_20', 'Volume_Agent']]\n",
    "\n",
    "print(clf_LR_all_1.score(X_test_1, Test_y_1))\n",
    "print(clf_LR_all_3.score(X_test_3, Test_y_3))\n",
    "print(clf_LR_all_5.score(X_test_5, Test_y_5))\n",
    "print(clf_LR_all_10.score(X_test_10, Test_y_10))\n",
    "print(clf_LR_all_14.score(X_test_14, Test_y_14))\n",
    "print(clf_LR_all_20.score(X_test_20, Test_y_20))"
   ]
  },
  {
   "cell_type": "code",
   "execution_count": 30,
   "metadata": {},
   "outputs": [
    {
     "name": "stdout",
     "output_type": "stream",
     "text": [
      "DT (all features) training accuracy on 1 day ahead: 0.48586644817697666\n",
      "DT (all features) prediction accuracy on 1 day ahead: 0.5142857142857142\n",
      "DT (all features)  training accuracy on 3 days ahead: 0.4678410487505121\n",
      "DT (all features) prediction accuracy on 3 days ahead: 0.3183673469387755\n",
      "DT (all features) training accuracy on 5 days ahead: 0.5043015157722245\n",
      "DT (all features) prediction accuracy on 5 days ahead: 0.35918367346938773\n",
      "DT (all features) training accuracy on 10 day ahead: 0.5571487095452683\n",
      "DT (all features) prediction accuracy on 10 day ahead: 0.3795918367346939\n",
      "DT (all features) training accuracy on 14 days ahead: 0.5899221630479312\n",
      "DT (all features) prediction accuracy on 14 days ahead: 0.45714285714285713\n",
      "DT (all features) training accuracy on 20 day ahead: 0.6058992216304793\n",
      "DT (all features) prediction accuracy on 20 day ahead: 0.47346938775510206\n"
     ]
    }
   ],
   "source": [
    "from sklearn.tree import DecisionTreeClassifier\n",
    "clf_LR_all_1 = DecisionTreeClassifier(random_state=0,  max_depth = 6, min_weight_fraction_leaf = 0.05).fit(X_train_1, Train_y_1)\n",
    "print('DT (all features) training accuracy on 1 day ahead:', clf_LR_all_1.score(X_train_1, Train_y_1))\n",
    "print('DT (all features) prediction accuracy on 1 day ahead:', clf_LR_all_1.score(X_test_1, Test_y_1))\n",
    "\n",
    "clf_LR_all_3 = DecisionTreeClassifier(random_state=0, max_depth = 6, min_weight_fraction_leaf = 0.05).fit(X_train_3, Train_y_3)\n",
    "print('DT (all features)  training accuracy on 3 days ahead:', clf_LR_all_3.score(X_train_3, Train_y_3))\n",
    "print('DT (all features) prediction accuracy on 3 days ahead:', clf_LR_all_3.score(X_test_3, Test_y_3))\n",
    "\n",
    "clf_LR_all_5 = DecisionTreeClassifier(random_state=0, max_depth = 6, min_weight_fraction_leaf = 0.05).fit(X_train_5, Train_y_5)\n",
    "print('DT (all features) training accuracy on 5 days ahead:', clf_LR_all_5.score(X_train_5, Train_y_5))\n",
    "print('DT (all features) prediction accuracy on 5 days ahead:', clf_LR_all_5.score(X_test_5, Test_y_5))\n",
    "\n",
    "clf_LR_all_10 = DecisionTreeClassifier(random_state=0, max_depth = 6, min_weight_fraction_leaf = 0.05).fit(X_train_10, Train_y_10)\n",
    "print('DT (all features) training accuracy on 10 day ahead:', clf_LR_all_10.score(X_train_10, Train_y_10))\n",
    "print('DT (all features) prediction accuracy on 10 day ahead:', clf_LR_all_10.score(X_test_10, Test_y_10))\n",
    "\n",
    "clf_LR_all_14 = DecisionTreeClassifier(random_state=0, max_depth = 6, min_weight_fraction_leaf = 0.05).fit(X_train_14, Train_y_14)\n",
    "print('DT (all features) training accuracy on 14 days ahead:', clf_LR_all_14.score(X_train_14, Train_y_14))\n",
    "print('DT (all features) prediction accuracy on 14 days ahead:', clf_LR_all_14.score(X_test_14, Test_y_14))\n",
    "\n",
    "clf_LR_all_20 = DecisionTreeClassifier(random_state=0, max_depth = 6, min_weight_fraction_leaf = 0.05).fit(X_train_20, Train_y_20)\n",
    "print('DT (all features) training accuracy on 20 day ahead:', clf_LR_all_20.score(X_train_20, Train_y_20))\n",
    "print('DT (all features) prediction accuracy on 20 day ahead:', clf_LR_all_20.score(X_test_20, Test_y_20))"
   ]
  },
  {
   "cell_type": "code",
   "execution_count": 49,
   "metadata": {},
   "outputs": [],
   "source": [
    "# Use test data from 2019 to report in paper\n",
    "Test_y_1 = Test_a_df['Y_1']\n",
    "Test_y_3 = Test_a_df['Y_3']\n",
    "Test_y_5 = Test_a_df['Y_5']\n",
    "Test_y_10 = Test_a_df['Y_10']\n",
    "Test_y_14 = Test_a_df['Y_14']\n",
    "Test_y_20 = Test_a_df['Y_20']\n",
    "\n",
    "X_test_1 = Test_a_df[['MACD', 'MOM1', 'Volume_Agent']]\n",
    "X_test_3 =Test_a_df[['MACD', 'MOM3', 'STD_3', 'Volume_Agent']]\n",
    "X_test_5 = Test_a_df[['MACD', 'MOM5', 'STD_5', 'Volume_Agent']]\n",
    "X_test_10 = Test_a_df[['MACD', 'MOM10', 'STD_10', 'Volume_Agent']]\n",
    "X_test_14 = Test_a_df[['MACD', 'MOM14', 'STD_14', 'Volume_Agent']]\n",
    "X_test_20 = Test_a_df[['MACD', 'MOM20', 'STD_20', 'Volume_Agent']]"
   ]
  },
  {
   "cell_type": "code",
   "execution_count": 50,
   "metadata": {},
   "outputs": [
    {
     "name": "stdout",
     "output_type": "stream",
     "text": [
      "0.5802469135802469\n",
      "0.3374485596707819\n",
      "0.32098765432098764\n",
      "0.4156378600823045\n",
      "0.522633744855967\n",
      "0.5390946502057613\n"
     ]
    }
   ],
   "source": [
    "print(clf_LR_all_1.score(X_test_1, Test_y_1))\n",
    "print(clf_LR_all_3.score(X_test_3, Test_y_3))\n",
    "print(clf_LR_all_5.score(X_test_5, Test_y_5))\n",
    "print(clf_LR_all_10.score(X_test_10, Test_y_10))\n",
    "print(clf_LR_all_14.score(X_test_14, Test_y_14))\n",
    "print(clf_LR_all_20.score(X_test_20, Test_y_20))"
   ]
  },
  {
   "cell_type": "code",
   "execution_count": 51,
   "metadata": {},
   "outputs": [],
   "source": [
    "Pred_y_1 = clf_LR_all_1.predict(X_test_1)\n",
    "Pred_y_3 = clf_LR_all_3.predict(X_test_3)\n",
    "Pred_y_5 = clf_LR_all_5.predict(X_test_5)\n",
    "Pred_y_10 = clf_LR_all_10.predict(X_test_10)\n",
    "Pred_y_14 = clf_LR_all_14.predict(X_test_14)\n",
    "Pred_y_20 = clf_LR_all_20.predict(X_test_20)"
   ]
  },
  {
   "cell_type": "code",
   "execution_count": 52,
   "metadata": {},
   "outputs": [
    {
     "name": "stdout",
     "output_type": "stream",
     "text": [
      "              precision    recall  f1-score   support\n",
      "\n",
      "          -1       0.00      0.00      0.00        46\n",
      "           0       0.61      0.91      0.73       148\n",
      "           1       0.27      0.12      0.17        49\n",
      "\n",
      "    accuracy                           0.58       243\n",
      "   macro avg       0.29      0.34      0.30       243\n",
      "weighted avg       0.43      0.58      0.48       243\n",
      "\n"
     ]
    },
    {
     "name": "stderr",
     "output_type": "stream",
     "text": [
      "C:\\Users\\User\\anaconda3\\lib\\site-packages\\sklearn\\metrics\\_classification.py:1272: UndefinedMetricWarning: Precision and F-score are ill-defined and being set to 0.0 in labels with no predicted samples. Use `zero_division` parameter to control this behavior.\n",
      "  _warn_prf(average, modifier, msg_start, len(result))\n"
     ]
    }
   ],
   "source": [
    "from sklearn.metrics import classification_report\n",
    "print(classification_report(Test_y_1, Pred_y_1))"
   ]
  },
  {
   "cell_type": "code",
   "execution_count": 53,
   "metadata": {},
   "outputs": [
    {
     "name": "stdout",
     "output_type": "stream",
     "text": [
      "              precision    recall  f1-score   support\n",
      "\n",
      "          -1       0.35      0.44      0.39        73\n",
      "           0       0.19      0.04      0.06        82\n",
      "           1       0.35      0.53      0.42        88\n",
      "\n",
      "    accuracy                           0.34       243\n",
      "   macro avg       0.29      0.34      0.29       243\n",
      "weighted avg       0.29      0.34      0.29       243\n",
      "\n"
     ]
    }
   ],
   "source": [
    "print(classification_report(Test_y_3, Pred_y_3))"
   ]
  },
  {
   "cell_type": "code",
   "execution_count": 54,
   "metadata": {},
   "outputs": [
    {
     "name": "stdout",
     "output_type": "stream",
     "text": [
      "              precision    recall  f1-score   support\n",
      "\n",
      "          -1       0.28      0.28      0.28        82\n",
      "           0       0.00      0.00      0.00        69\n",
      "           1       0.34      0.60      0.43        92\n",
      "\n",
      "    accuracy                           0.32       243\n",
      "   macro avg       0.21      0.29      0.24       243\n",
      "weighted avg       0.22      0.32      0.26       243\n",
      "\n"
     ]
    }
   ],
   "source": [
    "print(classification_report(Test_y_5, Pred_y_5))"
   ]
  },
  {
   "cell_type": "code",
   "execution_count": 55,
   "metadata": {},
   "outputs": [
    {
     "name": "stdout",
     "output_type": "stream",
     "text": [
      "              precision    recall  f1-score   support\n",
      "\n",
      "          -1       0.43      0.16      0.23        96\n",
      "           0       0.00      0.00      0.00        45\n",
      "           1       0.41      0.84      0.55       102\n",
      "\n",
      "    accuracy                           0.42       243\n",
      "   macro avg       0.28      0.33      0.26       243\n",
      "weighted avg       0.34      0.42      0.32       243\n",
      "\n"
     ]
    }
   ],
   "source": [
    "print(classification_report(Test_y_10, Pred_y_10))"
   ]
  },
  {
   "cell_type": "code",
   "execution_count": 56,
   "metadata": {},
   "outputs": [
    {
     "name": "stdout",
     "output_type": "stream",
     "text": [
      "              precision    recall  f1-score   support\n",
      "\n",
      "          -1       0.49      0.64      0.56        97\n",
      "           0       0.00      0.00      0.00        42\n",
      "           1       0.56      0.62      0.59       104\n",
      "\n",
      "    accuracy                           0.52       243\n",
      "   macro avg       0.35      0.42      0.38       243\n",
      "weighted avg       0.43      0.52      0.47       243\n",
      "\n"
     ]
    }
   ],
   "source": [
    "print(classification_report(Test_y_14, Pred_y_14))"
   ]
  },
  {
   "cell_type": "code",
   "execution_count": 57,
   "metadata": {},
   "outputs": [
    {
     "name": "stdout",
     "output_type": "stream",
     "text": [
      "              precision    recall  f1-score   support\n",
      "\n",
      "          -1       0.65      0.45      0.53       113\n",
      "           0       0.00      0.00      0.00        28\n",
      "           1       0.48      0.78      0.60       102\n",
      "\n",
      "    accuracy                           0.54       243\n",
      "   macro avg       0.38      0.41      0.38       243\n",
      "weighted avg       0.51      0.54      0.50       243\n",
      "\n"
     ]
    }
   ],
   "source": [
    "print(classification_report(Test_y_20, Pred_y_20))"
   ]
  },
  {
   "cell_type": "code",
   "execution_count": 58,
   "metadata": {},
   "outputs": [
    {
     "data": {
      "text/plain": [
       "array([0.44745931, 0.55254069, 0.        ])"
      ]
     },
     "execution_count": 58,
     "metadata": {},
     "output_type": "execute_result"
    }
   ],
   "source": [
    "clf_LR_all_1.feature_importances_"
   ]
  },
  {
   "cell_type": "code",
   "execution_count": 59,
   "metadata": {},
   "outputs": [
    {
     "data": {
      "text/plain": [
       "array([0.56976271, 0.21561306, 0.21462423, 0.        ])"
      ]
     },
     "execution_count": 59,
     "metadata": {},
     "output_type": "execute_result"
    }
   ],
   "source": [
    "clf_LR_all_3.feature_importances_"
   ]
  },
  {
   "cell_type": "code",
   "execution_count": 60,
   "metadata": {},
   "outputs": [
    {
     "data": {
      "text/plain": [
       "array([0.41295118, 0.08018301, 0.50686581, 0.        ])"
      ]
     },
     "execution_count": 60,
     "metadata": {},
     "output_type": "execute_result"
    }
   ],
   "source": [
    "clf_LR_all_5.feature_importances_"
   ]
  },
  {
   "cell_type": "code",
   "execution_count": 61,
   "metadata": {},
   "outputs": [
    {
     "data": {
      "text/plain": [
       "array([0.08621677, 0.52131511, 0.36069666, 0.03177146])"
      ]
     },
     "execution_count": 61,
     "metadata": {},
     "output_type": "execute_result"
    }
   ],
   "source": [
    "clf_LR_all_10.feature_importances_"
   ]
  },
  {
   "cell_type": "code",
   "execution_count": 62,
   "metadata": {},
   "outputs": [
    {
     "data": {
      "text/plain": [
       "array([0.33943182, 0.20550703, 0.45506116, 0.        ])"
      ]
     },
     "execution_count": 62,
     "metadata": {},
     "output_type": "execute_result"
    }
   ],
   "source": [
    "clf_LR_all_14.feature_importances_"
   ]
  },
  {
   "cell_type": "code",
   "execution_count": 63,
   "metadata": {},
   "outputs": [
    {
     "data": {
      "text/plain": [
       "array([0.20996348, 0.35508355, 0.43495297, 0.        ])"
      ]
     },
     "execution_count": 63,
     "metadata": {},
     "output_type": "execute_result"
    }
   ],
   "source": [
    "clf_LR_all_20.feature_importances_"
   ]
  },
  {
   "cell_type": "markdown",
   "metadata": {},
   "source": [
    "### This is for 2020!"
   ]
  },
  {
   "cell_type": "code",
   "execution_count": 22,
   "metadata": {},
   "outputs": [],
   "source": [
    "# Use test data from 2019 to report in paper\n",
    "Test_b_df = pd.read_csv('SET_Test_b.csv')\n",
    "Test_b_df = Test_b_df.iloc[:-20, :]\n",
    "\n",
    "Test_y_1b = Test_b_df['Y_1']\n",
    "Test_y_3b = Test_b_df['Y_3']\n",
    "Test_y_5b = Test_b_df['Y_5']\n",
    "Test_y_10b = Test_b_df['Y_10']\n",
    "Test_y_14b = Test_b_df['Y_14']\n",
    "Test_y_20b = Test_b_df['Y_20']\n",
    "\n",
    "X_test_1b = Test_b_df[['MACD', 'MOM1', 'Volume_Agent']]\n",
    "X_test_3b =Test_b_df[['MACD', 'MOM3', 'STD_3', 'Volume_Agent']]\n",
    "X_test_5b = Test_b_df[['MACD', 'MOM5', 'STD_5', 'Volume_Agent']]\n",
    "X_test_10b = Test_b_df[['MACD', 'MOM10', 'STD_10', 'Volume_Agent']]\n",
    "X_test_14b = Test_b_df[['MACD', 'MOM14', 'STD_14', 'Volume_Agent']]\n",
    "X_test_20b = Test_b_df[['MACD', 'MOM20', 'STD_20', 'Volume_Agent']]\n",
    "\n",
    "\n",
    "X_test_lag_one = Test_b_df[['Y_N_1']]"
   ]
  },
  {
   "cell_type": "code",
   "execution_count": 42,
   "metadata": {},
   "outputs": [
    {
     "data": {
      "text/plain": [
       " 1    78\n",
       " 0    73\n",
       "-1    72\n",
       "Name: Y_1, dtype: int64"
      ]
     },
     "execution_count": 42,
     "metadata": {},
     "output_type": "execute_result"
    }
   ],
   "source": [
    "Test_y_1b.value_counts()"
   ]
  },
  {
   "cell_type": "code",
   "execution_count": 43,
   "metadata": {},
   "outputs": [
    {
     "data": {
      "text/plain": [
       "-1    94\n",
       " 1    86\n",
       " 0    43\n",
       "Name: Y_3, dtype: int64"
      ]
     },
     "execution_count": 43,
     "metadata": {},
     "output_type": "execute_result"
    }
   ],
   "source": [
    "Test_y_3b.value_counts()"
   ]
  },
  {
   "cell_type": "code",
   "execution_count": 44,
   "metadata": {},
   "outputs": [
    {
     "data": {
      "text/plain": [
       " 1    97\n",
       "-1    96\n",
       " 0    30\n",
       "Name: Y_5, dtype: int64"
      ]
     },
     "execution_count": 44,
     "metadata": {},
     "output_type": "execute_result"
    }
   ],
   "source": [
    "Test_y_5b.value_counts()"
   ]
  },
  {
   "cell_type": "code",
   "execution_count": 45,
   "metadata": {},
   "outputs": [
    {
     "data": {
      "text/plain": [
       "-1    102\n",
       " 1     98\n",
       " 0     23\n",
       "Name: Y_10, dtype: int64"
      ]
     },
     "execution_count": 45,
     "metadata": {},
     "output_type": "execute_result"
    }
   ],
   "source": [
    "Test_y_10b.value_counts()"
   ]
  },
  {
   "cell_type": "code",
   "execution_count": 46,
   "metadata": {},
   "outputs": [
    {
     "data": {
      "text/plain": [
       "-1    123\n",
       " 1     87\n",
       " 0     13\n",
       "Name: Y_14, dtype: int64"
      ]
     },
     "execution_count": 46,
     "metadata": {},
     "output_type": "execute_result"
    }
   ],
   "source": [
    "Test_y_14b.value_counts()"
   ]
  },
  {
   "cell_type": "code",
   "execution_count": 47,
   "metadata": {},
   "outputs": [
    {
     "data": {
      "text/plain": [
       "-1    127\n",
       " 1     90\n",
       " 0      6\n",
       "Name: Y_20, dtype: int64"
      ]
     },
     "execution_count": 47,
     "metadata": {},
     "output_type": "execute_result"
    }
   ],
   "source": [
    "Test_y_20b.value_counts()"
   ]
  },
  {
   "cell_type": "code",
   "execution_count": 48,
   "metadata": {},
   "outputs": [
    {
     "data": {
      "text/html": [
       "<div>\n",
       "<style scoped>\n",
       "    .dataframe tbody tr th:only-of-type {\n",
       "        vertical-align: middle;\n",
       "    }\n",
       "\n",
       "    .dataframe tbody tr th {\n",
       "        vertical-align: top;\n",
       "    }\n",
       "\n",
       "    .dataframe thead th {\n",
       "        text-align: right;\n",
       "    }\n",
       "</style>\n",
       "<table border=\"1\" class=\"dataframe\">\n",
       "  <thead>\n",
       "    <tr style=\"text-align: right;\">\n",
       "      <th>Y_10</th>\n",
       "      <th>-1</th>\n",
       "      <th>0</th>\n",
       "      <th>1</th>\n",
       "    </tr>\n",
       "    <tr>\n",
       "      <th>Y_1</th>\n",
       "      <th></th>\n",
       "      <th></th>\n",
       "      <th></th>\n",
       "    </tr>\n",
       "  </thead>\n",
       "  <tbody>\n",
       "    <tr>\n",
       "      <th>-1</th>\n",
       "      <td>41</td>\n",
       "      <td>8</td>\n",
       "      <td>23</td>\n",
       "    </tr>\n",
       "    <tr>\n",
       "      <th>0</th>\n",
       "      <td>38</td>\n",
       "      <td>7</td>\n",
       "      <td>28</td>\n",
       "    </tr>\n",
       "    <tr>\n",
       "      <th>1</th>\n",
       "      <td>23</td>\n",
       "      <td>8</td>\n",
       "      <td>47</td>\n",
       "    </tr>\n",
       "  </tbody>\n",
       "</table>\n",
       "</div>"
      ],
      "text/plain": [
       "Y_10  -1   0   1\n",
       "Y_1             \n",
       "-1    41   8  23\n",
       " 0    38   7  28\n",
       " 1    23   8  47"
      ]
     },
     "execution_count": 48,
     "metadata": {},
     "output_type": "execute_result"
    }
   ],
   "source": [
    "pd.crosstab(Test_y_1b, Test_y_10b) # 43% in the diagonal"
   ]
  },
  {
   "cell_type": "code",
   "execution_count": 49,
   "metadata": {},
   "outputs": [
    {
     "data": {
      "text/html": [
       "<div>\n",
       "<style scoped>\n",
       "    .dataframe tbody tr th:only-of-type {\n",
       "        vertical-align: middle;\n",
       "    }\n",
       "\n",
       "    .dataframe tbody tr th {\n",
       "        vertical-align: top;\n",
       "    }\n",
       "\n",
       "    .dataframe thead th {\n",
       "        text-align: right;\n",
       "    }\n",
       "</style>\n",
       "<table border=\"1\" class=\"dataframe\">\n",
       "  <thead>\n",
       "    <tr style=\"text-align: right;\">\n",
       "      <th>Y_14</th>\n",
       "      <th>-1</th>\n",
       "      <th>0</th>\n",
       "      <th>1</th>\n",
       "    </tr>\n",
       "    <tr>\n",
       "      <th>Y_3</th>\n",
       "      <th></th>\n",
       "      <th></th>\n",
       "      <th></th>\n",
       "    </tr>\n",
       "  </thead>\n",
       "  <tbody>\n",
       "    <tr>\n",
       "      <th>-1</th>\n",
       "      <td>76</td>\n",
       "      <td>2</td>\n",
       "      <td>16</td>\n",
       "    </tr>\n",
       "    <tr>\n",
       "      <th>0</th>\n",
       "      <td>23</td>\n",
       "      <td>5</td>\n",
       "      <td>15</td>\n",
       "    </tr>\n",
       "    <tr>\n",
       "      <th>1</th>\n",
       "      <td>24</td>\n",
       "      <td>6</td>\n",
       "      <td>56</td>\n",
       "    </tr>\n",
       "  </tbody>\n",
       "</table>\n",
       "</div>"
      ],
      "text/plain": [
       "Y_14  -1   0   1\n",
       "Y_3             \n",
       "-1    76   2  16\n",
       " 0    23   5  15\n",
       " 1    24   6  56"
      ]
     },
     "execution_count": 49,
     "metadata": {},
     "output_type": "execute_result"
    }
   ],
   "source": [
    "pd.crosstab(Test_y_3b, Test_y_14b) # 61.4% in the diagonal"
   ]
  },
  {
   "cell_type": "code",
   "execution_count": 50,
   "metadata": {},
   "outputs": [
    {
     "data": {
      "text/html": [
       "<div>\n",
       "<style scoped>\n",
       "    .dataframe tbody tr th:only-of-type {\n",
       "        vertical-align: middle;\n",
       "    }\n",
       "\n",
       "    .dataframe tbody tr th {\n",
       "        vertical-align: top;\n",
       "    }\n",
       "\n",
       "    .dataframe thead th {\n",
       "        text-align: right;\n",
       "    }\n",
       "</style>\n",
       "<table border=\"1\" class=\"dataframe\">\n",
       "  <thead>\n",
       "    <tr style=\"text-align: right;\">\n",
       "      <th>Y_20</th>\n",
       "      <th>-1</th>\n",
       "      <th>0</th>\n",
       "      <th>1</th>\n",
       "    </tr>\n",
       "    <tr>\n",
       "      <th>Y_5</th>\n",
       "      <th></th>\n",
       "      <th></th>\n",
       "      <th></th>\n",
       "    </tr>\n",
       "  </thead>\n",
       "  <tbody>\n",
       "    <tr>\n",
       "      <th>-1</th>\n",
       "      <td>78</td>\n",
       "      <td>2</td>\n",
       "      <td>16</td>\n",
       "    </tr>\n",
       "    <tr>\n",
       "      <th>0</th>\n",
       "      <td>17</td>\n",
       "      <td>1</td>\n",
       "      <td>12</td>\n",
       "    </tr>\n",
       "    <tr>\n",
       "      <th>1</th>\n",
       "      <td>32</td>\n",
       "      <td>3</td>\n",
       "      <td>62</td>\n",
       "    </tr>\n",
       "  </tbody>\n",
       "</table>\n",
       "</div>"
      ],
      "text/plain": [
       "Y_20  -1   0   1\n",
       "Y_5             \n",
       "-1    78   2  16\n",
       " 0    17   1  12\n",
       " 1    32   3  62"
      ]
     },
     "execution_count": 50,
     "metadata": {},
     "output_type": "execute_result"
    }
   ],
   "source": [
    "pd.crosstab(Test_y_5b, Test_y_20b) # 63.3% in the diagonal"
   ]
  },
  {
   "cell_type": "code",
   "execution_count": 54,
   "metadata": {},
   "outputs": [
    {
     "name": "stdout",
     "output_type": "stream",
     "text": [
      "Dummy classifier (most frequent) prediction accuracy on 1 day ahead: 0.3273542600896861\n",
      "Dummy classifier (most frequent) prediction accuracy on 3 day ahead: 0.38565022421524664\n",
      "Dummy classifier (most frequent) prediction accuracy on 5 day ahead: 0.4349775784753363\n",
      "Dummy classifier (most frequent) prediction accuracy on 10 day ahead: 0.43946188340807174\n",
      "Dummy classifier (most frequent) prediction accuracy on 14 day ahead: 0.3901345291479821\n",
      "Dummy classifier (most frequent) prediction accuracy on 20 day ahead: 0.40358744394618834\n"
     ]
    }
   ],
   "source": [
    "print('Dummy classifier (most frequent) prediction accuracy on 1 day ahead:', clf_dummy_mf_1.score(X_test_lag_one, Test_y_1b))\n",
    "print('Dummy classifier (most frequent) prediction accuracy on 3 day ahead:', clf_dummy_mf_3.score(X_test_lag_one, Test_y_3b))\n",
    "print('Dummy classifier (most frequent) prediction accuracy on 5 day ahead:', clf_dummy_mf_5.score(X_test_lag_one, Test_y_5b))\n",
    "print('Dummy classifier (most frequent) prediction accuracy on 10 day ahead:', clf_dummy_mf_10.score(X_test_lag_one, Test_y_10b))\n",
    "print('Dummy classifier (most frequent) prediction accuracy on 14 day ahead:', clf_dummy_mf_14.score(X_test_lag_one, Test_y_14b))\n",
    "print('Dummy classifier (most frequent) prediction accuracy on 20 day ahead:', clf_dummy_mf_20.score(X_test_lag_one, Test_y_20b))"
   ]
  },
  {
   "cell_type": "code",
   "execution_count": 25,
   "metadata": {},
   "outputs": [
    {
     "name": "stdout",
     "output_type": "stream",
     "text": [
      "Logistic regression on lagged prediction accuracy on 1 day ahead: 0.3273542600896861\n",
      "Logistic regression on lagged prediction accuracy on 3 day ahead: 0.38565022421524664\n",
      "Logistic regression on lagged prediction accuracy on 5 day ahead: 0.4349775784753363\n",
      "Logistic regression on lagged prediction accuracy on 10 day ahead: 0.43946188340807174\n",
      "Logistic regression on lagged prediction accuracy on 14 day ahead: 0.3901345291479821\n",
      "Logistic regression on lagged prediction accuracy on 20 day ahead: 0.40358744394618834\n"
     ]
    }
   ],
   "source": [
    "# This is for benchmark\n",
    "print('Logistic regression on lagged prediction accuracy on 1 day ahead:', clf_LR_1.score(X_test_lag_one, Test_y_1b))\n",
    "print('Logistic regression on lagged prediction accuracy on 3 day ahead:', clf_LR_3.score(X_test_lag_one, Test_y_3b))\n",
    "print('Logistic regression on lagged prediction accuracy on 5 day ahead:', clf_LR_5.score(X_test_lag_one, Test_y_5b))\n",
    "print('Logistic regression on lagged prediction accuracy on 10 day ahead:', clf_LR_10.score(X_test_lag_one, Test_y_10b))\n",
    "print('Logistic regression on lagged prediction accuracy on 14 day ahead:', clf_LR_14.score(X_test_lag_one, Test_y_14b))\n",
    "print('Logistic regression on lagged prediction accuracy on 20 day ahead:', clf_LR_20.score(X_test_lag_one, Test_y_20b))"
   ]
  },
  {
   "cell_type": "code",
   "execution_count": 29,
   "metadata": {},
   "outputs": [
    {
     "name": "stdout",
     "output_type": "stream",
     "text": [
      "Logistic regression (all features) prediction accuracy on 1 day ahead: 0.3721973094170404\n",
      "Logistic regression (all features) prediction accuracy on 3 day ahead: 0.35874439461883406\n",
      "Logistic regression (all features) prediction accuracy on 5 day ahead: 0.4125560538116592\n",
      "Logistic regression (all features) prediction accuracy on 10 day ahead: 0.4439461883408072\n",
      "Logistic regression (all features) prediction accuracy on 14 day ahead: 0.3542600896860987\n",
      "Logistic regression (all features) prediction accuracy on 20 day ahead: 0.3452914798206278\n"
     ]
    }
   ],
   "source": [
    "# This is for logistic regression\n",
    "print('Logistic regression (all features) prediction accuracy on 1 day ahead:', clf_LR_all_1.score(X_test_1b, Test_y_1b))\n",
    "print('Logistic regression (all features) prediction accuracy on 3 day ahead:', clf_LR_all_3.score(X_test_3b, Test_y_3b))\n",
    "print('Logistic regression (all features) prediction accuracy on 5 day ahead:', clf_LR_all_5.score(X_test_5b, Test_y_5b))\n",
    "print('Logistic regression (all features) prediction accuracy on 10 day ahead:', clf_LR_all_10.score(X_test_10b, Test_y_10b))\n",
    "print('Logistic regression (all features) prediction accuracy on 14 day ahead:', clf_LR_all_14.score(X_test_14b, Test_y_14b))\n",
    "print('Logistic regression (all features) prediction accuracy on 20 day ahead:', clf_LR_all_20.score(X_test_20b, Test_y_20b))"
   ]
  },
  {
   "cell_type": "code",
   "execution_count": 31,
   "metadata": {},
   "outputs": [
    {
     "name": "stdout",
     "output_type": "stream",
     "text": [
      "DT (all features) prediction accuracy on 1 day ahead: 0.3991031390134529\n",
      "DT (all features) prediction accuracy on 3 day ahead: 0.3811659192825112\n",
      "DT (all features) prediction accuracy on 5 day ahead: 0.47085201793721976\n",
      "DT (all features) prediction accuracy on 10 day ahead: 0.4798206278026906\n",
      "DT (all features) prediction accuracy on 14 day ahead: 0.5022421524663677\n",
      "DT (all features) prediction accuracy on 20 day ahead: 0.42152466367713004\n"
     ]
    }
   ],
   "source": [
    "# This is for decision tree\n",
    "print('DT (all features) prediction accuracy on 1 day ahead:', clf_LR_all_1.score(X_test_1b, Test_y_1b))\n",
    "print('DT (all features) prediction accuracy on 3 day ahead:', clf_LR_all_3.score(X_test_3b, Test_y_3b))\n",
    "print('DT (all features) prediction accuracy on 5 day ahead:', clf_LR_all_5.score(X_test_5b, Test_y_5b))\n",
    "print('DT (all features) prediction accuracy on 10 day ahead:', clf_LR_all_10.score(X_test_10b, Test_y_10b))\n",
    "print('DT (all features) prediction accuracy on 14 day ahead:', clf_LR_all_14.score(X_test_14b, Test_y_14b))\n",
    "print('DT (all features) prediction accuracy on 20 day ahead:', clf_LR_all_20.score(X_test_20b, Test_y_20b))"
   ]
  },
  {
   "cell_type": "code",
   "execution_count": 32,
   "metadata": {},
   "outputs": [],
   "source": [
    "Pred_y_1b = clf_LR_all_1.predict(X_test_1b)\n",
    "Pred_y_3b = clf_LR_all_3.predict(X_test_3b)\n",
    "Pred_y_5b = clf_LR_all_5.predict(X_test_5b)\n",
    "Pred_y_10b = clf_LR_all_10.predict(X_test_10b)\n",
    "Pred_y_14b = clf_LR_all_14.predict(X_test_14b)\n",
    "Pred_y_20b = clf_LR_all_20.predict(X_test_20b)"
   ]
  },
  {
   "cell_type": "code",
   "execution_count": 34,
   "metadata": {},
   "outputs": [
    {
     "name": "stdout",
     "output_type": "stream",
     "text": [
      "              precision    recall  f1-score   support\n",
      "\n",
      "          -1       0.00      0.00      0.00        72\n",
      "           0       0.38      0.79      0.51        73\n",
      "           1       0.45      0.40      0.42        78\n",
      "\n",
      "    accuracy                           0.40       223\n",
      "   macro avg       0.28      0.40      0.31       223\n",
      "weighted avg       0.28      0.40      0.31       223\n",
      "\n"
     ]
    },
    {
     "name": "stderr",
     "output_type": "stream",
     "text": [
      "C:\\Users\\User\\anaconda3\\lib\\site-packages\\sklearn\\metrics\\_classification.py:1272: UndefinedMetricWarning: Precision and F-score are ill-defined and being set to 0.0 in labels with no predicted samples. Use `zero_division` parameter to control this behavior.\n",
      "  _warn_prf(average, modifier, msg_start, len(result))\n"
     ]
    }
   ],
   "source": [
    "from sklearn.metrics import classification_report\n",
    "print(classification_report(Test_y_1b, Pred_y_1b))"
   ]
  },
  {
   "cell_type": "code",
   "execution_count": 35,
   "metadata": {},
   "outputs": [
    {
     "name": "stdout",
     "output_type": "stream",
     "text": [
      "              precision    recall  f1-score   support\n",
      "\n",
      "          -1       0.41      0.36      0.38        94\n",
      "           0       0.00      0.00      0.00        43\n",
      "           1       0.38      0.59      0.46        86\n",
      "\n",
      "    accuracy                           0.38       223\n",
      "   macro avg       0.26      0.32      0.28       223\n",
      "weighted avg       0.32      0.38      0.34       223\n",
      "\n"
     ]
    }
   ],
   "source": [
    "print(classification_report(Test_y_3b, Pred_y_3b))"
   ]
  },
  {
   "cell_type": "code",
   "execution_count": 36,
   "metadata": {},
   "outputs": [
    {
     "name": "stdout",
     "output_type": "stream",
     "text": [
      "              precision    recall  f1-score   support\n",
      "\n",
      "          -1       0.51      0.39      0.44        96\n",
      "           0       0.00      0.00      0.00        30\n",
      "           1       0.45      0.70      0.55        97\n",
      "\n",
      "    accuracy                           0.47       223\n",
      "   macro avg       0.32      0.36      0.33       223\n",
      "weighted avg       0.42      0.47      0.43       223\n",
      "\n"
     ]
    }
   ],
   "source": [
    "print(classification_report(Test_y_5b, Pred_y_5b))"
   ]
  },
  {
   "cell_type": "code",
   "execution_count": 37,
   "metadata": {},
   "outputs": [
    {
     "name": "stdout",
     "output_type": "stream",
     "text": [
      "              precision    recall  f1-score   support\n",
      "\n",
      "          -1       0.56      0.24      0.33       102\n",
      "           0       0.00      0.00      0.00        23\n",
      "           1       0.46      0.85      0.60        98\n",
      "\n",
      "    accuracy                           0.48       223\n",
      "   macro avg       0.34      0.36      0.31       223\n",
      "weighted avg       0.46      0.48      0.41       223\n",
      "\n"
     ]
    }
   ],
   "source": [
    "print(classification_report(Test_y_10b, Pred_y_10b))"
   ]
  },
  {
   "cell_type": "code",
   "execution_count": 39,
   "metadata": {},
   "outputs": [
    {
     "name": "stdout",
     "output_type": "stream",
     "text": [
      "              precision    recall  f1-score   support\n",
      "\n",
      "          -1       0.58      0.48      0.52       123\n",
      "           0       0.00      0.00      0.00        13\n",
      "           1       0.44      0.61      0.51        87\n",
      "\n",
      "    accuracy                           0.50       223\n",
      "   macro avg       0.34      0.36      0.34       223\n",
      "weighted avg       0.49      0.50      0.49       223\n",
      "\n"
     ]
    }
   ],
   "source": [
    "print(classification_report(Test_y_14b, Pred_y_14b))"
   ]
  },
  {
   "cell_type": "code",
   "execution_count": 40,
   "metadata": {},
   "outputs": [
    {
     "name": "stdout",
     "output_type": "stream",
     "text": [
      "              precision    recall  f1-score   support\n",
      "\n",
      "          -1       0.51      0.36      0.42       127\n",
      "           0       0.00      0.00      0.00         6\n",
      "           1       0.36      0.53      0.43        90\n",
      "\n",
      "    accuracy                           0.42       223\n",
      "   macro avg       0.29      0.30      0.28       223\n",
      "weighted avg       0.43      0.42      0.41       223\n",
      "\n"
     ]
    }
   ],
   "source": [
    "print(classification_report(Test_y_20b, Pred_y_20b))"
   ]
  },
  {
   "cell_type": "markdown",
   "metadata": {},
   "source": [
    "## Below will not be used anymore!"
   ]
  },
  {
   "cell_type": "code",
   "execution_count": 130,
   "metadata": {},
   "outputs": [
    {
     "name": "stdout",
     "output_type": "stream",
     "text": [
      "RF (all features) training accuracy on 1 day ahead: 0.5092175337976239\n",
      "RF (all features) prediction accuracy on 1 day ahead: 0.4775510204081633\n",
      "RF (all features)  training accuracy on 3 days ahead: 0.49733715690290864\n",
      "RF (all features) prediction accuracy on 3 days ahead: 0.3020408163265306\n",
      "RF (all features) training accuracy on 5 days ahead: 0.5292912740680049\n",
      "RF (all features) prediction accuracy on 5 days ahead: 0.3510204081632653\n",
      "RF (all features) training accuracy on 10 days ahead: 0.5788611224907825\n",
      "RF (all features) prediction accuracy on 10 days ahead: 0.32653061224489793\n",
      "RF (all features) training accuracy on 14 days ahead: 0.6222859483818107\n",
      "RF (all features) prediction accuracy on 14 days ahead: 0.37142857142857144\n",
      "RF (all features) training accuracy on 20 days ahead: 0.6337566571077428\n",
      "RF (all features) prediction accuracy on 20 days ahead: 0.4\n"
     ]
    }
   ],
   "source": [
    "from sklearn.ensemble import RandomForestClassifier\n",
    "clf_LR_all_1 = RandomForestClassifier(random_state=0, max_depth = 8, min_weight_fraction_leaf = 0.03).fit(X_train_1, Train_y_1)\n",
    "print('RF (all features) training accuracy on 1 day ahead:', clf_LR_all_1.score(X_train_1, Train_y_1))\n",
    "print('RF (all features) prediction accuracy on 1 day ahead:', clf_LR_all_1.score(X_test_1, Test_y_1))\n",
    "\n",
    "clf_LR_all_3 = RandomForestClassifier(random_state=0, max_depth = 8, min_weight_fraction_leaf = 0.03).fit(X_train_3, Train_y_3)\n",
    "print('RF (all features)  training accuracy on 3 days ahead:', clf_LR_all_3.score(X_train_3, Train_y_3))\n",
    "print('RF (all features) prediction accuracy on 3 days ahead:', clf_LR_all_3.score(X_test_3, Test_y_3))\n",
    "\n",
    "clf_LR_all_5 = RandomForestClassifier(random_state=0, max_depth = 8, min_weight_fraction_leaf = 0.03).fit(X_train_5, Train_y_5)\n",
    "print('RF (all features) training accuracy on 5 days ahead:', clf_LR_all_5.score(X_train_5, Train_y_5))\n",
    "print('RF (all features) prediction accuracy on 5 days ahead:', clf_LR_all_5.score(X_test_5, Test_y_5))\n",
    "\n",
    "clf_LR_all_10 = RandomForestClassifier(random_state=0, max_depth = 8, min_weight_fraction_leaf = 0.03).fit(X_train_10, Train_y_10)\n",
    "print('RF (all features) training accuracy on 10 days ahead:', clf_LR_all_10.score(X_train_10, Train_y_10))\n",
    "print('RF (all features) prediction accuracy on 10 days ahead:', clf_LR_all_10.score(X_test_10, Test_y_10))\n",
    "\n",
    "clf_LR_all_14 = RandomForestClassifier(random_state=0, max_depth = 8, min_weight_fraction_leaf = 0.03).fit(X_train_14, Train_y_14)\n",
    "print('RF (all features) training accuracy on 14 days ahead:', clf_LR_all_14.score(X_train_14, Train_y_14))\n",
    "print('RF (all features) prediction accuracy on 14 days ahead:', clf_LR_all_14.score(X_test_14, Test_y_14))\n",
    "\n",
    "clf_LR_all_20 = RandomForestClassifier(random_state=0, max_depth = 8, min_weight_fraction_leaf = 0.03).fit(X_train_20, Train_y_20)\n",
    "print('RF (all features) training accuracy on 20 days ahead:', clf_LR_all_20.score(X_train_20, Train_y_20))\n",
    "print('RF (all features) prediction accuracy on 20 days ahead:', clf_LR_all_20.score(X_test_20, Test_y_20))"
   ]
  },
  {
   "cell_type": "code",
   "execution_count": 131,
   "metadata": {},
   "outputs": [],
   "source": [
    "Pred_y_1 = clf_LR_all_1.predict(X_test_1)\n",
    "Pred_y_3 = clf_LR_all_3.predict(X_test_3)\n",
    "Pred_y_5 = clf_LR_all_5.predict(X_test_5)\n",
    "Pred_y_10 = clf_LR_all_10.predict(X_test_10)\n",
    "Pred_y_14 = clf_LR_all_14.predict(X_test_14)\n",
    "Pred_y_20 = clf_LR_all_20.predict(X_test_20)"
   ]
  },
  {
   "cell_type": "code",
   "execution_count": 132,
   "metadata": {},
   "outputs": [
    {
     "name": "stdout",
     "output_type": "stream",
     "text": [
      "              precision    recall  f1-score   support\n",
      "\n",
      "          -1       0.14      0.07      0.09        60\n",
      "           0       0.57      0.77      0.65       137\n",
      "           1       0.23      0.15      0.18        48\n",
      "\n",
      "    accuracy                           0.48       245\n",
      "   macro avg       0.31      0.33      0.31       245\n",
      "weighted avg       0.40      0.48      0.42       245\n",
      "\n"
     ]
    }
   ],
   "source": [
    "from sklearn.metrics import classification_report\n",
    "print(classification_report(Test_y_1, Pred_y_1))"
   ]
  },
  {
   "cell_type": "code",
   "execution_count": 133,
   "metadata": {},
   "outputs": [
    {
     "name": "stdout",
     "output_type": "stream",
     "text": [
      "              precision    recall  f1-score   support\n",
      "\n",
      "          -1       0.36      0.28      0.32        95\n",
      "           0       0.36      0.06      0.10        71\n",
      "           1       0.27      0.54      0.36        79\n",
      "\n",
      "    accuracy                           0.30       245\n",
      "   macro avg       0.33      0.29      0.26       245\n",
      "weighted avg       0.33      0.30      0.27       245\n",
      "\n"
     ]
    }
   ],
   "source": [
    "print(classification_report(Test_y_3, Pred_y_3))"
   ]
  },
  {
   "cell_type": "code",
   "execution_count": 134,
   "metadata": {},
   "outputs": [
    {
     "name": "stdout",
     "output_type": "stream",
     "text": [
      "              precision    recall  f1-score   support\n",
      "\n",
      "          -1       0.41      0.25      0.31       103\n",
      "           0       0.00      0.00      0.00        58\n",
      "           1       0.33      0.71      0.45        84\n",
      "\n",
      "    accuracy                           0.35       245\n",
      "   macro avg       0.25      0.32      0.25       245\n",
      "weighted avg       0.28      0.35      0.29       245\n",
      "\n"
     ]
    },
    {
     "name": "stderr",
     "output_type": "stream",
     "text": [
      "C:\\Users\\User\\anaconda3\\lib\\site-packages\\sklearn\\metrics\\_classification.py:1272: UndefinedMetricWarning: Precision and F-score are ill-defined and being set to 0.0 in labels with no predicted samples. Use `zero_division` parameter to control this behavior.\n",
      "  _warn_prf(average, modifier, msg_start, len(result))\n"
     ]
    }
   ],
   "source": [
    "print(classification_report(Test_y_5, Pred_y_5))"
   ]
  },
  {
   "cell_type": "code",
   "execution_count": 135,
   "metadata": {},
   "outputs": [
    {
     "name": "stdout",
     "output_type": "stream",
     "text": [
      "              precision    recall  f1-score   support\n",
      "\n",
      "          -1       0.39      0.16      0.22       127\n",
      "           0       0.00      0.00      0.00        36\n",
      "           1       0.31      0.73      0.43        82\n",
      "\n",
      "    accuracy                           0.33       245\n",
      "   macro avg       0.23      0.30      0.22       245\n",
      "weighted avg       0.31      0.33      0.26       245\n",
      "\n"
     ]
    }
   ],
   "source": [
    "print(classification_report(Test_y_10, Pred_y_10))"
   ]
  },
  {
   "cell_type": "code",
   "execution_count": 136,
   "metadata": {},
   "outputs": [
    {
     "name": "stdout",
     "output_type": "stream",
     "text": [
      "              precision    recall  f1-score   support\n",
      "\n",
      "          -1       0.56      0.27      0.37       128\n",
      "           0       0.00      0.00      0.00        45\n",
      "           1       0.31      0.78      0.44        72\n",
      "\n",
      "    accuracy                           0.37       245\n",
      "   macro avg       0.29      0.35      0.27       245\n",
      "weighted avg       0.38      0.37      0.32       245\n",
      "\n"
     ]
    }
   ],
   "source": [
    "print(classification_report(Test_y_14, Pred_y_14))"
   ]
  },
  {
   "cell_type": "code",
   "execution_count": 137,
   "metadata": {},
   "outputs": [
    {
     "name": "stdout",
     "output_type": "stream",
     "text": [
      "              precision    recall  f1-score   support\n",
      "\n",
      "          -1       0.77      0.26      0.38       145\n",
      "           0       0.00      0.00      0.00        31\n",
      "           1       0.31      0.88      0.46        69\n",
      "\n",
      "    accuracy                           0.40       245\n",
      "   macro avg       0.36      0.38      0.28       245\n",
      "weighted avg       0.54      0.40      0.36       245\n",
      "\n"
     ]
    }
   ],
   "source": [
    "print(classification_report(Test_y_20, Pred_y_20))"
   ]
  },
  {
   "cell_type": "code",
   "execution_count": 138,
   "metadata": {},
   "outputs": [
    {
     "data": {
      "text/plain": [
       "array([0.47759579, 0.487616  , 0.03478821])"
      ]
     },
     "execution_count": 138,
     "metadata": {},
     "output_type": "execute_result"
    }
   ],
   "source": [
    "clf_LR_all_1.feature_importances_"
   ]
  },
  {
   "cell_type": "code",
   "execution_count": 139,
   "metadata": {},
   "outputs": [
    {
     "data": {
      "text/plain": [
       "array([0.39684013, 0.31326035, 0.25787383, 0.03202569])"
      ]
     },
     "execution_count": 139,
     "metadata": {},
     "output_type": "execute_result"
    }
   ],
   "source": [
    "clf_LR_all_3.feature_importances_"
   ]
  },
  {
   "cell_type": "code",
   "execution_count": 140,
   "metadata": {},
   "outputs": [
    {
     "data": {
      "text/plain": [
       "array([0.39971865, 0.25544499, 0.32013944, 0.02469691])"
      ]
     },
     "execution_count": 140,
     "metadata": {},
     "output_type": "execute_result"
    }
   ],
   "source": [
    "clf_LR_all_5.feature_importances_"
   ]
  },
  {
   "cell_type": "code",
   "execution_count": 141,
   "metadata": {},
   "outputs": [
    {
     "data": {
      "text/plain": [
       "array([0.28319147, 0.34646972, 0.33255063, 0.03778818])"
      ]
     },
     "execution_count": 141,
     "metadata": {},
     "output_type": "execute_result"
    }
   ],
   "source": [
    "clf_LR_all_10.feature_importances_"
   ]
  },
  {
   "cell_type": "code",
   "execution_count": 142,
   "metadata": {},
   "outputs": [
    {
     "data": {
      "text/plain": [
       "array([0.26886272, 0.34316155, 0.35129727, 0.03667845])"
      ]
     },
     "execution_count": 142,
     "metadata": {},
     "output_type": "execute_result"
    }
   ],
   "source": [
    "clf_LR_all_14.feature_importances_"
   ]
  },
  {
   "cell_type": "code",
   "execution_count": 143,
   "metadata": {},
   "outputs": [
    {
     "data": {
      "text/plain": [
       "array([0.26023451, 0.31570017, 0.40519232, 0.018873  ])"
      ]
     },
     "execution_count": 143,
     "metadata": {},
     "output_type": "execute_result"
    }
   ],
   "source": [
    "clf_LR_all_20.feature_importances_"
   ]
  },
  {
   "cell_type": "code",
   "execution_count": 160,
   "metadata": {},
   "outputs": [
    {
     "name": "stdout",
     "output_type": "stream",
     "text": [
      "GBDT (all features) training accuracy on 1 day ahead: 0.51372388365424\n",
      "GBDT (all features) prediction accuracy on 1 day ahead: 0.4897959183673469\n"
     ]
    }
   ],
   "source": [
    "from sklearn.ensemble import GradientBoostingClassifier\n",
    "clf_GT_all_1 = GradientBoostingClassifier(random_state=0, max_depth = 6, min_weight_fraction_leaf = 0.2, learning_rate = 0.5).fit(X_train_1, Train_y_1)\n",
    "print('GBDT (all features) training accuracy on 1 day ahead:', clf_GT_all_1.score(X_train_1, Train_y_1))\n",
    "print('GBDT (all features) prediction accuracy on 1 day ahead:',clf_GT_all_1.score(X_test_1, Test_y_1))"
   ]
  },
  {
   "cell_type": "code",
   "execution_count": 161,
   "metadata": {},
   "outputs": [
    {
     "name": "stdout",
     "output_type": "stream",
     "text": [
      "GBDT (all features) training accuracy on 3 day ahead: 0.5297009422367882\n",
      "GBDT (all features) prediction accuracy on 3 day ahead: 0.3183673469387755\n"
     ]
    }
   ],
   "source": [
    "clf_GT_all_3 = GradientBoostingClassifier(random_state=0, max_depth = 6, min_weight_fraction_leaf = 0.2, learning_rate = 0.5).fit(X_train_3, Train_y_3)\n",
    "print('GBDT (all features) training accuracy on 3 day ahead:', clf_GT_all_3.score(X_train_3, Train_y_3))\n",
    "print('GBDT (all features) prediction accuracy on 3 day ahead:',clf_GT_all_3.score(X_test_3, Test_y_3))"
   ]
  },
  {
   "cell_type": "code",
   "execution_count": 162,
   "metadata": {},
   "outputs": [
    {
     "name": "stdout",
     "output_type": "stream",
     "text": [
      "GBDT (all features) training accuracy on 5 day ahead: 0.5530520278574355\n",
      "GBDT (all features) prediction accuracy on 5 day ahead: 0.3877551020408163\n"
     ]
    }
   ],
   "source": [
    "clf_GT_all_5 = GradientBoostingClassifier(random_state=0, max_depth = 6, min_weight_fraction_leaf = 0.03).fit(X_train_5, Train_y_5)\n",
    "print('GBDT (all features) training accuracy on 5 day ahead:', clf_GT_all_5.score(X_train_5, Train_y_5))\n",
    "print('GBDT (all features) prediction accuracy on 5 day ahead:',clf_GT_all_5.score(X_test_5, Test_y_5))"
   ]
  },
  {
   "cell_type": "code",
   "execution_count": 174,
   "metadata": {},
   "outputs": [
    {
     "name": "stdout",
     "output_type": "stream",
     "text": [
      "GBDT (all features) training accuracy on 10 day ahead: 0.6091765669807456\n",
      "GBDT (all features) prediction accuracy on 10 day ahead: 0.3306122448979592\n"
     ]
    }
   ],
   "source": [
    "clf_GT_all_10 = GradientBoostingClassifier(random_state=0, max_depth = 6, min_weight_fraction_leaf = 0.03).fit(X_train_10, Train_y_10)\n",
    "print('GBDT (all features) training accuracy on 10 day ahead:', clf_GT_all_10.score(X_train_10, Train_y_10))\n",
    "print('GBDT (all features) prediction accuracy on 10 day ahead:',clf_GT_all_10.score(X_test_10, Test_y_10))"
   ]
  },
  {
   "cell_type": "code",
   "execution_count": 178,
   "metadata": {},
   "outputs": [
    {
     "name": "stdout",
     "output_type": "stream",
     "text": [
      "GBDT (all features) training accuracy on 14 day ahead: 0.7251126587464154\n",
      "GBDT (all features) prediction accuracy on 14 day ahead: 0.3469387755102041\n"
     ]
    }
   ],
   "source": [
    "clf_GT_all_14 = GradientBoostingClassifier(random_state=0, max_depth = 8, min_weight_fraction_leaf = 0.03).fit(X_train_14, Train_y_14)\n",
    "print('GBDT (all features) training accuracy on 14 day ahead:', clf_GT_all_14.score(X_train_14, Train_y_14))\n",
    "print('GBDT (all features) prediction accuracy on 14 day ahead:',clf_GT_all_14.score(X_test_14, Test_y_14))"
   ]
  },
  {
   "cell_type": "code",
   "execution_count": 177,
   "metadata": {},
   "outputs": [
    {
     "name": "stdout",
     "output_type": "stream",
     "text": [
      "GBDT (all features) training accuracy on 20 day ahead: 0.7611634575993446\n",
      "GBDT (all features) prediction accuracy on 20 day ahead: 0.42857142857142855\n"
     ]
    }
   ],
   "source": [
    "clf_GT_all_20 = GradientBoostingClassifier(random_state=0, max_depth = 8, min_weight_fraction_leaf = 0.03).fit(X_train_20, Train_y_20)\n",
    "print('GBDT (all features) training accuracy on 20 day ahead:', clf_GT_all_20.score(X_train_20, Train_y_20))\n",
    "print('GBDT (all features) prediction accuracy on 20 day ahead:',clf_GT_all_20.score(X_test_20, Test_y_20))"
   ]
  },
  {
   "cell_type": "code",
   "execution_count": 137,
   "metadata": {},
   "outputs": [],
   "source": [
    "Pred_y_1 = clf_GT_all_1.predict(X_test_1)\n",
    "Pred_y_3 = clf_GT_all_3.predict(X_test_3)\n",
    "Pred_y_5 = clf_GT_all_5.predict(X_test_5)\n",
    "Pred_y_10 = clf_GT_all_10.predict(X_test_10)\n",
    "Pred_y_14 = clf_GT_all_14.predict(X_test_14)\n",
    "Pred_y_20 = clf_GT_all_20.predict(X_test_20)"
   ]
  },
  {
   "cell_type": "code",
   "execution_count": 138,
   "metadata": {},
   "outputs": [
    {
     "name": "stdout",
     "output_type": "stream",
     "text": [
      "              precision    recall  f1-score   support\n",
      "\n",
      "          -1       0.29      0.23      0.26        60\n",
      "           0       0.60      0.66      0.63       137\n",
      "           1       0.22      0.21      0.22        48\n",
      "\n",
      "    accuracy                           0.47       245\n",
      "   macro avg       0.37      0.37      0.37       245\n",
      "weighted avg       0.45      0.47      0.46       245\n",
      "\n"
     ]
    }
   ],
   "source": [
    "print(classification_report(Test_y_1, Pred_y_1))"
   ]
  },
  {
   "cell_type": "code",
   "execution_count": 139,
   "metadata": {},
   "outputs": [
    {
     "name": "stdout",
     "output_type": "stream",
     "text": [
      "              precision    recall  f1-score   support\n",
      "\n",
      "          -1       0.42      0.34      0.37        95\n",
      "           0       0.33      0.18      0.23        71\n",
      "           1       0.30      0.48      0.37        79\n",
      "\n",
      "    accuracy                           0.34       245\n",
      "   macro avg       0.35      0.33      0.32       245\n",
      "weighted avg       0.35      0.34      0.33       245\n",
      "\n"
     ]
    }
   ],
   "source": [
    "print(classification_report(Test_y_3, Pred_y_3))"
   ]
  },
  {
   "cell_type": "markdown",
   "metadata": {},
   "source": [
    "### Whew, this is the end of part 2. For this part, coding is relatively easy compared to the first. However, the tough part is tweaking hyperparameters to get higher validation score. I have to admit that it is difficult to raise validation score significantly beyond this point. Here are some quick notes about what I could observe. I think that could help refine the topic that we could go next, using this as the starting point.\n",
    "\n",
    "- Using dummy classifier, we see the shifting sand in the distribution of (up, sideway, down), and the prediction gets worse as we increase window length.  \n",
    "- Using lagged dependent variable in logistic regression classifier, it is not better than dummy classifier. Unfortunately, the same holds true for the full model using logistic regression framework.  \n",
    "- Using decision tree classifiers (including RF and GBDT), for window lengths of 1 day - 10 days, I do not see any improvements (esp 1-5 days). However, we could see significant improvement (from 30% to 45% accuracy) in window lengths of 14 days & 20 days. The longer, the better the prediction is (seems counterintuitive?) This is confirmed by running the model with test set.  \n",
    "- By inspecting the classification report, for RF, as we increase time span, the model tries to ignore sideway as it became less common. This model is more like a bit risk-seeking because it tries to ignore sideway and bets up or down. However, for GBDT, the degree of aggressiveness is less compared to RF.  \n",
    "- By inspecting the feature importances, I could notice that as we increase the time span, \"trend\", \"momentum\" (esp CCI, MACD) are less important over window length while \"uncertainty\" (STD) is more important over window length. (Importance is measured by feature importances as explanatory power in RF and GBDT)\n",
    "- Looking at similarities among classification report (esp window_length = 14, 20), for (down) the precision is high and recall is low, implying that if the model says stock is going to go down, then it is likely so. However, for (up) the precision is low and recall is high, implying that among opportunities when stock index is going to rise, the model is likely to capture that opportunity. However, by capturing opportunity, it generates more false alarms."
   ]
  },
  {
   "cell_type": "code",
   "execution_count": null,
   "metadata": {},
   "outputs": [],
   "source": []
  }
 ],
 "metadata": {
  "kernelspec": {
   "display_name": "Python 3",
   "language": "python",
   "name": "python3"
  },
  "language_info": {
   "codemirror_mode": {
    "name": "ipython",
    "version": 3
   },
   "file_extension": ".py",
   "mimetype": "text/x-python",
   "name": "python",
   "nbconvert_exporter": "python",
   "pygments_lexer": "ipython3",
   "version": "3.7.6"
  }
 },
 "nbformat": 4,
 "nbformat_minor": 4
}
